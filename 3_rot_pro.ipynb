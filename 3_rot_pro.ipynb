{
 "cells": [
  {
   "cell_type": "markdown",
   "metadata": {},
   "source": [
    "# 4 - Process rotary data\n",
    "\n",
    "Loads adjusted data and formats for spectral analysis."
   ]
  },
  {
   "cell_type": "markdown",
   "metadata": {},
   "source": [
    "## Imports\n",
    "\n",
    "Necessary modules for analysis."
   ]
  },
  {
   "cell_type": "code",
   "execution_count": 1,
   "metadata": {
    "ExecuteTime": {
     "end_time": "2021-04-01T18:00:31.939644Z",
     "start_time": "2021-04-01T18:00:30.674577Z"
    },
    "code_folding": [
     0
    ]
   },
   "outputs": [],
   "source": [
    "# import modules\n",
    "\n",
    "import xarray as xr\n",
    "import numpy as np\n",
    "import scipy.signal as sig\n",
    "from scipy.stats import chi2\n",
    "for i in range(2):\n",
    "    %matplotlib notebook"
   ]
  },
  {
   "cell_type": "code",
   "execution_count": 2,
   "metadata": {
    "ExecuteTime": {
     "end_time": "2021-04-01T18:00:32.018162Z",
     "start_time": "2021-04-01T18:00:31.942065Z"
    },
    "code_folding": [
     7,
     13
    ],
    "scrolled": true
   },
   "outputs": [],
   "source": [
    "# import data\n",
    "\n",
    "adcp = 'Slope'     # Slope(2013,2014,2017,2018), Axis75(2013,2014), Axis55(2017,2018)\n",
    "year = 2018\n",
    "ds_in = xr.open_dataset(f'../Data/data/adj/adj_{adcp}_{year}_0.nc')\n",
    "\n",
    "n_seg = ds_in.n_seg\n",
    "if n_seg > 1:\n",
    "    ds = [ds_in]\n",
    "    for i in range(n_seg):\n",
    "        if i > 0:\n",
    "            ds_temp = xr.open_dataset(f'../Data/data/adj/adj_{adcp}_{year}_{i}.nc')\n",
    "            ds.append(ds_temp)\n",
    "elif n_seg == 1:\n",
    "    ds = [ds_in]\n",
    "    \n",
    "# print(ds)"
   ]
  },
  {
   "cell_type": "code",
   "execution_count": 3,
   "metadata": {
    "ExecuteTime": {
     "end_time": "2021-04-01T18:00:32.024988Z",
     "start_time": "2021-04-01T18:00:32.020838Z"
    },
    "code_folding": [
     0
    ]
   },
   "outputs": [],
   "source": [
    "# extract variables\n",
    "\n",
    "t_stamp = ds[0].t_stamp\n",
    "depth = ds[0].depth.values\n",
    "d = ds[0].d\n",
    "start_date = ds[0].start_date\n",
    "end_date = ds[0].end_date"
   ]
  },
  {
   "cell_type": "markdown",
   "metadata": {},
   "source": [
    "## Format rotary data\n",
    "Removes the mean from each depth. Performs rotary process with optimised parameters for visual analysis of spectra. Calculates 95% confidence intervals using a chi$^2$ method, the GM reference spectra is imported from gm.ipynb, WKB scaling is applied, and the noise floor is shown."
   ]
  },
  {
   "cell_type": "code",
   "execution_count": 4,
   "metadata": {
    "ExecuteTime": {
     "end_time": "2021-04-01T18:00:32.036043Z",
     "start_time": "2021-04-01T18:00:32.027412Z"
    },
    "code_folding": [
     0
    ]
   },
   "outputs": [
    {
     "name": "stdout",
     "output_type": "stream",
     "text": [
      "Total time length: 31363\n",
      "0 segment(s) too short, new total time length: 31363\n"
     ]
    }
   ],
   "source": [
    "# spectra data adjustments & Welch parameters\n",
    "\n",
    "time_total = 0\n",
    "for i in range(n_seg):\n",
    "    time_total += len(ds[i].t_seg)\n",
    "print('Total time length:',time_total)\n",
    "\n",
    "# set Welch parameters\n",
    "\n",
    "fs = 1.11e-3                  # 4 samples per HOUR, 1.11e-3 per SECOND\n",
    "win = 'hann'                  # optimal window for averaging\n",
    "if time_total >= 20000:\n",
    "    nps = 1024                # find optimal window for nperseg (1024 ~10 days)\n",
    "elif time_total < 20000:\n",
    "    nps = 512\n",
    "overlap = nps // 2            # 50% overlap, default   \n",
    "\n",
    "# remove short segments\n",
    "\n",
    "t_short = []\n",
    "for i in range(n_seg):\n",
    "    if len(ds[i].t_seg) < nps:\n",
    "        t_short.append(i)\n",
    "for i in sorted(t_short, reverse=True):\n",
    "    del ds[i]\n",
    "n_seg = n_seg - len(t_short)\n",
    "\n",
    "time_total = 0\n",
    "for i in range(n_seg):\n",
    "    time_total += len(ds[i].t_seg)\n",
    "print(len(t_short),'segment(s) too short, new total time length:',time_total)"
   ]
  },
  {
   "cell_type": "code",
   "execution_count": 5,
   "metadata": {
    "ExecuteTime": {
     "end_time": "2021-04-01T18:00:32.101883Z",
     "start_time": "2021-04-01T18:00:32.037981Z"
    },
    "code_folding": [
     0
    ]
   },
   "outputs": [],
   "source": [
    "# remove mean at each depth\n",
    "\n",
    "um,vm = [],[]\n",
    "for i in range(n_seg):\n",
    "    um_seg,vm_seg = [],[]\n",
    "    uorig_temp = ds[i].uorig.values\n",
    "    vorig_temp = ds[i].vorig.values\n",
    "    for j in range(d):\n",
    "        umtemp = np.copy(uorig_temp[:,j]) - np.nanmean(uorig_temp[:,j])\n",
    "        vmtemp = np.copy(vorig_temp[:,j]) - np.nanmean(vorig_temp[:,j])\n",
    "        um_seg.append(umtemp)\n",
    "        vm_seg.append(vmtemp)\n",
    "    um.append(um_seg)     # list[segment][depth][time]\n",
    "    vm.append(vm_seg)     # 0 is upper depth index"
   ]
  },
  {
   "cell_type": "code",
   "execution_count": 6,
   "metadata": {
    "ExecuteTime": {
     "end_time": "2021-04-01T18:00:32.109977Z",
     "start_time": "2021-04-01T18:00:32.103806Z"
    },
    "code_folding": [
     0
    ]
   },
   "outputs": [],
   "source": [
    "# define rotary spectra function\n",
    "\n",
    "def spec_rot(u, v):\n",
    "    puf, pu = sig.welch(u,fs=fs,window=win,nperseg=nps,noverlap=overlap,return_onesided=False)  # auto-spectrum for u\n",
    "    pvf, pv = sig.welch(v,fs=fs,window=win,nperseg=nps,noverlap=overlap,return_onesided=False)  # auto-spectrum for v\n",
    "    cuvf, cuv = sig.csd(v,u,fs=fs,window=win,nperseg=nps,noverlap=overlap,return_onesided=False)# cross spectra (u,v --> v,u)\n",
    "    quv = cuv.imag                                      # quadrature spectrum, imaginary part of cross spectra\n",
    "    cw = ((pu + pv) - (2*quv)) / 2                      # rotatory components\n",
    "    ccw = ((pu + pv) + (2*quv)) / 2\n",
    "    F = puf                                             # frequency range (two-sided)\n",
    "    \n",
    "    return cuv, quv, cw, ccw, F"
   ]
  },
  {
   "cell_type": "code",
   "execution_count": 7,
   "metadata": {
    "ExecuteTime": {
     "end_time": "2021-04-01T18:00:32.285872Z",
     "start_time": "2021-04-01T18:00:32.112019Z"
    },
    "code_folding": [
     0
    ]
   },
   "outputs": [],
   "source": [
    "# rotary spectra at each depth\n",
    "\n",
    "f_rot,cw_real,ccw_real = [],[],[]\n",
    "for i in range(n_seg):\n",
    "    cw_real_seg,ccw_real_seg = [],[]\n",
    "    for j in range(d):\n",
    "        cuv, quv, cw, ccw, f_rot_tot = spec_rot(um[i][j],vm[i][j])       # get rotary components (cw and ccw) and frequency range (f)\n",
    "        half_idx = int((len(cw)/2))                            # discard half spectrum for real data \n",
    "        cw_real_seg.append(cw[0:half_idx]*2)                         # mult. amplitude by 2 to account for discarded data\n",
    "        ccw_real_seg.append(ccw[0:half_idx]*2)     \n",
    "    cw_real.append(cw_real_seg)\n",
    "    ccw_real.append(ccw_real_seg)\n",
    "f_rot.append(f_rot_tot[0:half_idx] ) # real frequency range (up to Nyquist)"
   ]
  },
  {
   "cell_type": "code",
   "execution_count": 8,
   "metadata": {
    "ExecuteTime": {
     "end_time": "2021-04-01T18:00:32.297400Z",
     "start_time": "2021-04-01T18:00:32.289594Z"
    },
    "code_folding": [
     0
    ]
   },
   "outputs": [],
   "source": [
    "# combine rotary segments and average with weighting, for each depth\n",
    "\n",
    "time_weights = []\n",
    "for i in range(n_seg):\n",
    "    t_len = len(ds[i].t_seg)\n",
    "    weight_temp = t_len/time_total\n",
    "    time_weights.append(weight_temp)\n",
    "\n",
    "cww_rot,ccww_rot = [],[]\n",
    "for j in range(d):\n",
    "    cww_rot_temp,ccww_rot_temp = [],[]\n",
    "    for i in range(n_seg):\n",
    "        if i == 0:\n",
    "            cww_rot_temp.append(cw_real[i][j]*time_weights[i])\n",
    "            ccww_rot_temp.append(ccw_real[i][j]*time_weights[i])\n",
    "        elif i > 0:\n",
    "            cww_rot_temp += (cw_real[i][j]*time_weights[i])\n",
    "            ccww_rot_temp += (ccw_real[i][j]*time_weights[i])\n",
    "    cww_rot.append(cww_rot_temp[0])      # list[depth][frequency]\n",
    "    ccww_rot.append(ccww_rot_temp[0])"
   ]
  },
  {
   "cell_type": "code",
   "execution_count": 9,
   "metadata": {
    "ExecuteTime": {
     "end_time": "2021-04-01T18:00:32.306193Z",
     "start_time": "2021-04-01T18:00:32.300828Z"
    },
    "code_folding": [
     0
    ],
    "scrolled": false
   },
   "outputs": [],
   "source": [
    "# apply WKB scaling at each depth\n",
    "\n",
    "scaling_array = np.load('../project/archive/N2/scaling_array.npy')\n",
    "GM_depths = scaling_array[0]                          # depths range from -4 to -924 metres\n",
    "GM_scale = scaling_array[1]\n",
    "int_scale = np.interp(depth,-GM_depths,GM_scale)\n",
    "\n",
    "cw_rot_WKB,ccw_rot_WKB = [],[]\n",
    "\n",
    "for i in range(d):                                    # values go in descending depth (0 is upper index)\n",
    "    cw_rot_WKB.append(cww_rot[i]/int_scale[i])        # list[depth][frequency]\n",
    "    ccw_rot_WKB.append(ccww_rot[i]/int_scale[i])"
   ]
  },
  {
   "cell_type": "code",
   "execution_count": 10,
   "metadata": {
    "ExecuteTime": {
     "end_time": "2021-04-01T18:00:32.316612Z",
     "start_time": "2021-04-01T18:00:32.308153Z"
    },
    "code_folding": [
     0
    ]
   },
   "outputs": [],
   "source": [
    "# error bars (95% confidence intervals) for each depth\n",
    "\n",
    "probability = 0.95                            # calculate confidence intervals\n",
    "alpha = 1 - probability        \n",
    "NS = time_total / (nps / 2)                   # number of estimates, Welch\n",
    "vp = (4/3)*NS                                 # for tapered windows\n",
    "cp = chi2.ppf([1 - alpha / 2, alpha / 2], vp) # chi**2 distribution\n",
    "cint = vp/cp                                  # interval coefficients\n",
    "\n",
    "cw_conf_lower,cw_conf_upper,ccw_conf_lower,ccw_conf_upper = [],[],[],[]\n",
    "for i in range(d):\n",
    "    cw_conf_lower.append(cw_rot_WKB[i] * cint[0])               # define upper and lower confidence values\n",
    "    cw_conf_upper.append(cw_rot_WKB[i] * cint[1])\n",
    "    ccw_conf_lower.append(ccw_rot_WKB[i] * cint[0])             # define upper and lower confidence values\n",
    "    ccw_conf_upper.append(ccw_rot_WKB[i] * cint[1])             # list[depth][frequency]"
   ]
  },
  {
   "cell_type": "markdown",
   "metadata": {},
   "source": [
    "## Save\n",
    "Save key values and arrays to NetCDF format using xarray."
   ]
  },
  {
   "cell_type": "code",
   "execution_count": 11,
   "metadata": {
    "ExecuteTime": {
     "end_time": "2021-04-01T18:00:32.343054Z",
     "start_time": "2021-04-01T18:00:32.318615Z"
    },
    "code_folding": [],
    "scrolled": false
   },
   "outputs": [],
   "source": [
    "# save to .nc files\n",
    "\n",
    "ds_out = xr.Dataset( \n",
    "    data_vars=dict(\n",
    "        cw_rot=(['depth','f_rot'], cw_rot_WKB),           # adjusted PSD data for each depth\n",
    "        ccw_rot=(['depth','f_rot'], ccw_rot_WKB),\n",
    "        cw_conf_lower=(['depth','f_rot'], cw_conf_lower),   # confidence intervals for PSD data at each depth\n",
    "        cw_conf_upper=(['depth','f_rot'], cw_conf_upper),\n",
    "        ccw_conf_lower=(['depth','f_rot'], ccw_conf_lower),\n",
    "        ccw_conf_upper=(['depth','f_rot'], ccw_conf_upper),\n",
    "    ),\n",
    "    coords=dict(\n",
    "        depth=depth,                 # depth values\n",
    "        f_rot=f_rot[0],              # PSD frequency bins\n",
    "    ),\n",
    "    attrs=dict(\n",
    "        description=f'Rotary data for {adcp} {t_stamp}.',\n",
    "        adcp=adcp,                   # adcp\n",
    "        t_stamp=t_stamp,             # time stamp\n",
    "        t=time_total,                # length of initial time series\n",
    "        d=d,                         # depth range\n",
    "        start_date=start_date,       # start date of initial time series\n",
    "        end_date=end_date,           # end date of initial time series\n",
    "        fs=fs,                       # sampling frequency\n",
    "        window=win,                  # fft window\n",
    "        nps=nps,                     # fft segment length\n",
    "        overlap=overlap,             # fft window overlap\n",
    "    ),\n",
    ") \n",
    "\n",
    "ds_out.to_netcdf(f'../Data/data/rot/rot_{adcp}_{t_stamp}.nc')"
   ]
  },
  {
   "cell_type": "code",
   "execution_count": null,
   "metadata": {},
   "outputs": [],
   "source": []
  }
 ],
 "metadata": {
  "kernelspec": {
   "display_name": "Python 3",
   "language": "python",
   "name": "python3"
  },
  "language_info": {
   "codemirror_mode": {
    "name": "ipython",
    "version": 3
   },
   "file_extension": ".py",
   "mimetype": "text/x-python",
   "name": "python",
   "nbconvert_exporter": "python",
   "pygments_lexer": "ipython3",
   "version": "3.7.7"
  },
  "toc": {
   "base_numbering": 1,
   "nav_menu": {},
   "number_sections": true,
   "sideBar": true,
   "skip_h1_title": false,
   "title_cell": "Table of Contents",
   "title_sidebar": "Contents",
   "toc_cell": false,
   "toc_position": {},
   "toc_section_display": true,
   "toc_window_display": false
  },
  "varInspector": {
   "cols": {
    "lenName": 16,
    "lenType": 16,
    "lenVar": 40
   },
   "kernels_config": {
    "python": {
     "delete_cmd_postfix": "",
     "delete_cmd_prefix": "del ",
     "library": "var_list.py",
     "varRefreshCmd": "print(var_dic_list())"
    },
    "r": {
     "delete_cmd_postfix": ") ",
     "delete_cmd_prefix": "rm(",
     "library": "var_list.r",
     "varRefreshCmd": "cat(var_dic_list()) "
    }
   },
   "types_to_exclude": [
    "module",
    "function",
    "builtin_function_or_method",
    "instance",
    "_Feature"
   ],
   "window_display": false
  }
 },
 "nbformat": 4,
 "nbformat_minor": 4
}
