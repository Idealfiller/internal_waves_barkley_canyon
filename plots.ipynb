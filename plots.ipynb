{
 "cells": [
  {
   "cell_type": "code",
   "execution_count": null,
   "metadata": {},
   "outputs": [],
   "source": [
    "import xarray as xr\n",
    "import matplotlib.pyplot as plt\n",
    "import numpy as np\n",
    "get_ipython().run_line_magic('matplotlib', 'notebook')\n",
    "%matplotlib notebook\n",
    "# interactive plots, must add before each plot or they will all add to same plot"
   ]
  },
  {
   "cell_type": "code",
   "execution_count": null,
   "metadata": {},
   "outputs": [],
   "source": [
    "# MidEast January\n",
    "# with xr.open_dataset('../Desktop/MidEastJan.nc') as ds:  (on Mac)\n",
    "with xr.open_dataset('../Oct30/Jan/MidEast/MidEastJan.nc') as ds:\n",
    "    print(ds)"
   ]
  },
  {
   "cell_type": "code",
   "execution_count": null,
   "metadata": {},
   "outputs": [],
   "source": [
    "with xr.open_dataset('../Oct30/Jan/MidEast/MidEastJan.nc') as ds:\n",
    "    fig, (ax1,ax2,ax3) = plt.subplots(3, 1, sharex=True, figsize=(9,10))\n",
    "    fig.subplots_adjust(hspace = 0.1)\n",
    "    \n",
    "    ax1.set_title('MidEast ADCP 150 kHz - January 2018 - u, v, w velocities')\n",
    "    ax1.set_ylabel('Depth [m]')\n",
    "    im1 = ax1.pcolormesh(np.linspace(0,30,720), -ds.depth, ds.u.T, rasterized=True, cmap='bwr')\n",
    "    cbar1 = fig.colorbar(im1, ax=ax1, fraction=0.05, pad=0.02, aspect=40)\n",
    "    cbar1.set_label('Velocity [m/s]')\n",
    "    \n",
    "    im2 = ax2.pcolormesh(np.linspace(0,30,720), -ds.depth, ds.v.T, rasterized=True, cmap='bwr')\n",
    "    cbar2 = fig.colorbar(im2, ax=ax2, fraction=0.05, pad=0.02, aspect=40)\n",
    "    \n",
    "    ax3.set_xlabel('Time [days]')\n",
    "    im3 = ax3.pcolormesh(np.linspace(0,30,720), -ds.depth, ds.w.T, rasterized=True, cmap='bwr')\n",
    "    cbar3 = fig.colorbar(im3, ax=ax3, fraction=0.05, pad=0.02, aspect=40)"
   ]
  },
  {
   "cell_type": "code",
   "execution_count": null,
   "metadata": {},
   "outputs": [],
   "source": [
    "# Axis January\n",
    "with xr.open_dataset('../Oct30/Jan/Axis/AxisJan.nc') as ds:\n",
    "    print(ds)"
   ]
  },
  {
   "cell_type": "code",
   "execution_count": null,
   "metadata": {},
   "outputs": [],
   "source": [
    "with xr.open_dataset('../Oct30/Jan/Axis/AxisJan.nc') as ds:\n",
    "    fig, (ax1,ax2,ax3) = plt.subplots(3, 1, sharex=True, figsize=(9,10))\n",
    "    fig.subplots_adjust(hspace = 0.1)\n",
    "    \n",
    "    ax1.set_title('Axis ADCP 75 kHz - January 2018 - u, v, w velocities')\n",
    "    ax1.set_ylabel('Depth [m]')\n",
    "    im1 = ax1.pcolormesh(np.linspace(0,30,720), -ds.depth, ds.u.T, rasterized=True, cmap='bwr')\n",
    "    cbar1 = fig.colorbar(im1, ax=ax1, fraction=0.05, pad=0.02, aspect=40)\n",
    "    cbar1.set_label('Velocity [m/s]')\n",
    "    \n",
    "    im2 = ax2.pcolormesh(np.linspace(0,30,720), -ds.depth, ds.v.T, rasterized=True, cmap='bwr')\n",
    "    cbar2 = fig.colorbar(im2, ax=ax2, fraction=0.05, pad=0.02, aspect=40)\n",
    "    \n",
    "    ax3.set_xlabel('Time [days]')\n",
    "    im3 = ax3.pcolormesh(np.linspace(0,30,720), -ds.depth, ds.w.T, rasterized=True, cmap='bwr')\n",
    "    cbar3 = fig.colorbar(im3, ax=ax3, fraction=0.05, pad=0.02, aspect=40)"
   ]
  },
  {
   "cell_type": "code",
   "execution_count": null,
   "metadata": {},
   "outputs": [],
   "source": [
    "# Upper Slope January\n",
    "with xr.open_dataset('../Oct30/Jan/UpperSlope/UpperSlopeJan.nc') as ds:\n",
    "    print(ds)"
   ]
  },
  {
   "cell_type": "code",
   "execution_count": null,
   "metadata": {},
   "outputs": [],
   "source": [
    "with xr.open_dataset('../Oct30/Jan/UpperSlope/UpperSlopeJan.nc') as ds:\n",
    "    fig, (ax1,ax2,ax3) = plt.subplots(3, 1, sharex=True, figsize=(9,10))\n",
    "    fig.subplots_adjust(hspace = 0.1)\n",
    "    \n",
    "    ax1.set_title('Upper Slope ADCP 75 kHz - January 2018 - u, v, w velocities')\n",
    "    ax1.set_ylabel('Depth [m]')\n",
    "    im1 = ax1.pcolormesh(np.linspace(0,30,720), -ds.depth, ds.u.T, rasterized=True, cmap='bwr')\n",
    "    cbar1 = fig.colorbar(im1, ax=ax1, fraction=0.05, pad=0.02, aspect=40)\n",
    "    cbar1.set_label('Velocity [m/s]')\n",
    "    \n",
    "    im2 = ax2.pcolormesh(np.linspace(0,30,720), -ds.depth, ds.v.T, rasterized=True, cmap='bwr')\n",
    "    cbar2 = fig.colorbar(im2, ax=ax2, fraction=0.05, pad=0.02, aspect=40)\n",
    "    \n",
    "    ax3.set_xlabel('Time [days]')\n",
    "    im3 = ax3.pcolormesh(np.linspace(0,30,720), -ds.depth, ds.w.T, rasterized=True, cmap='bwr')\n",
    "    cbar3 = fig.colorbar(im3, ax=ax3, fraction=0.05, pad=0.02, aspect=40)"
   ]
  },
  {
   "cell_type": "code",
   "execution_count": null,
   "metadata": {},
   "outputs": [],
   "source": [
    "# MidEast July\n",
    "with xr.open_dataset('../Oct30/Jul/MidEast/MidEastJul.nc') as ds:\n",
    "    print(ds)"
   ]
  },
  {
   "cell_type": "code",
   "execution_count": null,
   "metadata": {},
   "outputs": [],
   "source": [
    "with xr.open_dataset('../Oct30/Jul/MidEast/MidEastJul.nc') as ds:\n",
    "    fig, (ax1,ax2,ax3) = plt.subplots(3, 1, sharex=True, figsize=(9,10))\n",
    "    fig.subplots_adjust(hspace = 0.1)\n",
    "    \n",
    "    ax1.set_title('MidEast ADCP 150 kHz - July 2018 - u, v, w velocities')\n",
    "    ax1.set_ylabel('Depth [m]')\n",
    "    im1 = ax1.pcolormesh(np.linspace(0,30,720), -ds.depth, ds.u.T, rasterized=True, cmap='bwr')\n",
    "    cbar1 = fig.colorbar(im1, ax=ax1, fraction=0.05, pad=0.02, aspect=40)\n",
    "    cbar1.set_label('Velocity [m/s]')\n",
    "    \n",
    "    im2 = ax2.pcolormesh(np.linspace(0,30,720), -ds.depth, ds.v.T, rasterized=True, cmap='bwr')\n",
    "    cbar2 = fig.colorbar(im2, ax=ax2, fraction=0.05, pad=0.02, aspect=40)\n",
    "    \n",
    "    ax3.set_xlabel('Time [days]')\n",
    "    im3 = ax3.pcolormesh(np.linspace(0,30,720), -ds.depth, ds.w.T, rasterized=True, cmap='bwr')\n",
    "    cbar3 = fig.colorbar(im3, ax=ax3, fraction=0.05, pad=0.02, aspect=40)"
   ]
  },
  {
   "cell_type": "code",
   "execution_count": null,
   "metadata": {},
   "outputs": [],
   "source": [
    "# Upper Slope July\n",
    "with xr.open_dataset('../Oct30/Jul/UpperSlope/UpperSlopeJul.nc') as ds:\n",
    "    print(ds)"
   ]
  },
  {
   "cell_type": "code",
   "execution_count": null,
   "metadata": {},
   "outputs": [],
   "source": [
    "with xr.open_dataset('../Oct30/Jul/UpperSlope/UpperSlopeJul.nc') as ds:\n",
    "    fig, (ax1,ax2,ax3) = plt.subplots(3, 1, sharex=True, figsize=(9,10))\n",
    "    fig.subplots_adjust(hspace = 0.1)\n",
    "    \n",
    "    ax1.set_title('Upper Slope ADCP 75 kHz - July 2018 - u, v, w velocities')\n",
    "    ax1.set_ylabel('Depth [m]')\n",
    "    im1 = ax1.pcolormesh(np.linspace(0,30,720), -ds.depth, ds.u.T, rasterized=True, cmap='bwr')\n",
    "    cbar1 = fig.colorbar(im1, ax=ax1, fraction=0.05, pad=0.02, aspect=40)\n",
    "    cbar1.set_label('Velocity [m/s]')\n",
    "    \n",
    "    im2 = ax2.pcolormesh(np.linspace(0,30,720), -ds.depth, ds.v.T, rasterized=True, cmap='bwr')\n",
    "    cbar2 = fig.colorbar(im2, ax=ax2, fraction=0.05, pad=0.02, aspect=40)\n",
    "    \n",
    "    ax3.set_xlabel('Time [days]')\n",
    "    im3 = ax3.pcolormesh(np.linspace(0,30,720), -ds.depth, ds.w.T, rasterized=True, cmap='bwr')\n",
    "    cbar3 = fig.colorbar(im3, ax=ax3, fraction=0.05, pad=0.02, aspect=40)"
   ]
  },
  {
   "cell_type": "code",
   "execution_count": null,
   "metadata": {},
   "outputs": [],
   "source": []
  }
 ],
 "metadata": {
  "kernelspec": {
   "display_name": "Python 3",
   "language": "python",
   "name": "python3"
  },
  "language_info": {
   "codemirror_mode": {
    "name": "ipython",
    "version": 3
   },
   "file_extension": ".py",
   "mimetype": "text/x-python",
   "name": "python",
   "nbconvert_exporter": "python",
   "pygments_lexer": "ipython3",
   "version": "3.7.4"
  }
 },
 "nbformat": 4,
 "nbformat_minor": 4
}
