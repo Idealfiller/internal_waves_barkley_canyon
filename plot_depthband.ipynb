{
 "cells": [
  {
   "cell_type": "markdown",
   "metadata": {},
   "source": [
    "# Depth-band plots\n",
    "\n",
    "Loads depth-frequency-time data and then plots integrated depth-band power for various circumstances."
   ]
  },
  {
   "cell_type": "markdown",
   "metadata": {},
   "source": [
    "## Imports\n",
    "Necessary modules for analysis."
   ]
  },
  {
   "cell_type": "code",
   "execution_count": 1,
   "metadata": {
    "ExecuteTime": {
     "end_time": "2021-04-22T19:28:48.052386Z",
     "start_time": "2021-04-22T19:28:47.093699Z"
    },
    "code_folding": [
     0
    ]
   },
   "outputs": [],
   "source": [
    "# import modules\n",
    "\n",
    "import xarray as xr\n",
    "import datetime as dt\n",
    "import matplotlib.pyplot as plt\n",
    "import matplotlib.colors as colors\n",
    "import matplotlib.dates as pldates\n",
    "import numpy as np\n",
    "for i in range(2):\n",
    "    %matplotlib notebook"
   ]
  },
  {
   "cell_type": "code",
   "execution_count": 13,
   "metadata": {
    "ExecuteTime": {
     "end_time": "2021-04-22T19:36:51.825996Z",
     "start_time": "2021-04-22T19:36:51.784605Z"
    },
    "code_folding": [
     7,
     13
    ],
    "scrolled": true
   },
   "outputs": [],
   "source": [
    "# import data\n",
    "\n",
    "adcp = 'Axis75'     # Slope(2013,2014,2017,2018), Axis75(2013,2014), Axis55(2017,2018)\n",
    "year = 2013\n",
    "ds_in = xr.open_dataset(f'../Data/data/spectra/spectra_{adcp}_{year}_0.nc')\n",
    "\n",
    "n_seg = ds_in.n_seg\n",
    "if n_seg > 1:\n",
    "    ds = [ds_in]\n",
    "    for i in range(n_seg):\n",
    "        if i > 0:\n",
    "            ds_temp = xr.open_dataset(f'../Data/data/spectra/spectra_{adcp}_{year}_{i}.nc')\n",
    "            ds.append(ds_temp)\n",
    "elif n_seg == 1:\n",
    "    ds = [ds_in]\n",
    "\n",
    "#print(ds)"
   ]
  },
  {
   "cell_type": "code",
   "execution_count": 14,
   "metadata": {
    "ExecuteTime": {
     "end_time": "2021-04-22T19:36:53.220348Z",
     "start_time": "2021-04-22T19:36:53.215469Z"
    },
    "code_folding": [
     0
    ]
   },
   "outputs": [],
   "source": [
    "# extract plotting variables\n",
    "\n",
    "t_stamp = int(ds[0].t_stamp)\n",
    "start_date = dt.datetime(t_stamp,1,1)                                   # input start date in YYYY,MM,DD\n",
    "end_date = dt.datetime(t_stamp+1,1,1)                                     # input end date in YYYY,MM,DD\n",
    "depth = ds[0].depth.values\n",
    "d = len(depth)"
   ]
  },
  {
   "cell_type": "code",
   "execution_count": 15,
   "metadata": {
    "ExecuteTime": {
     "end_time": "2021-04-22T19:36:54.154883Z",
     "start_time": "2021-04-22T19:36:54.143474Z"
    },
    "code_folding": [
     0,
     10,
     15
    ]
   },
   "outputs": [
    {
     "name": "stdout",
     "output_type": "stream",
     "text": [
      "Desired frequency band: Diurnal at 1.15e-05 Hz\n",
      "---\n",
      "Index at upper freq cutoff: 6\n",
      "Value at upper freq cutoff: 1.3007812500000002e-05 Hz\n",
      "---\n",
      "Index at lower freq cutoff: 5\n",
      "Value at lower freq cutoff: 1.083984375e-05 Hz\n",
      "---\n",
      "Length of new freq array:  2\n",
      "Upper limit at 1.3007812500000002e-05 Hz\n",
      "Lower limit at 1.083984375e-05 Hz\n"
     ]
    }
   ],
   "source": [
    "# select frequency band\n",
    "\n",
    "def find_nearest(array, value):\n",
    "    array = np.asarray(array)\n",
    "    idx = (np.abs(array - value)).argmin()\n",
    "    return idx      # returns index of nearest value\n",
    "\n",
    "f_array = np.asarray(ds[0].specf_s)    # input array to process \n",
    "\n",
    "f_name = 'Diurnal'          # Diurnal, Inertial, Semi-diurnal, Continuum\n",
    "if f_name == 'Diurnal':\n",
    "    f_freq = 1.15e-5         # desired frequency constituent\n",
    "    f_idx = find_nearest(f_array, f_freq)                 # index of desired frequency\n",
    "    up_f_idx = f_idx + 1\n",
    "    low_f_idx = f_idx \n",
    "elif f_name == 'Inertial':\n",
    "    f_freq = 1.73e-5\n",
    "    f_idx = find_nearest(f_array, f_freq)                 # index of desired frequency\n",
    "    up_f_idx = f_idx + 1\n",
    "    low_f_idx = f_idx - 1 \n",
    "\n",
    "print(\"Desired frequency band:\",f_name,'at', f_freq, \"Hz\")\n",
    "print(\"---\")\n",
    "print(\"Index at upper freq cutoff:\", up_f_idx)\n",
    "print(\"Value at upper freq cutoff:\", f_array[up_f_idx], \"Hz\" )\n",
    "print('---')\n",
    "print(\"Index at lower freq cutoff:\", low_f_idx)\n",
    "print(\"Value at lower freq cutoff:\", f_array[low_f_idx], \"Hz\" )\n",
    "\n",
    "f_band = f_array[low_f_idx:up_f_idx+1]              # remove unwanted frequencies\n",
    "fup_stamp = f_band[-1]                              # freq stamps for use in output\n",
    "flow_stamp = f_band[0]\n",
    "\n",
    "print('---')\n",
    "print(\"Length of new freq array: \", len(f_band))   # new freq interval\n",
    "print(f'Upper limit at',fup_stamp,'Hz')            # freq upper limit\n",
    "print(f'Lower limit at',flow_stamp,'Hz')           # freq lower limit"
   ]
  },
  {
   "cell_type": "markdown",
   "metadata": {},
   "source": [
    "## Depth-band PSD spectra"
   ]
  },
  {
   "cell_type": "code",
   "execution_count": 16,
   "metadata": {
    "ExecuteTime": {
     "end_time": "2021-04-22T19:37:04.471554Z",
     "start_time": "2021-04-22T19:36:56.855225Z"
    },
    "code_folding": [
     0
    ]
   },
   "outputs": [],
   "source": [
    "# integrate over band for each time step\n",
    "\n",
    "u_power, v_power = [],[]\n",
    "\n",
    "for i in range(n_seg):\n",
    "    t = len(ds[i].spect_s)\n",
    "    u_depth_power_temp,v_depth_power_temp = [],[]\n",
    "    for j in range(d):\n",
    "        u_time_power_temp,v_time_power_temp = [],[]\n",
    "        for k in range(t):\n",
    "            u_PSD_temp = ds[i].Sxxu_d[j,low_f_idx:up_f_idx+1,k]\n",
    "            u_power_temp = np.trapz(y=u_PSD_temp,x=f_band)\n",
    "            u_time_power_temp.append(u_power_temp)\n",
    "            v_PSD_temp = ds[i].Sxxv_d[j,low_f_idx:up_f_idx+1,k]\n",
    "            v_power_temp = np.trapz(y=v_PSD_temp,x=f_band)\n",
    "            v_time_power_temp.append(v_power_temp)\n",
    "        u_depth_power_temp.append(u_time_power_temp)\n",
    "        v_depth_power_temp.append(v_time_power_temp)\n",
    "    u_np = np.asarray(u_depth_power_temp)\n",
    "    v_np = np.asarray(v_depth_power_temp)\n",
    "    u_power.append(u_np)            # n_seg, [depth, time]\n",
    "    v_power.append(v_np)            # n_seg, [depth, time]"
   ]
  },
  {
   "cell_type": "code",
   "execution_count": 17,
   "metadata": {
    "ExecuteTime": {
     "end_time": "2021-04-22T19:37:05.230900Z",
     "start_time": "2021-04-22T19:37:05.150817Z"
    },
    "code_folding": [
     0
    ]
   },
   "outputs": [],
   "source": [
    "# WKB scale at each depth\n",
    "\n",
    "u_WKB,v_WKB = [],[]\n",
    "for i in range(n_seg):\n",
    "    u_WKB_temp,v_WKB_temp = [],[]\n",
    "    for j in range(d):\n",
    "        u_WKB_temp.append(u_power[i][j] / ds[0].WKB_scale[j].values)          # list[depth][frequency]\n",
    "        v_WKB_temp.append(v_power[i][j] / ds[0].WKB_scale[j].values)          # list[depth][frequency]\n",
    "    u_WKB.append(u_WKB_temp)\n",
    "    v_WKB.append(v_WKB_temp)"
   ]
  },
  {
   "cell_type": "code",
   "execution_count": null,
   "metadata": {
    "code_folding": [
     0,
     11,
     16,
     22,
     27
    ],
    "scrolled": false
   },
   "outputs": [],
   "source": [
    "# plot PSD frequency band power versus depth\n",
    "\n",
    "fig,(ax0,ax1) = plt.subplots(2,1,figsize=(12,7),sharey=True,sharex=True)\n",
    "fig.subplots_adjust(hspace = 0.08)\n",
    "\n",
    "fig.text(0.5, 0.92, f'{f_name} PSD power - {adcp} - {t_stamp}', ha='center', fontsize=12)\n",
    "fig.text(0.061, 0.5, 'Depth [m]', va='center', rotation='vertical',fontsize=11)\n",
    "fig.text(0.91, 0.5, 'Integrated band power [(m/s)$^2$]', va='center', rotation='vertical',fontsize=11)\n",
    "fig.text(0.5, 0.05, f'Months in {t_stamp} [mm]', ha='center',fontsize=11)\n",
    "\n",
    "if f_name == 'Diurnal':  \n",
    "    if adcp == 'Axis55' or adcp == 'Axis75':\n",
    "        vmin = 8e-5\n",
    "        vmax = 5e-3\n",
    "        fig.text(0.5, 0.885, 'Cross-canyon', ha='center', fontsize=11)\n",
    "        fig.text(0.5, 0.485, 'Along-canyon', ha='center', fontsize=11)\n",
    "    elif adcp == 'Slope':\n",
    "        vmin = 8e-5\n",
    "        vmax = 1e-3\n",
    "        fig.text(0.5, 0.885, 'Cross-slope', ha='center', fontsize=11)\n",
    "        fig.text(0.5, 0.485, 'Along-slope', ha='center', fontsize=11)\n",
    "elif f_name == 'Inertial':  \n",
    "    if adcp == 'Axis55' or adcp == 'Axis75':\n",
    "        vmin = 8e-5\n",
    "        vmax = 5e-3\n",
    "        fig.text(0.5, 0.885, 'Cross-canyon', ha='center', fontsize=11)\n",
    "        fig.text(0.5, 0.485, 'Along-canyon', ha='center', fontsize=11)\n",
    "    elif adcp == 'Slope':\n",
    "        vmin = 1e-4\n",
    "        vmax = 1e-2\n",
    "        fig.text(0.5, 0.885, 'Cross-slope', ha='center', fontsize=11)\n",
    "        fig.text(0.5, 0.485, 'Along-slope', ha='center', fontsize=11)\n",
    "\n",
    "for i in range(n_seg):\n",
    "    im0 = ax0.pcolormesh(ds[i].spect_s, -depth, u_WKB[i], rasterized=True, \\\n",
    "                            norm=colors.LogNorm(vmin=vmin, vmax=vmax), cmap='hot')  \n",
    "    im1 = ax1.pcolormesh(ds[i].spect_s, -depth, v_WKB[i], rasterized=True, \\\n",
    "                            norm=colors.LogNorm(vmin=vmin, vmax=vmax), cmap='hot')  \n",
    "\n",
    "cbar0 = fig.colorbar(im0, ax=ax0, fraction=0.05, pad=0.01, aspect=40, extend='both')\n",
    "cbar1 = fig.colorbar(im1, ax=ax1, fraction=0.05, pad=0.01, aspect=40, extend='both')  \n",
    "\n",
    "ax0.patch.set_facecolor('grey')\n",
    "ax1.patch.set_facecolor('grey')\n",
    "\n",
    "date_form = pldates.DateFormatter(\"%m\")\n",
    "ax1.xaxis.set_major_formatter(date_form)\n",
    "ax1.set_xlim(start_date,end_date)\n",
    "\n",
    "plt.show()\n",
    "\n",
    "plt.savefig(fname=f'./plots/depthband_plots/{f_name}_psd_{adcp}_{t_stamp}.pdf',format='pdf')"
   ]
  },
  {
   "cell_type": "markdown",
   "metadata": {},
   "source": [
    "### Plot w/ barotropic"
   ]
  },
  {
   "cell_type": "code",
   "execution_count": 25,
   "metadata": {
    "ExecuteTime": {
     "end_time": "2021-04-22T19:41:17.704135Z",
     "start_time": "2021-04-22T19:41:17.700449Z"
    },
    "code_folding": [
     0,
     4,
     6,
     7,
     10,
     27,
     32,
     33,
     38
    ],
    "scrolled": false
   },
   "outputs": [],
   "source": [
    "# plot PSD frequency band power versus depth w/ barotropic time series\n",
    "\n",
    "# ds_vel_in = xr.open_dataset(f'../Data/data/barotropic/{f_name}_bp_{adcp}_{year}_0.nc')\n",
    "# n_seg_vel = ds_vel_in.n_seg\n",
    "# if n_seg_vel > 1:\n",
    "#     ds_vel = [ds_vel_in]\n",
    "#     for i in range(n_seg_vel):\n",
    "#         if i > 0:\n",
    "#             ds_temp_vel = xr.open_dataset(f'../Data/data/barotropic/{f_name}_bp_{adcp}_{year}_{i}.nc')\n",
    "#             ds_vel.append(ds_temp_vel)\n",
    "# elif n_seg_vel == 1:\n",
    "#     ds_vel = [ds_vel_in]\n",
    "\n",
    "# fig,(ax0,ax1) = plt.subplots(2,1,figsize=(12,7),sharey=True,sharex=True)\n",
    "# fig.subplots_adjust(hspace = 0.08)\n",
    "\n",
    "# fig.text(0.5, 0.92, f'{f_name} PSD power w/ barotropic - {adcp} - {t_stamp}', ha='center', fontsize=12)\n",
    "# fig.text(0.061, 0.5, 'Depth [m]', va='center', rotation='vertical',fontsize=11)\n",
    "# fig.text(0.91, 0.5, 'Integrated band power [(m/s)$^2$]', va='center', rotation='vertical',fontsize=11)\n",
    "# fig.text(0.5, 0.05, f'Months in {t_stamp} [mm]', ha='center',fontsize=11)\n",
    "\n",
    "# if f_name == 'Diurnal':  \n",
    "#     if adcp == 'Axis55' or adcp == 'Axis75':\n",
    "#         vmin = 8e-5\n",
    "#         vmax = 5e-3\n",
    "#         fig.text(0.5, 0.885, 'Cross-canyon', ha='center', fontsize=11)\n",
    "#         fig.text(0.5, 0.485, 'Along-canyon', ha='center', fontsize=11)\n",
    "#     elif adcp == 'Slope':\n",
    "#         vmin = 8e-5\n",
    "#         vmax = 1e-3\n",
    "#         fig.text(0.5, 0.885, 'Cross-slope', ha='center', fontsize=11)\n",
    "#         fig.text(0.5, 0.485, 'Along-slope', ha='center', fontsize=11)\n",
    "# elif f_name == 'Inertial':  \n",
    "#     if adcp == 'Axis55' or adcp == 'Axis75':\n",
    "#         vmin = 8e-5\n",
    "#         vmax = 5e-3\n",
    "#         fig.text(0.5, 0.885, 'Cross-canyon', ha='center', fontsize=11)\n",
    "#         fig.text(0.5, 0.485, 'Along-canyon', ha='center', fontsize=11)\n",
    "#     elif adcp == 'Slope':\n",
    "#         vmin = 1e-4\n",
    "#         vmax = 1e-2\n",
    "#         fig.text(0.5, 0.885, 'Cross-slope', ha='center', fontsize=11)\n",
    "#         fig.text(0.5, 0.485, 'Along-slope', ha='center', fontsize=11)\n",
    "\n",
    "# dloc = (depth[-1]+depth[0])/2\n",
    "# for i in range(n_seg):\n",
    "#     im0 = ax0.pcolormesh(ds[i].spect_s, -depth, u_WKB[i], rasterized=True, \\\n",
    "#                             norm=colors.LogNorm(vmin=vmin, vmax=vmax), cmap='hot') \n",
    "#     im0vel = ax0.plot(ds_vel[i].t_seg,(ds_vel[i].ubp.mean(dim='depth')*1000)-dloc,color='C0',alpha=0.5)\n",
    "#     im1 = ax1.pcolormesh(ds[i].spect_s, -depth, v_WKB[i], rasterized=True, \\\n",
    "#                             norm=colors.LogNorm(vmin=vmin, vmax=vmax), cmap='hot')  \n",
    "#     im1vel = ax1.plot(ds_vel[i].t_seg,(ds_vel[i].vbp.mean(dim='depth')*1000)-dloc,color='C0',alpha=0.5)\n",
    "\n",
    "# cbar0 = fig.colorbar(im0, ax=ax0, fraction=0.05, pad=0.01, aspect=40, extend='both')\n",
    "# cbar1 = fig.colorbar(im1, ax=ax1, fraction=0.05, pad=0.01, aspect=40, extend='both')  \n",
    "\n",
    "# ax0.patch.set_facecolor('grey')\n",
    "# ax1.patch.set_facecolor('grey')\n",
    "\n",
    "# date_form = pldates.DateFormatter(\"%m\")\n",
    "# ax1.xaxis.set_major_formatter(date_form)\n",
    "# ax1.set_xlim(start_date,end_date)\n",
    "\n",
    "# plt.show()"
   ]
  },
  {
   "cell_type": "markdown",
   "metadata": {},
   "source": [
    "## Depth-band rotary spectra"
   ]
  },
  {
   "cell_type": "code",
   "execution_count": 19,
   "metadata": {
    "ExecuteTime": {
     "end_time": "2021-04-22T19:38:23.428801Z",
     "start_time": "2021-04-22T19:38:15.845372Z"
    },
    "code_folding": [
     0
    ]
   },
   "outputs": [],
   "source": [
    "# integrate over band for each time step\n",
    "\n",
    "cw_power, ccw_power = [],[]\n",
    "\n",
    "for i in range(n_seg):\n",
    "    t = len(ds[i].spect_s)\n",
    "    cw_depth_power_temp,ccw_depth_power_temp = [],[]\n",
    "    for j in range(d):\n",
    "        cw_time_power_temp,ccw_time_power_temp = [],[]\n",
    "        for k in range(t):\n",
    "            cw_PSD_temp = ds[i].cw_d[j,low_f_idx:up_f_idx+1,k]\n",
    "            cw_power_temp = np.trapz(y=cw_PSD_temp,x=f_band)\n",
    "            cw_time_power_temp.append(cw_power_temp)\n",
    "            ccw_PSD_temp = ds[i].ccw_d[j,low_f_idx:up_f_idx+1,k]\n",
    "            ccw_power_temp = np.trapz(y=ccw_PSD_temp,x=f_band)\n",
    "            ccw_time_power_temp.append(ccw_power_temp)\n",
    "        cw_depth_power_temp.append(cw_time_power_temp)\n",
    "        ccw_depth_power_temp.append(ccw_time_power_temp)\n",
    "    cw_np = np.asarray(cw_depth_power_temp)\n",
    "    ccw_np = np.asarray(ccw_depth_power_temp)\n",
    "    cw_power.append(cw_np)            # n_seg, [depth, time]\n",
    "    ccw_power.append(ccw_np)            # n_seg, [depth, time]"
   ]
  },
  {
   "cell_type": "code",
   "execution_count": 20,
   "metadata": {
    "ExecuteTime": {
     "end_time": "2021-04-22T19:38:23.987144Z",
     "start_time": "2021-04-22T19:38:23.907523Z"
    },
    "code_folding": [
     0
    ]
   },
   "outputs": [],
   "source": [
    "# WKB scale at each depth\n",
    "\n",
    "cw_WKB,ccw_WKB = [],[]\n",
    "for i in range(n_seg):\n",
    "    cw_WKB_temp,ccw_WKB_temp = [],[]\n",
    "    for j in range(d):\n",
    "        cw_WKB_temp.append(cw_power[i][j] / ds[0].WKB_scale[j].values)          # list[depth][frequency]\n",
    "        ccw_WKB_temp.append(ccw_power[i][j] / ds[0].WKB_scale[j].values)          # list[depth][frequency]\n",
    "    cw_WKB.append(cw_WKB_temp)\n",
    "    ccw_WKB.append(ccw_WKB_temp)"
   ]
  },
  {
   "cell_type": "code",
   "execution_count": null,
   "metadata": {
    "code_folding": [
     0,
     12,
     19
    ]
   },
   "outputs": [],
   "source": [
    "# plot rotary frequency band power versus depth\n",
    "\n",
    "fig,(ax0,ax1) = plt.subplots(2,1,figsize=(12,7),sharey=True,sharex=True)\n",
    "fig.subplots_adjust(hspace = 0.08)\n",
    "\n",
    "fig.text(0.5, 0.92, f'{f_name} rotary power - {adcp} - {t_stamp}', ha='center', fontsize=12)\n",
    "fig.text(0.061, 0.5, 'Depth [m]', va='center', rotation='vertical',fontsize=11)\n",
    "fig.text(0.91, 0.5, 'Integrated band power [(m/s)$^2$]', va='center', rotation='vertical',fontsize=11)\n",
    "fig.text(0.5, 0.05, f'Months in {t_stamp} [mm]', ha='center',fontsize=11)\n",
    "fig.text(0.5, 0.885, 'CW', ha='center', fontsize=11)\n",
    "fig.text(0.5, 0.485, 'CCW', ha='center', fontsize=11)  \n",
    "\n",
    "if f_name == 'Diurnal':  \n",
    "    if adcp == 'Axis55' or adcp == 'Axis75':\n",
    "        vmin = 8e-5\n",
    "        vmax = 5e-3\n",
    "    elif adcp == 'Slope':\n",
    "        vmin = 8e-5\n",
    "        vmax = 1e-3    \n",
    "elif f_name == 'Inertial':  \n",
    "    if adcp == 'Axis55' or adcp == 'Axis75':\n",
    "        vmin = 8e-5\n",
    "        vmax = 5e-3\n",
    "    elif adcp == 'Slope':\n",
    "        vmin = 1e-4\n",
    "        vmax = 1e-2   \n",
    "\n",
    "for i in range(n_seg):\n",
    "    im0 = ax0.pcolormesh(ds[i].spect_s, -depth, cw_WKB[i], rasterized=True, \\\n",
    "                            norm=colors.LogNorm(vmin=vmin, vmax=vmax), cmap='hot')  \n",
    "    im1 = ax1.pcolormesh(ds[i].spect_s, -depth, ccw_WKB[i], rasterized=True, \\\n",
    "                            norm=colors.LogNorm(vmin=vmin, vmax=vmax), cmap='hot')  \n",
    "\n",
    "cbar0 = fig.colorbar(im0, ax=ax0, fraction=0.05, pad=0.01, aspect=40, extend='both')\n",
    "cbar1 = fig.colorbar(im1, ax=ax1, fraction=0.05, pad=0.01, aspect=40, extend='both')  \n",
    "\n",
    "ax0.patch.set_facecolor('grey')\n",
    "ax1.patch.set_facecolor('grey')\n",
    "\n",
    "date_form = pldates.DateFormatter(\"%m\")\n",
    "ax1.xaxis.set_major_formatter(date_form)\n",
    "ax1.set_xlim(start_date,end_date)\n",
    "\n",
    "plt.show()\n",
    "\n",
    "plt.savefig(fname=f'./plots/depthband_plots/{f_name}_rot_{adcp}_{t_stamp}.pdf',format='pdf')"
   ]
  },
  {
   "cell_type": "markdown",
   "metadata": {},
   "source": [
    "### Plot w/ barotropic"
   ]
  },
  {
   "cell_type": "code",
   "execution_count": 26,
   "metadata": {
    "ExecuteTime": {
     "end_time": "2021-04-22T19:41:30.967257Z",
     "start_time": "2021-04-22T19:41:30.963699Z"
    },
    "code_folding": [
     0,
     6,
     8,
     9,
     12,
     23,
     30
    ]
   },
   "outputs": [],
   "source": [
    "# plot rotary frequency band power versus depth w/ barotropic\n",
    "\n",
    "# get barotropic data\n",
    "\n",
    "# ds_vel_in = xr.open_dataset(f'../Data/data/barotropic/{f_name}_bp_{adcp}_{year}_0.nc')\n",
    "# n_seg_vel = ds_vel_in.n_seg\n",
    "# if n_seg_vel > 1:\n",
    "#     ds_vel = [ds_vel_in]\n",
    "#     for i in range(n_seg_vel):\n",
    "#         if i > 0:\n",
    "#             ds_temp_vel = xr.open_dataset(f'../Data/data/barotropic/{f_name}_bp_{adcp}_{year}_{i}.nc')\n",
    "#             ds_vel.append(ds_temp_vel)\n",
    "# elif n_seg_vel == 1:\n",
    "#     ds_vel = [ds_vel_in]\n",
    "\n",
    "# fig,(ax0,ax1) = plt.subplots(2,1,figsize=(12,7),sharey=True,sharex=True)\n",
    "# fig.subplots_adjust(hspace = 0.08)\n",
    "\n",
    "# fig.text(0.5, 0.92, f'{f_name} rotary power w/ barotropic - {adcp} - {t_stamp}', ha='center', fontsize=12)\n",
    "# fig.text(0.5, 0.05, f'Months in {t_stamp} [mm]', ha='center',fontsize=11)\n",
    "# fig.text(0.5, 0.885, 'CW', ha='center', fontsize=11)\n",
    "# fig.text(0.5, 0.485, 'CCW', ha='center', fontsize=11)  \n",
    "\n",
    "# if f_name == 'Diurnal':  \n",
    "#     if adcp == 'Axis55' or adcp == 'Axis75':\n",
    "#         vmin = 8e-5\n",
    "#         vmax = 5e-3\n",
    "#     elif adcp == 'Slope':\n",
    "#         vmin = 8e-5\n",
    "#         vmax = 1e-3    \n",
    "# elif f_name == 'Inertial':  \n",
    "#     if adcp == 'Axis55' or adcp == 'Axis75':\n",
    "#         vmin = 8e-5\n",
    "#         vmax = 5e-3\n",
    "#     elif adcp == 'Slope':\n",
    "#         vmin = 1e-4\n",
    "#         vmax = 1e-2   \n",
    "\n",
    "# dloc = (depth[-1]+depth[0])/2\n",
    "# for i in range(n_seg):\n",
    "#     im0 = ax0.pcolormesh(ds[i].spect_s, -depth, cw_WKB[i], rasterized=True, \\\n",
    "#                             norm=colors.LogNorm(vmin=vmin, vmax=vmax), cmap='hot')\n",
    "#     im0vel = ax0.plot(ds_vel[i].t_seg,(np.hypot((ds_vel[i].ubp.mean(dim='depth')),(ds_vel[i].vbp.mean(dim='depth')))*1000)-dloc, \\\n",
    "#                             color='C0',alpha=0.5)\n",
    "#     im1 = ax1.pcolormesh(ds[i].spect_s, -depth, ccw_WKB[i], rasterized=True, \\\n",
    "#                             norm=colors.LogNorm(vmin=vmin, vmax=vmax), cmap='hot')  \n",
    "#     im1vel = ax1.plot(ds_vel[i].t_seg,(np.hypot((ds_vel[i].ubp.mean(dim='depth')),(ds_vel[i].vbp.mean(dim='depth')))*1000)-dloc, \\\n",
    "#                             color='C0',alpha=0.5)\n",
    "# cbar0 = fig.colorbar(im0, ax=ax0, fraction=0.05, pad=0.01, aspect=40, extend='both')\n",
    "# cbar1 = fig.colorbar(im1, ax=ax1, fraction=0.05, pad=0.01, aspect=40, extend='both')  \n",
    "\n",
    "# ax0.patch.set_facecolor('grey')\n",
    "# ax1.patch.set_facecolor('grey')\n",
    "\n",
    "# date_form = pldates.DateFormatter(\"%m\")\n",
    "# ax1.xaxis.set_major_formatter(date_form)\n",
    "# ax1.set_xlim(start_date,end_date)\n",
    "\n",
    "# fig.text(0.061, 0.5, 'Depth [m]', va='center', rotation='vertical',fontsize=11)\n",
    "# fig.text(0.91, 0.5, 'Integrated band power [(m/s)$^2$]', va='center', rotation='vertical',fontsize=11)\n",
    "\n",
    "# plt.show()"
   ]
  },
  {
   "cell_type": "code",
   "execution_count": null,
   "metadata": {},
   "outputs": [],
   "source": []
  }
 ],
 "metadata": {
  "kernelspec": {
   "display_name": "Python 3",
   "language": "python",
   "name": "python3"
  },
  "language_info": {
   "codemirror_mode": {
    "name": "ipython",
    "version": 3
   },
   "file_extension": ".py",
   "mimetype": "text/x-python",
   "name": "python",
   "nbconvert_exporter": "python",
   "pygments_lexer": "ipython3",
   "version": "3.7.7"
  },
  "toc": {
   "base_numbering": 1,
   "nav_menu": {},
   "number_sections": true,
   "sideBar": true,
   "skip_h1_title": false,
   "title_cell": "Table of Contents",
   "title_sidebar": "Contents",
   "toc_cell": false,
   "toc_position": {},
   "toc_section_display": true,
   "toc_window_display": false
  },
  "varInspector": {
   "cols": {
    "lenName": "20",
    "lenType": "20",
    "lenVar": "200"
   },
   "kernels_config": {
    "python": {
     "delete_cmd_postfix": "",
     "delete_cmd_prefix": "del ",
     "library": "var_list.py",
     "varRefreshCmd": "print(var_dic_list())"
    },
    "r": {
     "delete_cmd_postfix": ") ",
     "delete_cmd_prefix": "rm(",
     "library": "var_list.r",
     "varRefreshCmd": "cat(var_dic_list()) "
    }
   },
   "types_to_exclude": [
    "module",
    "function",
    "builtin_function_or_method",
    "instance",
    "_Feature"
   ],
   "window_display": false
  }
 },
 "nbformat": 4,
 "nbformat_minor": 4
}
