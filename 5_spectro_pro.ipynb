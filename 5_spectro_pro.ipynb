{
 "cells": [
  {
   "cell_type": "markdown",
   "metadata": {},
   "source": [
    "# 5 - Process spectrogram data\n",
    "\n",
    "Loads adjusted data and formats for spectral analysis."
   ]
  },
  {
   "cell_type": "markdown",
   "metadata": {},
   "source": [
    "## Imports\n",
    "\n",
    "Necessary modules for analysis."
   ]
  },
  {
   "cell_type": "code",
   "execution_count": 1,
   "metadata": {
    "ExecuteTime": {
     "end_time": "2021-04-01T18:04:54.571705Z",
     "start_time": "2021-04-01T18:04:53.401317Z"
    },
    "code_folding": [
     0
    ]
   },
   "outputs": [],
   "source": [
    "# import modules\n",
    "\n",
    "import xarray as xr\n",
    "import numpy as np\n",
    "import scipy.signal as sig\n",
    "for i in range(2):\n",
    "    %matplotlib notebook"
   ]
  },
  {
   "cell_type": "code",
   "execution_count": 51,
   "metadata": {
    "ExecuteTime": {
     "end_time": "2021-04-01T18:06:07.006937Z",
     "start_time": "2021-04-01T18:06:06.992173Z"
    },
    "code_folding": [
     7,
     13
    ],
    "scrolled": true
   },
   "outputs": [],
   "source": [
    "# import data\n",
    "\n",
    "adcp = 'Slope'     # Slope(2013,2014,2017,2018), Axis75(2013,2014), Axis55(2017,2018)\n",
    "year = 2018\n",
    "ds_in = xr.open_dataset(f'../Data/data/adj/adj_{adcp}_{year}_0.nc')\n",
    "\n",
    "n_seg = ds_in.n_seg\n",
    "if n_seg > 1:\n",
    "    ds = [ds_in]\n",
    "    for i in range(n_seg):\n",
    "        if i > 0:\n",
    "            ds_temp = xr.open_dataset(f'../Data/data/adj/adj_{adcp}_{year}_{i}.nc')\n",
    "            ds.append(ds_temp)\n",
    "elif n_seg == 1:\n",
    "    ds = [ds_in]\n",
    "    \n",
    "# print(ds)"
   ]
  },
  {
   "cell_type": "code",
   "execution_count": 52,
   "metadata": {
    "ExecuteTime": {
     "end_time": "2021-04-01T18:06:07.016619Z",
     "start_time": "2021-04-01T18:06:07.011560Z"
    },
    "code_folding": [
     0
    ]
   },
   "outputs": [],
   "source": [
    "# extract variables\n",
    "\n",
    "t_stamp = ds[0].t_stamp\n",
    "depth = ds[0].depth.values\n",
    "d = ds[0].d\n",
    "start_date = ds[0].start_date\n",
    "end_date = ds[0].end_date"
   ]
  },
  {
   "cell_type": "markdown",
   "metadata": {},
   "source": [
    "## Format spectrogram data\n",
    "Removes the mean from each depth. Performs spectrogram process with optimised parameters for visual analysis of spectra. Calculates 95% confidence intervals using a chi$^2$ method, WKB scaling is applied, and the noise floor is shown."
   ]
  },
  {
   "cell_type": "code",
   "execution_count": 53,
   "metadata": {
    "ExecuteTime": {
     "end_time": "2021-04-01T18:06:07.029465Z",
     "start_time": "2021-04-01T18:06:07.019611Z"
    },
    "code_folding": [
     0
    ]
   },
   "outputs": [
    {
     "name": "stdout",
     "output_type": "stream",
     "text": [
      "Total time length: 31363\n",
      "0 segment(s) too short, new total time length: 31363\n"
     ]
    }
   ],
   "source": [
    "# spectra data adjustments & Welch parameters\n",
    "\n",
    "time_total = 0\n",
    "for i in range(n_seg):\n",
    "    time_total += len(ds[i].t_seg)\n",
    "print('Total time length:',time_total)\n",
    "\n",
    "# set Welch parameters\n",
    "\n",
    "fs = 1.11e-3                  # 4 samples per HOUR, 1.11e-3 per SECOND\n",
    "win = 'hann'                  # optimal window for averaging\n",
    "nps = 1024                # find optimal window for nperseg (1024 ~10 days)\n",
    "overlap = nps // 2            # 50% overlap, default   \n",
    "\n",
    "# remove short segments\n",
    "\n",
    "t_short = []\n",
    "for i in range(n_seg):\n",
    "    if len(ds[i].t_seg) < nps:\n",
    "        t_short.append(i)\n",
    "for i in sorted(t_short, reverse=True):\n",
    "    del ds[i]\n",
    "n_seg = n_seg - len(t_short)\n",
    "\n",
    "time_total = 0\n",
    "for i in range(n_seg):\n",
    "    time_total += len(ds[i].t_seg)\n",
    "print(len(t_short),'segment(s) too short, new total time length:',time_total)"
   ]
  },
  {
   "cell_type": "code",
   "execution_count": 54,
   "metadata": {
    "ExecuteTime": {
     "end_time": "2021-04-01T18:06:07.109806Z",
     "start_time": "2021-04-01T18:06:07.031756Z"
    },
    "code_folding": [
     0
    ]
   },
   "outputs": [],
   "source": [
    "# remove mean at each depth\n",
    "\n",
    "um,vm = [],[]\n",
    "for i in range(n_seg):\n",
    "    um_seg,vm_seg = [],[]\n",
    "    uorig_temp = ds[i].uorig.values\n",
    "    vorig_temp = ds[i].vorig.values\n",
    "    for j in range(d):\n",
    "        umtemp = np.copy(uorig_temp[:,j]) - np.nanmean(uorig_temp[:,j])\n",
    "        vmtemp = np.copy(vorig_temp[:,j]) - np.nanmean(vorig_temp[:,j])\n",
    "        um_seg.append(umtemp)\n",
    "        vm_seg.append(vmtemp)\n",
    "    um.append(um_seg)     # list[segment][depth][time]\n",
    "    vm.append(vm_seg)     # 0 is upper depth index"
   ]
  },
  {
   "cell_type": "code",
   "execution_count": 55,
   "metadata": {
    "ExecuteTime": {
     "end_time": "2021-04-01T18:06:07.759103Z",
     "start_time": "2021-04-01T18:06:07.111814Z"
    },
    "code_folding": [
     0
    ]
   },
   "outputs": [],
   "source": [
    "# spectrograms at each depth (PSD at each depth and in time steps of about 10 days)\n",
    "\n",
    "spect,specf,Sxu,Sxv,Sxxu,Sxxv = [],[],[],[],[],[]\n",
    "for i in range(n_seg): \n",
    "    spect_temp,specf_temp,Sxu_temp,Sxv_temp,Sxxu_temp,Sxxv_temp = [],[],[],[],[],[]\n",
    "    for z in range(d):\n",
    "        # get spectrogram    \n",
    "        u_f, u_t, u_Sxx = sig.spectrogram(um[i][z], fs=fs, window=win, \\\n",
    "                                                            nperseg = nps, noverlap = overlap, return_onesided=True)\n",
    "        v_f, v_t, v_Sxx = sig.spectrogram(vm[i][z], fs=fs, window=win, \\\n",
    "                                                            nperseg = nps, noverlap = overlap, return_onesided=True)\n",
    "\n",
    "        # 'whiten' spectrogram (flatten it) by multiplying Sxx by frequency**2\n",
    "        Sxx_u_white = np.copy(u_Sxx)\n",
    "        for j in range(len(u_t)):\n",
    "            Sxx_u_white[:,j] = Sxx_u_white[:,j]*(u_f**2)\n",
    "        Sxx_v_white = np.copy(v_Sxx)\n",
    "        for j in range(len(v_t)):\n",
    "            Sxx_v_white[:,j] = Sxx_v_white[:,j]*(v_f**2)\n",
    "\n",
    "        # convert spectro_t to datetime for x-axis on plots\n",
    "        spectro_t4 = u_t*fs\n",
    "        spectro_time_len = len(spectro_t4)\n",
    "        spectro_time_axis = np.zeros([spectro_time_len],dtype='datetime64[s]')\n",
    "        for k in range(spectro_time_len):\n",
    "            j = np.int(spectro_t4[k])\n",
    "            spectro_time_axis[k] = ds[i].t_seg[j].values\n",
    "\n",
    "        spect_temp.append(spectro_time_axis)\n",
    "        specf_temp.append(u_f)\n",
    "        Sxu_temp.append(u_Sxx)    # non-whitened\n",
    "        Sxv_temp.append(v_Sxx)\n",
    "        Sxxu_temp.append(Sxx_u_white)  # whitened\n",
    "        Sxxv_temp.append(Sxx_v_white)\n",
    "        \n",
    "    spect.append(spect_temp[0])   # append arrays to lists (same times and frequencies at each depth)\n",
    "    specf.append(specf_temp[0])\n",
    "    Sxu.append(Sxu_temp)          # non-whitened\n",
    "    Sxv.append(Sxv_temp)\n",
    "    Sxxu.append(Sxxu_temp)        # list[array_segment][depth][frequency][time_segment]\n",
    "    Sxxv.append(Sxxv_temp)"
   ]
  },
  {
   "cell_type": "code",
   "execution_count": 56,
   "metadata": {
    "ExecuteTime": {
     "end_time": "2021-04-01T18:06:07.801427Z",
     "start_time": "2021-04-01T18:06:07.761226Z"
    },
    "code_folding": [
     0
    ],
    "scrolled": false
   },
   "outputs": [],
   "source": [
    "# apply WKB scaling at each depth\n",
    "\n",
    "scaling_array = np.load('../project/archive/N2/scaling_array.npy')\n",
    "GM_depths = scaling_array[0]                                 # depths range from -4 to -924 metres\n",
    "GM_scale = scaling_array[1]\n",
    "int_scale = np.interp(depth,-GM_depths,GM_scale)\n",
    "\n",
    "Sxu_WKB,Sxv_WKB,Sxxu_WKB,Sxxv_WKB = [],[],[],[]\n",
    "\n",
    "for i in range(n_seg):\n",
    "    Sxu_WKB_temp,Sxv_WKB_temp,Sxxu_WKB_temp,Sxxv_WKB_temp = [],[],[],[]\n",
    "    for j in range(d):                                       # values go in descending depth (0 is upper index)\n",
    "        Sxu_WKB_temp.append(Sxu[i][j]/int_scale[j])          # list[depth][frequency]\n",
    "        Sxv_WKB_temp.append(Sxv[i][j]/int_scale[j])\n",
    "        Sxxu_WKB_temp.append(Sxxu[i][j]/int_scale[j])        # list[depth][frequency]\n",
    "        Sxxv_WKB_temp.append(Sxxv[i][j]/int_scale[j])\n",
    "    Sxu_WKB.append(Sxu_WKB_temp)\n",
    "    Sxv_WKB.append(Sxv_WKB_temp)\n",
    "    Sxxu_WKB.append(Sxxu_WKB_temp)\n",
    "    Sxxv_WKB.append(Sxxv_WKB_temp)"
   ]
  },
  {
   "cell_type": "markdown",
   "metadata": {},
   "source": [
    "## Save\n",
    "Save key values and arrays to NetCDF format using xarray."
   ]
  },
  {
   "cell_type": "code",
   "execution_count": 57,
   "metadata": {
    "ExecuteTime": {
     "end_time": "2021-04-01T18:06:07.881120Z",
     "start_time": "2021-04-01T18:06:07.803765Z"
    },
    "code_folding": [
     0
    ],
    "scrolled": true
   },
   "outputs": [],
   "source": [
    "# save to .nc files\n",
    "\n",
    "for i in range(n_seg):\n",
    "    ds_out = xr.Dataset( \n",
    "        data_vars=dict(\n",
    "            Sxxu=(['depth','specf','spect'], Sxu_WKB[i]),                   # depth-freq-time data for power at each depth\n",
    "            Sxxv=(['depth','specf','spect'], Sxv_WKB[i]),\n",
    "            Sxxu_white=(['depth','specf','spect'], Sxxu_WKB[i]),         # whitened depth-freq-time data for power at each depth\n",
    "            Sxxv_white=(['depth','specf','spect'], Sxxv_WKB[i]),\n",
    "        ),\n",
    "        coords=dict(\n",
    "            depth=depth,                               # depth values\n",
    "            specf=specf[i],                            # spectrogram frequency bins\n",
    "            spect=spect[i],                            # spectrogram time bins\n",
    "        ),\n",
    "        attrs=dict(\n",
    "            description=f'Depth-freq-time data for {adcp} {t_stamp} segment {i} (from 0 to {n_seg - 1}).',\n",
    "            n_seg=n_seg,                               # n_seg for major datagaps each year\n",
    "            adcp=adcp,                                 # adcp\n",
    "            t_stamp=t_stamp,                           # time stamp\n",
    "            t=time_total,                              # length of initial time series\n",
    "            d=d,                                       # depth range\n",
    "            start_date=str(ds[i].t_seg[0].values),     # start date of initial time series segment\n",
    "            end_date=str(ds[i].t_seg[-1].values),      # end date of initial time series segment\n",
    "            fs=fs,                                     # sampling frequency\n",
    "            window=win,                                # fft window\n",
    "            nps=nps,                                   # fft segment length\n",
    "            overlap=overlap,                           # fft window overlap\n",
    "        ),\n",
    "    ) \n",
    "\n",
    "    ds_out.to_netcdf(f'../Data/data/spectro/spectro_{adcp}_{t_stamp}_{i}.nc')"
   ]
  },
  {
   "cell_type": "code",
   "execution_count": null,
   "metadata": {},
   "outputs": [],
   "source": []
  }
 ],
 "metadata": {
  "kernelspec": {
   "display_name": "Python 3",
   "language": "python",
   "name": "python3"
  },
  "language_info": {
   "codemirror_mode": {
    "name": "ipython",
    "version": 3
   },
   "file_extension": ".py",
   "mimetype": "text/x-python",
   "name": "python",
   "nbconvert_exporter": "python",
   "pygments_lexer": "ipython3",
   "version": "3.7.7"
  },
  "toc": {
   "base_numbering": 1,
   "nav_menu": {},
   "number_sections": true,
   "sideBar": true,
   "skip_h1_title": false,
   "title_cell": "Table of Contents",
   "title_sidebar": "Contents",
   "toc_cell": false,
   "toc_position": {},
   "toc_section_display": true,
   "toc_window_display": false
  },
  "varInspector": {
   "cols": {
    "lenName": 16,
    "lenType": 16,
    "lenVar": 40
   },
   "kernels_config": {
    "python": {
     "delete_cmd_postfix": "",
     "delete_cmd_prefix": "del ",
     "library": "var_list.py",
     "varRefreshCmd": "print(var_dic_list())"
    },
    "r": {
     "delete_cmd_postfix": ") ",
     "delete_cmd_prefix": "rm(",
     "library": "var_list.r",
     "varRefreshCmd": "cat(var_dic_list()) "
    }
   },
   "types_to_exclude": [
    "module",
    "function",
    "builtin_function_or_method",
    "instance",
    "_Feature"
   ],
   "window_display": false
  }
 },
 "nbformat": 4,
 "nbformat_minor": 4
}
