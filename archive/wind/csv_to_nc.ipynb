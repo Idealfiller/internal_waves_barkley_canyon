{
 "cells": [
  {
   "cell_type": "markdown",
   "metadata": {},
   "source": [
    "# Import CSV buoy data, slice, convert to .nc"
   ]
  },
  {
   "cell_type": "code",
   "execution_count": 1,
   "metadata": {
    "ExecuteTime": {
     "end_time": "2021-04-14T17:41:34.867264Z",
     "start_time": "2021-04-14T17:41:33.617657Z"
    },
    "code_folding": [
     0
    ]
   },
   "outputs": [],
   "source": [
    "# import modules\n",
    "\n",
    "import xarray as xr\n",
    "import datetime as dt\n",
    "import matplotlib.pyplot as plt\n",
    "import numpy as np\n",
    "import scipy.signal as sig\n",
    "import pandas as pd\n",
    "for i in range(2):\n",
    "    %matplotlib notebook"
   ]
  },
  {
   "cell_type": "code",
   "execution_count": 64,
   "metadata": {
    "ExecuteTime": {
     "end_time": "2021-04-14T17:57:27.004875Z",
     "start_time": "2021-04-14T17:57:26.683837Z"
    },
    "code_folding": []
   },
   "outputs": [],
   "source": [
    "# read CSV data (DFO Neah Bay buoy 46206, lat 48.83 long 126)\n",
    "\n",
    "ds = pd.read_csv('../../../Data/wind/c46206_csv.csv',usecols=['DATE','LATITUDE','LONGITUDE','WDIR','WSPD'])"
   ]
  },
  {
   "cell_type": "code",
   "execution_count": 89,
   "metadata": {
    "ExecuteTime": {
     "end_time": "2021-04-14T18:09:06.612379Z",
     "start_time": "2021-04-14T18:09:04.391045Z"
    },
    "code_folding": [
     0
    ]
   },
   "outputs": [],
   "source": [
    "# get data for 2013,2014,2017,2018\n",
    "\n",
    "dtpd2013 = pd.to_datetime(ds['DATE'][175282:183781])      # str to pd dt (np can't handle the formatting)\n",
    "dt2013 = np.array(dtpd2013,dtype=np.datetime64)           # pd to np datetime64\n",
    "wdir2013 = np.asarray(ds['WDIR'][175282:183781])          # wdir values for this time period\n",
    "wspd2013 = np.asarray(ds['WSPD'][175282:183781])          # wspd values for this time period\n",
    "\n",
    "dtpd2014 = pd.to_datetime(ds['DATE'][183781:190256])\n",
    "dt2014 = np.array(dtpd2014,dtype=np.datetime64)\n",
    "wdir2014 = np.asarray(ds['WDIR'][183781:190256])\n",
    "wspd2014 = np.asarray(ds['WSPD'][183781:190256])\n",
    "\n",
    "dtpd2017 = pd.to_datetime(ds['DATE'][206883:213293])\n",
    "dt2017 = np.array(dtpd2017,dtype=np.datetime64)\n",
    "wdir2017 = np.asarray(ds['WDIR'][206883:213293])\n",
    "wspd2017 = np.asarray(ds['WSPD'][206883:213293])\n",
    "\n",
    "dtpd2018 = pd.to_datetime(ds['DATE'][213293:217651])\n",
    "dt2018 = np.array(dtpd2018,dtype=np.datetime64)\n",
    "wdir2018 = np.asarray(ds['WDIR'][213293:217651])\n",
    "wspd2018 = np.asarray(ds['WSPD'][213293:217651])"
   ]
  },
  {
   "cell_type": "code",
   "execution_count": 93,
   "metadata": {
    "ExecuteTime": {
     "end_time": "2021-04-14T18:23:28.729133Z",
     "start_time": "2021-04-14T18:23:28.659559Z"
    },
    "code_folding": []
   },
   "outputs": [],
   "source": [
    "# save to .nc file\n",
    "\n",
    "ds_out = xr.Dataset( \n",
    "    data_vars=dict(\n",
    "        wdir2013=(['dt2013'], wdir2013),    # wind direction data\n",
    "        wspd2013=(['dt2013'], wspd2013),    # wind speed data\n",
    "        wdir2014=(['dt2014'], wdir2014),    # wind direction data\n",
    "        wspd2014=(['dt2014'], wspd2014),    # wind speed data\n",
    "        wdir2017=(['dt2017'], wdir2017),    # wind direction data\n",
    "        wspd2017=(['dt2017'], wspd2017),    # wind speed data\n",
    "        wdir2018=(['dt2018'], wdir2018),    # wind direction data\n",
    "        wspd2018=(['dt2018'], wspd2018),    # wind speed data\n",
    "    ),\n",
    "    coords=dict(\n",
    "        dt2013=dt2013,              \n",
    "        dt2014=dt2014,              # datetime values\n",
    "        dt2017=dt2017,\n",
    "        dt2018=dt2018,\n",
    "    ),\n",
    "    attrs=dict(\n",
    "        description=f'Wind data from Neah Bay DFO buoy 46206 for 2013, 2014, 2017, and 2018.',\n",
    "        units=['degrees True, m/s, numpy.datetime64'],\n",
    "        lat=ds['LATITUDE'][0],\n",
    "        long=ds['LONGITUDE'][0],\n",
    "    ),\n",
    ") \n",
    "ds_out.to_netcdf(f'../../../Data/wind/wind.nc')"
   ]
  },
  {
   "cell_type": "code",
   "execution_count": null,
   "metadata": {},
   "outputs": [],
   "source": []
  }
 ],
 "metadata": {
  "kernelspec": {
   "display_name": "Python 3",
   "language": "python",
   "name": "python3"
  },
  "language_info": {
   "codemirror_mode": {
    "name": "ipython",
    "version": 3
   },
   "file_extension": ".py",
   "mimetype": "text/x-python",
   "name": "python",
   "nbconvert_exporter": "python",
   "pygments_lexer": "ipython3",
   "version": "3.7.7"
  },
  "toc": {
   "base_numbering": 1,
   "nav_menu": {},
   "number_sections": true,
   "sideBar": true,
   "skip_h1_title": false,
   "title_cell": "Table of Contents",
   "title_sidebar": "Contents",
   "toc_cell": false,
   "toc_position": {},
   "toc_section_display": true,
   "toc_window_display": false
  },
  "varInspector": {
   "cols": {
    "lenName": "20",
    "lenType": "20",
    "lenVar": "200"
   },
   "kernels_config": {
    "python": {
     "delete_cmd_postfix": "",
     "delete_cmd_prefix": "del ",
     "library": "var_list.py",
     "varRefreshCmd": "print(var_dic_list())"
    },
    "r": {
     "delete_cmd_postfix": ") ",
     "delete_cmd_prefix": "rm(",
     "library": "var_list.r",
     "varRefreshCmd": "cat(var_dic_list()) "
    }
   },
   "position": {
    "height": "724px",
    "left": "518px",
    "right": "20px",
    "top": "51px",
    "width": "800px"
   },
   "types_to_exclude": [
    "module",
    "function",
    "builtin_function_or_method",
    "instance",
    "_Feature"
   ],
   "window_display": false
  }
 },
 "nbformat": 4,
 "nbformat_minor": 4
}
