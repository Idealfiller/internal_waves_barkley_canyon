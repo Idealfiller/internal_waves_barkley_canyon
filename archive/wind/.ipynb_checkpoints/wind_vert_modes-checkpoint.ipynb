{
 "cells": [
  {
   "cell_type": "markdown",
   "metadata": {},
   "source": [
    "# Plot wind data vertical modes in mixed layer\n",
    "\n",
    "About 50 km north of Barkley Canyon"
   ]
  },
  {
   "cell_type": "code",
   "execution_count": 2,
   "metadata": {
    "ExecuteTime": {
     "end_time": "2021-08-11T21:50:35.217782Z",
     "start_time": "2021-08-11T21:50:35.211770Z"
    },
    "code_folding": [
     0
    ]
   },
   "outputs": [],
   "source": [
    "# import modules\n",
    "\n",
    "import xarray as xr\n",
    "import datetime as dt\n",
    "import matplotlib\n",
    "import matplotlib.pyplot as plt\n",
    "import matplotlib.colors as colors\n",
    "import matplotlib.dates as pldates\n",
    "import scipy.signal as sig\n",
    "import scipy.misc as deriv\n",
    "import numpy as np\n",
    "import pandas as pd\n",
    "from pandas.plotting import register_matplotlib_converters\n",
    "register_matplotlib_converters()\n",
    "for i in range(2):\n",
    "    %matplotlib notebook"
   ]
  },
  {
   "cell_type": "code",
   "execution_count": 4,
   "metadata": {
    "ExecuteTime": {
     "end_time": "2021-08-11T21:51:03.024633Z",
     "start_time": "2021-08-11T21:51:02.922805Z"
    },
    "code_folding": [
     0
    ],
    "scrolled": true
   },
   "outputs": [],
   "source": [
    "# import data\n",
    "\n",
    "ds = xr.open_dataset(f'../../../Data/wind/wind.nc')\n",
    "    \n",
    "#print(ds)"
   ]
  },
  {
   "cell_type": "code",
   "execution_count": 5,
   "metadata": {
    "ExecuteTime": {
     "end_time": "2021-08-11T21:51:03.663970Z",
     "start_time": "2021-08-11T21:51:03.658809Z"
    },
    "code_folding": [
     7,
     11,
     15,
     19
    ]
   },
   "outputs": [],
   "source": [
    "# select data\n",
    "\n",
    "year = 2013\n",
    "t_stamp = f'{year}'\n",
    "start_date = np.datetime64(f'{year}-01-01')\n",
    "end_date = np.datetime64(f'{year+1}-01-01')\n",
    "\n",
    "if year == 2013:\n",
    "    dt_tot = ds.dt2013\n",
    "    wdir_tot = ds.wdir2013\n",
    "    wspd_tot = ds.wspd2013\n",
    "elif year == 2014:\n",
    "    dt_tot = ds.dt2014\n",
    "    wdir_tot = ds.wdir2014\n",
    "    wspd_tot = ds.wspd2014\n",
    "elif year == 2017:\n",
    "    dt_tot = ds.dt2017\n",
    "    wdir_tot = ds.wdir2017\n",
    "    wspd_tot = ds.wspd2017\n",
    "elif year == 2018:\n",
    "    dt_tot = ds.dt2018\n",
    "    wdir_tot = ds.wdir2018\n",
    "    wspd_tot = ds.wspd2018"
   ]
  },
  {
   "cell_type": "code",
   "execution_count": 6,
   "metadata": {
    "ExecuteTime": {
     "end_time": "2021-08-11T21:51:05.939370Z",
     "start_time": "2021-08-11T21:51:05.931542Z"
    },
    "code_folding": [
     0,
     2,
     10,
     21,
     35
    ]
   },
   "outputs": [],
   "source": [
    "# get data segments in lists\n",
    "\n",
    "if year == 2013:\n",
    "    dt0 = dt_tot[:]\n",
    "    dt = [dt0]\n",
    "    wspd0 = wspd_tot[:]\n",
    "    wspd = [wspd0]\n",
    "    wdir0 = wdir_tot[:]\n",
    "    wdir = [wdir0]\n",
    "    n_seg = 1\n",
    "elif year == 2014:\n",
    "    dt0 = dt_tot[:621]\n",
    "    dt1 = dt_tot[621:]\n",
    "    dt = [dt0,dt1]\n",
    "    wspd0 = wspd_tot[:621]\n",
    "    wspd1 = wspd_tot[621:]\n",
    "    wspd = [wspd0,wspd1]\n",
    "    wdir0 = wdir_tot[:621]\n",
    "    wdir1 = wdir_tot[621:]\n",
    "    wdir = [wdir0,wdir1]\n",
    "    n_seg = 2\n",
    "elif year == 2017:\n",
    "    dt0 = dt_tot[:3974]\n",
    "    dt1 = dt_tot[4100:5017]\n",
    "    dt2 = dt_tot[5080:]\n",
    "    dt = [dt0,dt1,dt2]\n",
    "    wspd0 = wspd_tot[:3974]\n",
    "    wspd1 = wspd_tot[4100:5017]\n",
    "    wspd2 = wspd_tot[5080:]\n",
    "    wspd = [wspd0,wspd1,wspd2]\n",
    "    wdir0 = wdir_tot[:3974]\n",
    "    wdir1 = wdir_tot[4100:5017]\n",
    "    wdir2 = wdir_tot[5080:]\n",
    "    wdir = [wdir0,wdir1,wdir2]\n",
    "    n_seg = 3\n",
    "elif year == 2018:\n",
    "    dt0 = dt_tot[:]\n",
    "    dt = [dt0]\n",
    "    wspd0 = wspd_tot[:]\n",
    "    wspd = [wspd0]\n",
    "    wdir0 = wdir_tot[:]\n",
    "    wdir = [wdir0]\n",
    "    n_seg = 1"
   ]
  },
  {
   "cell_type": "markdown",
   "metadata": {},
   "source": [
    "## Vertical mode decomposition (outlined by Jody, Alford, Zhen, etc.)"
   ]
  },
  {
   "cell_type": "code",
   "execution_count": 7,
   "metadata": {
    "ExecuteTime": {
     "end_time": "2021-08-11T21:52:11.278028Z",
     "start_time": "2021-08-11T21:52:11.265096Z"
    },
    "code_folding": [
     0
    ]
   },
   "outputs": [],
   "source": [
    "# get horizontal mixed layer velocity components\n",
    "\n",
    "# import data\n",
    "\n",
    "ds_in = xr.open_dataset(f'../../../Data/wind/ml_currents_{year}_0.nc')\n",
    "\n",
    "n_seg = ds_in.n_seg\n",
    "if n_seg > 1:\n",
    "    dsw = [ds_in]\n",
    "    for i in range(n_seg):\n",
    "        if i > 0:\n",
    "            dsw_temp = xr.open_dataset(f'../../../Data/wind/ml_currents_{year}_{i}.nc')\n",
    "            dsw.append(dsw_temp)\n",
    "elif n_seg == 1:\n",
    "    dsw = [ds_in]"
   ]
  },
  {
   "cell_type": "code",
   "execution_count": 8,
   "metadata": {
    "ExecuteTime": {
     "end_time": "2021-08-11T21:52:11.709827Z",
     "start_time": "2021-08-11T21:52:11.704960Z"
    },
    "code_folding": []
   },
   "outputs": [],
   "source": [
    "# vertical near-inertial energy transfer parameters\n",
    "\n",
    "Nmix = 2.52e-3        # base of mixed layer N [Hz]\n",
    "cor = 1.74e-5         # local Coriolis parameter [Hz]\n",
    "#L = 400               # length scale, from paper (in km???)\n",
    "roh = 1024            # avg density of mixed layer seawater from N2 calculations (similar for either season)\n",
    "D = []\n",
    "for i in range(n_seg):\n",
    "    Dtemp = dsw[i].H.values             # depth of mixed layer through time\n",
    "    D.append(Dtemp)"
   ]
  },
  {
   "cell_type": "code",
   "execution_count": 16,
   "metadata": {
    "ExecuteTime": {
     "end_time": "2021-08-11T21:58:27.771288Z",
     "start_time": "2021-08-11T21:58:27.757816Z"
    },
    "code_folding": [
     0
    ]
   },
   "outputs": [],
   "source": [
    "# band pass around f\n",
    "\n",
    "ubp,vbp = [],[]   # empty lists for filtered data\n",
    "fs = 2.777e-4                               # samples per SECOND for entire time series\n",
    "Wn = [1.55e-5,2.00e-5]                      # cut-off frequencies\n",
    "sos = sig.butter(8, Wn,'bandpass', fs=fs, output='sos')   # digital butterworth filter\n",
    "w,h = sig.sosfreqz(sos) \n",
    "#plt.semilogx(w*fs/(2*np.pi),abs(h))\n",
    "\n",
    "for i in range(n_seg):\n",
    "    ufilt = np.copy(dsw[i].Zu.values)       # copy unfiltered array\n",
    "    ubp_temp = sig.sosfiltfilt(sos, ufilt)    # apply band pass filter\n",
    "    vfilt = np.copy(dsw[i].Zv.values)       # repeat for v\n",
    "    vbp_temp = sig.sosfiltfilt(sos, vfilt)\n",
    "    ubp.append(ubp_temp)\n",
    "    vbp.append(vbp_temp)"
   ]
  },
  {
   "cell_type": "code",
   "execution_count": 17,
   "metadata": {
    "ExecuteTime": {
     "end_time": "2021-08-11T22:03:32.517437Z",
     "start_time": "2021-08-11T22:03:32.507894Z"
    },
    "code_folding": [
     0
    ]
   },
   "outputs": [],
   "source": [
    "# get depth-integrated vertical velocities from NI mixed layer horizontal velocities\n",
    "\n",
    "def divergence(f):\n",
    "    \"\"\"\n",
    "    Computes the divergence of a vector field at point f, corresponding to du/dt + dv/dt\n",
    "    :param f: List of TWO ndarrays, where every item of the list is one dimension of the vector field (u, v)\n",
    "    :return: Single ndarray of the same shape as each of the items in f, with scalar output\n",
    "    \"\"\"\n",
    "    a = np.gradient(f[0],3600)     # 3600, spacing in seconds between values\n",
    "    b = np.gradient(f[1],3600)\n",
    "    ab = np.sum([a,b],axis=0)\n",
    "    return ab\n",
    "\n",
    "wxDt = []\n",
    "for i in range(n_seg):\n",
    "    div = divergence([dsw[i].Zu.values,dsw[i].Zv.values])\n",
    "    wxDt_temp_list = []\n",
    "    for j in range(div.size):\n",
    "        wxDt_temp = D[i][j]*div[j]             # depth-integrated vertical velocities in mixed layer\n",
    "        wxDt_temp_list.append(wxDt_temp)\n",
    "    wxDt.append(wxDt_temp_list)"
   ]
  },
  {
   "cell_type": "code",
   "execution_count": 23,
   "metadata": {
    "ExecuteTime": {
     "end_time": "2021-08-11T22:18:09.180892Z",
     "start_time": "2021-08-11T22:18:09.167866Z"
    },
    "code_folding": [
     0
    ]
   },
   "outputs": [],
   "source": [
    "# jody function for vertical modes\n",
    "\n",
    "from matplotlib import pylab\n",
    "\n",
    "def vertModes(N2,dz,nmodes=0): \n",
    "    \"\"\"\" psi,phi,ce,z=vertModes(N2,dz,nmodes=0)\n",
    "    \n",
    "    Compute the vertical eigen modes of the internal wave solution on a flat bottom\n",
    "    \n",
    "    Parameters:\n",
    "    ----------- \n",
    "    N2 : (M) is buoyancy frequency squared (rad^2/s^2) as an 1-D\n",
    "         array.  If there are M values of N2, the first one is assumed\n",
    "         to be at dz/2 deep, and the last one is H-dz/2 deep.  The\n",
    "         water column is assumed to be H=M*dz deep.  No gaps are\n",
    "         allowed, and N2>0 everywhere.       \n",
    "    dz : is a single value, and the distance (in meters) between the N2 estimates\n",
    "    nmodes : number of modes to return.  nmodes = 0 means return M-3 modes.\n",
    "            \n",
    "         \n",
    "    Returns:\n",
    "    --------\n",
    "    psi : (M,M-2) is the vertical structure function at\n",
    "         z=dz/2,3dz/2,2dz...,H-dz/2.  Note there is one extra value\n",
    "         compared to N2 (ie there are M+1 values in depth). psi is\n",
    "         normalized so that sum(psi^2 dz) = 1.  For internal waves,\n",
    "         psi is approriate for velocity and pressure vertical\n",
    "         structure.          \n",
    "    phi : (M,M-2) is the vertical integral of psi (phi = int psi dz)\n",
    "         and represents the vertical velocity structure.  It is\n",
    "         interpolated onto the same grid as psi.\n",
    "    ce : (M-2) is the non-rotating phase speed of the waves in m/s.\n",
    "    z :  (M) is the vertical position of the psi and phi vector elements.\n",
    "             \n",
    "    Notes: \n",
    "    ------\n",
    "    This solves 1/N**2 psi_{zz} + (1/ce**2)psi = 0 subject to a\n",
    "    boundary condition of zero vertical velocity at the surface and\n",
    "    seafloor.\n",
    "  \n",
    "    psi(0)=0 (rigid lid approx)\n",
    "    psi(H)=0\n",
    "    \n",
    "    It is solved as an eigenvalue problem.  \n",
    "    Also note that if \n",
    "             \n",
    "    J. Klymak (Based on code by Sam Kelly and Gabe Vecchi)           \n",
    "    \"\"\"\n",
    "\n",
    "    import numpy as np\n",
    "    \n",
    "    # First we are solving for w on dz,2dz,3dz...H-dz\n",
    "    M = np.shape(N2)[0]-1\n",
    "        \n",
    "    if M>200:\n",
    "        sparse = True\n",
    "        if nmodes==0:\n",
    "            nmodes = 100 # don't try too many eigenvectors in sparse mode...\n",
    "    else:\n",
    "        sparse = False\n",
    "        if nmodes==0:\n",
    "            nmodes = M-2\n",
    "    \n",
    "    N2mid = N2[:-1]+np.diff(N2)/2.\n",
    "    # matrix for second difference operator\n",
    "    D = np.diag(-2.*np.ones(M),0)\n",
    "    D += np.diag(1.*np.ones(M-1),-1)\n",
    "    D += np.diag(1.*np.ones(M-1),1)\n",
    "\n",
    "    D=-D/dz/dz\n",
    "    D = np.diag(1./N2mid).dot(D)\n",
    "    ce,W = np.linalg.eig(D)\n",
    "    # psi is such that sum(psi^2)=1 but we want sum(psi^2 dz)=1.\n",
    "    W = W/np.sqrt(dz)\n",
    "    ce = 1./np.sqrt(ce)\n",
    "    ind=np.argsort(-ce)\n",
    "    \n",
    "    ce=ce[ind[:-2]]\n",
    "    W=W[:,ind[:-2]]\n",
    "    # zphi\n",
    "    zphi = np.linspace(dz/2.,(M+1)*dz-dz/2.,M+1)\n",
    "\n",
    "    # now get phi (w structure) on dz/2,3dz/2...\n",
    "    phi = np.zeros((M+1,M+1-3))\n",
    "    phi[0,:]=0.5*(W[0,:])\n",
    "    phi[1:-1,:]=0.5*(W[:-1,:]+W[1:,:])\n",
    "    phi[-1,:]=0.5*(W[-1,:])\n",
    "    \n",
    "    # Now get psi (u/p structure) on dz/2,3dz/2...\n",
    "    psi = np.zeros((M+1,M+1-3))\n",
    "    psi[0,:] = W[0,:]\n",
    "    psi[1:-1,] = np.diff(W,axis=0)\n",
    "    psi[-1,:] = -W[-1,:]\n",
    "    \n",
    "    A = np.sqrt(np.sum(psi*psi,axis=0)*dz)\n",
    "    psi = psi/A\n",
    "    phi = phi/A\n",
    "    # flip sign so always same sign in psi at top:\n",
    "    phi[:,psi[0,:]<0] *= -1\n",
    "    psi[:,psi[0,:]<0] *= -1\n",
    "\n",
    "    return psi,phi,ce,zphi"
   ]
  },
  {
   "cell_type": "code",
   "execution_count": 26,
   "metadata": {
    "ExecuteTime": {
     "end_time": "2021-08-11T22:37:48.211070Z",
     "start_time": "2021-08-11T22:37:48.207925Z"
    }
   },
   "outputs": [
    {
     "name": "stdout",
     "output_type": "stream",
     "text": [
      "50.0\n"
     ]
    }
   ],
   "source": [
    "print()"
   ]
  },
  {
   "cell_type": "code",
   "execution_count": 24,
   "metadata": {
    "ExecuteTime": {
     "end_time": "2021-08-11T22:18:17.993574Z",
     "start_time": "2021-08-11T22:18:17.991002Z"
    }
   },
   "outputs": [],
   "source": [
    "# jody code for vertical modes\n",
    "\n",
    "L = int(D[0][0])                              # vertical segment scale\n",
    "Nsq = np.full(L,)                             # initialise N2 array\n",
    "dz = 1                                        # vertical space between N2 values\n",
    "c = np.sqrt(Nsq[0])*L/np.pi                   # initialise mode phase speed\n",
    "z0 = np.linspace(0,3000,L)                    # initialise depth array\n",
    "# these are the \"meshpoints\" for w.\n",
    "dz = np.median(np.diff(z0))                   \n",
    "z = z0[:-1]+dz/2.  # these are midpoints.     # get mid-points of depths\n",
    "\n",
    "Nsq = ((5.2e-3)**2) * np.exp(-z / 1000.)      # redefine N2 through depth\n",
    "Nsq = Nsq*0.+5.2e-3**2\n",
    "c = np.mean(np.sqrt(Nsq[0]))*3000/np.pi       # redefine c through depth\n",
    "\n",
    "psi,phi,ce,zph = vertmodes.vertModes(Nsq,dz)  # get vertical mode data (psi is at )\n",
    "print \"c theory: %1.4f c[0]: %1.4f\"%(c,ce[0])\n",
    "\n",
    "for i in range(4):\n",
    "    print('int psi 0 psi %d:  %1.2e'%(i,np.sum(psi[:,0]*psi[:,i]*dz)))\n",
    "for i in range(4):\n",
    "    print('int Nsq phi 0 phi %d:  %1.2e'%(i,np.sum(phi[:,0]*phi[:,i]*Nsq*dz)))\n",
    "\n",
    "fig,axs=plt.subplots(1,2)\n",
    "for nn in range(4):\n",
    "    axs[0].plot(psi[:,nn],-zph)\n",
    "    axs[1].plot(phi[:,nn],-zph)\n",
    "axs[0].set_ylabel('DEPTH [m]')\n",
    "axs[0].set_xlabel('$\\phi$: horizontal structure')\n",
    "axs[1].set_xlabel('$\\psi$: vertical structure')"
   ]
  },
  {
   "cell_type": "code",
   "execution_count": null,
   "metadata": {},
   "outputs": [],
   "source": []
  }
 ],
 "metadata": {
  "kernelspec": {
   "display_name": "Python 3",
   "language": "python",
   "name": "python3"
  },
  "language_info": {
   "codemirror_mode": {
    "name": "ipython",
    "version": 3
   },
   "file_extension": ".py",
   "mimetype": "text/x-python",
   "name": "python",
   "nbconvert_exporter": "python",
   "pygments_lexer": "ipython3",
   "version": "3.8.8"
  },
  "toc": {
   "base_numbering": 1,
   "nav_menu": {},
   "number_sections": true,
   "sideBar": true,
   "skip_h1_title": false,
   "title_cell": "Table of Contents",
   "title_sidebar": "Contents",
   "toc_cell": false,
   "toc_position": {},
   "toc_section_display": true,
   "toc_window_display": false
  },
  "varInspector": {
   "cols": {
    "lenName": "16",
    "lenType": "16",
    "lenVar": "200"
   },
   "kernels_config": {
    "python": {
     "delete_cmd_postfix": "",
     "delete_cmd_prefix": "del ",
     "library": "var_list.py",
     "varRefreshCmd": "print(var_dic_list())"
    },
    "r": {
     "delete_cmd_postfix": ") ",
     "delete_cmd_prefix": "rm(",
     "library": "var_list.r",
     "varRefreshCmd": "cat(var_dic_list()) "
    }
   },
   "types_to_exclude": [
    "module",
    "function",
    "builtin_function_or_method",
    "instance",
    "_Feature"
   ],
   "window_display": false
  }
 },
 "nbformat": 4,
 "nbformat_minor": 4
}
