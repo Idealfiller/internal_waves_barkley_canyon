{
 "cells": [
  {
   "cell_type": "markdown",
   "metadata": {},
   "source": [
    "# Import CSV data, slice, convert to .nc"
   ]
  },
  {
   "cell_type": "code",
   "execution_count": 2,
   "metadata": {
    "ExecuteTime": {
     "end_time": "2021-06-14T21:14:30.554160Z",
     "start_time": "2021-06-14T21:14:28.141991Z"
    },
    "code_folding": [
     0
    ]
   },
   "outputs": [],
   "source": [
    "# import modules\n",
    "\n",
    "import xarray as xr\n",
    "import datetime as dt\n",
    "import matplotlib.pyplot as plt\n",
    "import numpy as np\n",
    "import scipy.signal as sig\n",
    "import pandas as pd\n",
    "for i in range(2):\n",
    "    %matplotlib notebook"
   ]
  },
  {
   "cell_type": "code",
   "execution_count": 20,
   "metadata": {
    "ExecuteTime": {
     "end_time": "2021-06-14T21:15:52.162334Z",
     "start_time": "2021-06-14T21:15:52.149463Z"
    },
    "code_folding": []
   },
   "outputs": [],
   "source": [
    "# read CSV data (Tofino CHS data, 01/02 2013)\n",
    "\n",
    "year = 2018\n",
    "ds = pd.read_csv(f'../../../Data/tide/tofino_tide_total_{year}.csv')"
   ]
  },
  {
   "cell_type": "code",
   "execution_count": 21,
   "metadata": {
    "ExecuteTime": {
     "end_time": "2021-06-14T21:15:52.172096Z",
     "start_time": "2021-06-14T21:15:52.164288Z"
    },
    "code_folding": [
     0
    ]
   },
   "outputs": [],
   "source": [
    "# format data\n",
    "\n",
    "pdtime = pd.to_datetime(ds.Station_Name[7:])\n",
    "nptime = np.array(pdtime, dtype=np.datetime64)\n",
    "level = np.array(ds.Tofino[7:].values,dtype=float)"
   ]
  },
  {
   "cell_type": "code",
   "execution_count": 22,
   "metadata": {
    "ExecuteTime": {
     "end_time": "2021-06-14T21:15:52.186705Z",
     "start_time": "2021-06-14T21:15:52.175812Z"
    },
    "code_folding": [
     0
    ]
   },
   "outputs": [],
   "source": [
    "# save to .nc file\n",
    "\n",
    "ds_out = xr.Dataset( \n",
    "    data_vars=dict(\n",
    "        tide=(['time'], level),    # tide height data [m]\n",
    "    ),\n",
    "    coords=dict(\n",
    "        time=nptime,              \n",
    "    ),\n",
    "    attrs=dict(\n",
    "        description=f'Tide data from Tofino CHS, {year}.',\n",
    "        units=['metres above chart datum, numpy.datetime64'],\n",
    "    ),\n",
    ") \n",
    "ds_out.to_netcdf(f'../../../Data/tide/tofino_tide_{year}.nc')"
   ]
  },
  {
   "cell_type": "code",
   "execution_count": null,
   "metadata": {},
   "outputs": [],
   "source": []
  }
 ],
 "metadata": {
  "kernelspec": {
   "display_name": "Python 3",
   "language": "python",
   "name": "python3"
  },
  "language_info": {
   "codemirror_mode": {
    "name": "ipython",
    "version": 3
   },
   "file_extension": ".py",
   "mimetype": "text/x-python",
   "name": "python",
   "nbconvert_exporter": "python",
   "pygments_lexer": "ipython3",
   "version": "3.7.7"
  },
  "toc": {
   "base_numbering": 1,
   "nav_menu": {},
   "number_sections": true,
   "sideBar": true,
   "skip_h1_title": false,
   "title_cell": "Table of Contents",
   "title_sidebar": "Contents",
   "toc_cell": false,
   "toc_position": {},
   "toc_section_display": true,
   "toc_window_display": false
  },
  "varInspector": {
   "cols": {
    "lenName": "20",
    "lenType": "20",
    "lenVar": "200"
   },
   "kernels_config": {
    "python": {
     "delete_cmd_postfix": "",
     "delete_cmd_prefix": "del ",
     "library": "var_list.py",
     "varRefreshCmd": "print(var_dic_list())"
    },
    "r": {
     "delete_cmd_postfix": ") ",
     "delete_cmd_prefix": "rm(",
     "library": "var_list.r",
     "varRefreshCmd": "cat(var_dic_list()) "
    }
   },
   "position": {
    "height": "724px",
    "left": "518px",
    "right": "20px",
    "top": "51px",
    "width": "800px"
   },
   "types_to_exclude": [
    "module",
    "function",
    "builtin_function_or_method",
    "instance",
    "_Feature"
   ],
   "window_display": false
  }
 },
 "nbformat": 4,
 "nbformat_minor": 4
}
