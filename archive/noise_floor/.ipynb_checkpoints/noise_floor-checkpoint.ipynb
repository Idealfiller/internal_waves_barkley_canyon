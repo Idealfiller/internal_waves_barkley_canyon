{
 "cells": [
  {
   "cell_type": "markdown",
   "metadata": {},
   "source": [
    "# Noise floor calculations\n",
    "\n",
    "The noise if the effective lower limit of an instrument for detecting measurement fluctuations, due to inherent noise in the system. In spectral analysis, the noise floor can be though of as the upper value of the spectrum of the inherent noise, which is equal across the frequency band. To calculate, the standard deviation of the data should be applied per ping, averaged if necessary (standard error of the mean), and applied to the rearranged integral of the noise spectrum, as noise_floor = variance/bandwidth."
   ]
  },
  {
   "cell_type": "code",
   "execution_count": 1,
   "metadata": {
    "ExecuteTime": {
     "end_time": "2021-02-13T19:12:22.398112Z",
     "start_time": "2021-02-13T19:12:22.395476Z"
    }
   },
   "outputs": [],
   "source": [
    "import numpy as np"
   ]
  },
  {
   "cell_type": "code",
   "execution_count": 3,
   "metadata": {
    "ExecuteTime": {
     "end_time": "2021-02-13T19:14:50.572279Z",
     "start_time": "2021-02-13T19:14:50.565788Z"
    },
    "code_folding": []
   },
   "outputs": [
    {
     "name": "stdout",
     "output_type": "stream",
     "text": [
      "0.4386826826826827 (m/s)**2 / Hz\n"
     ]
    }
   ],
   "source": [
    "# noise floor using 'single ping uncertainty' i.e. standard deviation\n",
    "\n",
    "adcp = 'Axis55'\n",
    "\n",
    "if adcp == 'Slope' or adcp == 'Axis75':\n",
    "    std = 0.076              # single ping accuracy from instrument datasheet = standard deviation [m/s]\n",
    "    pings = 1                # pings per ensemble\n",
    "    ens_t = 2                # ping ensemble time\n",
    "    avg_t = 2                # averaging interval\n",
    "    dx = 2.50e-1             # Nyquist freq for dx range\n",
    "elif adcp == 'Axis55':\n",
    "    std = 0.0662             # from Nortek deployment software and ONC parameters\n",
    "    pings = 18               # pings per ensemble\n",
    "    ens_t = 900              # ping ensemble time\n",
    "    avg_t = 900              # averaging interval\n",
    "    dx = 5.55e-4             # Nyquist freq for dx range\n",
    "    \n",
    "total_pings = (avg_t/ens_t)*pings         # total number of pings per averaged interval\n",
    "std_new = std/np.sqrt(total_pings)        # standard error of the mean for this interval\n",
    "var = std_new**2                          # [(m/s)**2]\n",
    "noise_floor = var/dx                      # total noise power [(m/s)**2 /Hz]\n",
    "\n",
    "print(noise_floor,'(m/s)**2 / Hz')"
   ]
  },
  {
   "cell_type": "code",
   "execution_count": null,
   "metadata": {},
   "outputs": [],
   "source": []
  }
 ],
 "metadata": {
  "kernelspec": {
   "display_name": "Python 3",
   "language": "python",
   "name": "python3"
  },
  "language_info": {
   "codemirror_mode": {
    "name": "ipython",
    "version": 3
   },
   "file_extension": ".py",
   "mimetype": "text/x-python",
   "name": "python",
   "nbconvert_exporter": "python",
   "pygments_lexer": "ipython3",
   "version": "3.7.7"
  },
  "toc": {
   "base_numbering": 1,
   "nav_menu": {},
   "number_sections": true,
   "sideBar": true,
   "skip_h1_title": false,
   "title_cell": "Table of Contents",
   "title_sidebar": "Contents",
   "toc_cell": false,
   "toc_position": {},
   "toc_section_display": true,
   "toc_window_display": false
  },
  "varInspector": {
   "cols": {
    "lenName": 16,
    "lenType": 16,
    "lenVar": 40
   },
   "kernels_config": {
    "python": {
     "delete_cmd_postfix": "",
     "delete_cmd_prefix": "del ",
     "library": "var_list.py",
     "varRefreshCmd": "print(var_dic_list())"
    },
    "r": {
     "delete_cmd_postfix": ") ",
     "delete_cmd_prefix": "rm(",
     "library": "var_list.r",
     "varRefreshCmd": "cat(var_dic_list()) "
    }
   },
   "types_to_exclude": [
    "module",
    "function",
    "builtin_function_or_method",
    "instance",
    "_Feature"
   ],
   "window_display": false
  }
 },
 "nbformat": 4,
 "nbformat_minor": 4
}
