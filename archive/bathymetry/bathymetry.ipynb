{
 "cells": [
  {
   "cell_type": "markdown",
   "metadata": {},
   "source": [
    "# Bathymetry for Barkley Canyon\n",
    "\n",
    "Uses General Bathymetric Chart of the Ocean (GEBCO) NetCDF data to create an approximate bathymetry plot for Barkley Canyon. This plot is NOT scaled to WGS84 coordinate system, but is approximately accurate."
   ]
  },
  {
   "cell_type": "markdown",
   "metadata": {},
   "source": [
    "## Imports"
   ]
  },
  {
   "cell_type": "code",
   "execution_count": 1,
   "metadata": {
    "ExecuteTime": {
     "end_time": "2021-04-08T20:50:44.859229Z",
     "start_time": "2021-04-08T20:50:42.943499Z"
    }
   },
   "outputs": [],
   "source": [
    "import matplotlib.pyplot as plt\n",
    "import numpy as np\n",
    "import xarray as xr\n",
    "import pandas as pd\n",
    "import cmocean\n",
    "from matplotlib.ticker import FormatStrFormatter\n",
    "%matplotlib notebook"
   ]
  },
  {
   "cell_type": "code",
   "execution_count": 3,
   "metadata": {
    "ExecuteTime": {
     "end_time": "2020-12-23T00:41:29.707473Z",
     "start_time": "2020-12-23T00:41:29.677996Z"
    },
    "scrolled": true
   },
   "outputs": [
    {
     "name": "stdout",
     "output_type": "stream",
     "text": [
      "<xarray.Dataset>\n",
      "Dimensions:  (lat: 7381, lon: 18301)\n",
      "Coordinates:\n",
      "  * lat      (lat) float64 48.05 48.05 48.05 48.05 48.05 ... 54.2 54.2 54.2 54.2\n",
      "  * lon      (lon) float64 -137.4 -137.4 -137.4 -137.4 ... -122.2 -122.2 -122.2\n",
      "Data variables:\n",
      "    crs      |S1 ...\n",
      "    Band1    (lat, lon) float32 ...\n",
      "Attributes:\n",
      "    GDAL_AREA_OR_POINT:              Area\n",
      "    Conventions:                     ACDD 1.3, CF-1.6\n",
      "    GDAL:                            GDAL 1.11.4, released 2016/01/25\n",
      "    history:                         Tue Jul 26 17:34:35 2016: GDAL CreateCop...\n",
      "    title:                           British Columbia 3 arc-second Bathymetri...\n",
      "    GMT_version:                     4.5.13 [64-bit]\n",
      "    node_offset:                     1\n",
      "    summary:                         The 3 arc-second British Columbia DEM wi...\n",
      "    keywords:                        Earth Science > Oceans > Bathymetry/Seaf...\n",
      "    time_coverage_start:             1930-01-01\n",
      "    time_coverage_end:               2012-01-01\n",
      "    id:                              4956\n",
      "    naming_authority:                gov.noaa.ngdc.mgg.dem\n",
      "    source:                          NOS Hydrographic Surveys; NGDC Multibeam...\n",
      "    comment:                         Developed for the Pacific Marine Environ...\n",
      "    license:                         Not to be used for navigation. Although ...\n",
      "    creator_name:                    DOC/NOAA/NESDIS/NCEI > National Centers ...\n",
      "    creator_email:                   dem.info@noaa.gov\n",
      "    creator_url:                     http://www.ngdc.noaa.gov/mgg/dem\n",
      "    geospatial_bounds_crs:           World Geodetic System 1984\n",
      "    geospatial_bounds_vertical_crs:  Mean Sea Level depth\n",
      "    publisher_name:                  NOAA National Center for Environmental I...\n",
      "    publisher_email:                 dem.info@noaa.gov\n",
      "    publisher_url:                   http://www.ngdc.noaa.gov/mgg/dem\n",
      "    geospatial_lat_min:              45.91\n",
      "    geospatial_lat_max:              47.20\n",
      "    geospatial_lon_min:              -124.33\n",
      "    geospatial_lon_max:              -123.58\n",
      "    cdm_data_type:                   Grid\n",
      "    date_issued:                     2013-07-09; publication\n",
      "    date_metadata_modified:          2016-07-28\n",
      "    product_version:                 First\n",
      "    keywords_vocabulary:             CF Standard Name Table v27\n",
      "    references:                      Bathymetric Digital Elevation Model of B...\n",
      "    creator_type:                    group or institution\n",
      "    creator_institution:             DOC/NOAA/NESDIS/NCEI > National Centers ...\n",
      "    publisher_type:                  institution\n",
      "    geospatial_lat_units:            decimal degrees\n",
      "    geospatial_lon_units:            decimal degrees\n",
      "    geospatial_lon_resolution:       0.00083333333\n",
      "    geospatial_lat_resolution:       0.00083333333\n",
      "    project:                         ICSU-WDS > International Council for Sci...\n",
      "    geospatial_vertical_resolution:  0.00083333333\n"
     ]
    }
   ],
   "source": [
    "ds = xr.open_dataset('../../../Data/Bathymetry/british_columbia_3_msl_2013.nc')     # import regional data\n",
    "print(ds)"
   ]
  },
  {
   "cell_type": "markdown",
   "metadata": {},
   "source": [
    "## Define region"
   ]
  },
  {
   "cell_type": "code",
   "execution_count": 35,
   "metadata": {
    "ExecuteTime": {
     "end_time": "2020-12-23T01:55:34.062656Z",
     "start_time": "2020-12-23T01:55:34.056088Z"
    }
   },
   "outputs": [],
   "source": [
    "lon = np.array(ds.lon.values[13520:13900])           # set desired region using lat and lon\n",
    "lat = np.array(ds.lat.values[210:460])\n",
    "elev = np.array(ds.Band1.values[210:460,13520:13900])\n",
    "\n",
    "slope_lat = 48.427                                  # set specific coordinates for ADCP\n",
    "slope_lon = -126.174\n",
    "axis_lat = 48.317\n",
    "axis_lon = -126.050\n",
    "line_y = np.array([slope_lat-0.003,axis_lat+0.000]) # set coordinates for distance line\n",
    "line_x = np.array([slope_lon+0.003,axis_lon-0.002])"
   ]
  },
  {
   "cell_type": "code",
   "execution_count": null,
   "metadata": {
    "scrolled": false
   },
   "outputs": [],
   "source": [
    "# plot bathymetry\n",
    "\n",
    "fig, ax = plt.subplots(1,1,figsize=(8,7))\n",
    "\n",
    "levels = 25       # set contour parameters for visual clarity and adjust colorbar\n",
    "vmin = -1400\n",
    "vmax = -200\n",
    "ticks = np.arange(vmin,vmax+1,100)\n",
    "level_boundaries = np.arange(vmin,vmax+1,levels)\n",
    "\n",
    "im = ax.contourf(lon,lat,elev,levels=level_boundaries,vmin=vmin,vmax=vmax,extend='both',cmap='cmo.deep_r')\n",
    "cbar = fig.colorbar(im,fraction=0.05,aspect=40,pad=0.01,ticks=ticks,label='Depth [m]')\n",
    "im1 = ax.contour(lon,lat,elev,levels=ticks,colors='black',linewidths=0.5,linestyles='solid',alpha=0.2)\n",
    "ax.set_xlabel('Longitude [$\\degree$]')\n",
    "ax.set_ylabel('Latitude [$\\degree$]')\n",
    "ax.set_title('Bathymetry of Barkley Canyon')\n",
    "\n",
    "ax.plot(line_x,line_y,color='lightyellow',ls='--',lw=1)\n",
    "ax.scatter(slope_lon+0.002,slope_lat,color='darkorange',s=100,marker='^')\n",
    "ax.text(-126.165,48.424,'Upper Slope 55 & 75 kHz ACDP',fontsize=10)\n",
    "ax.scatter(axis_lon,axis_lat,color='darkorange',s=100,marker='^')\n",
    "ax.text(-126.041,48.314,'Axis 75 kHz ACDP',fontsize=10)\n",
    "ax.text(-126.110,48.370,'15 km',fontsize=10)\n",
    "ax.yaxis.set_major_formatter(FormatStrFormatter('%.2f'))\n",
    "\n",
    "ax.clabel(im1, ticks, inline=True, fontsize=9.5, fmt = '%.f')\n",
    "\n",
    "fig.tight_layout()\n",
    "plt.show()\n",
    "\n",
    "plt.savefig(fname='./bathymetry.pdf',format='pdf')"
   ]
  },
  {
   "cell_type": "code",
   "execution_count": null,
   "metadata": {},
   "outputs": [],
   "source": []
  }
 ],
 "metadata": {
  "kernelspec": {
   "display_name": "Python 3",
   "language": "python",
   "name": "python3"
  },
  "language_info": {
   "codemirror_mode": {
    "name": "ipython",
    "version": 3
   },
   "file_extension": ".py",
   "mimetype": "text/x-python",
   "name": "python",
   "nbconvert_exporter": "python",
   "pygments_lexer": "ipython3",
   "version": "3.7.7"
  },
  "toc": {
   "base_numbering": 1,
   "nav_menu": {},
   "number_sections": true,
   "sideBar": true,
   "skip_h1_title": false,
   "title_cell": "Table of Contents",
   "title_sidebar": "Contents",
   "toc_cell": false,
   "toc_position": {},
   "toc_section_display": true,
   "toc_window_display": false
  },
  "varInspector": {
   "cols": {
    "lenName": 16,
    "lenType": 16,
    "lenVar": 40
   },
   "kernels_config": {
    "python": {
     "delete_cmd_postfix": "",
     "delete_cmd_prefix": "del ",
     "library": "var_list.py",
     "varRefreshCmd": "print(var_dic_list())"
    },
    "r": {
     "delete_cmd_postfix": ") ",
     "delete_cmd_prefix": "rm(",
     "library": "var_list.r",
     "varRefreshCmd": "cat(var_dic_list()) "
    }
   },
   "types_to_exclude": [
    "module",
    "function",
    "builtin_function_or_method",
    "instance",
    "_Feature"
   ],
   "window_display": false
  }
 },
 "nbformat": 4,
 "nbformat_minor": 4
}
