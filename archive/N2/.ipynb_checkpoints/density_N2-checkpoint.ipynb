{
 "cells": [
  {
   "cell_type": "markdown",
   "metadata": {},
   "source": [
    "# CTD Data, Density & Buoyancy Frequency Calculator\n",
    "\n",
    "Import formatted CTD data from La Perouse cruises, calculate in situ density, and find buoyancy frequency through depth.\n",
    "\n",
    "Barkley Canyon centred at approximately Lat 48.33 Long -126.03, so CTD casts from station LB14 are closest (approximately Lat 48.1415 Long -126.0000 - a distance of about 21 km to the SE) and of sufficient depth (-1180 m).\n",
    "\n",
    "Casts are every May and September.\n",
    "\n",
    "Uses the Seawater Python package for determining ocean characteristics to calculate potential density, $\\rho_{\\theta}(z)$, and the Brünt-Väisälä Frequency squared ($N^2$(z))."
   ]
  },
  {
   "cell_type": "markdown",
   "metadata": {},
   "source": [
    "## Imports"
   ]
  },
  {
   "cell_type": "code",
   "execution_count": null,
   "metadata": {
    "code_folding": [
     0
    ]
   },
   "outputs": [],
   "source": [
    "# imports\n",
    "import xarray as xr\n",
    "import datetime\n",
    "from datetime import datetime\n",
    "import matplotlib.colors as colors\n",
    "import matplotlib.pyplot as plt\n",
    "import matplotlib.dates as pldates\n",
    "import numpy as np\n",
    "import scipy.signal as sig\n",
    "import scipy.interpolate as interp\n",
    "import pandas as pd\n",
    "import seawater as sea\n",
    "from scipy.stats import chi2\n",
    "from pandas.plotting import register_matplotlib_converters\n",
    "register_matplotlib_converters()\n",
    "for i in range(2):\n",
    "    %matplotlib notebook"
   ]
  },
  {
   "cell_type": "markdown",
   "metadata": {},
   "source": [
    "## CTD Data\n",
    "\n",
    "La Perouse CTD data obtained from https://www.waterproperties.ca/data/display_results.php. "
   ]
  },
  {
   "cell_type": "code",
   "execution_count": null,
   "metadata": {
    "code_folding": [
     3,
     5
    ],
    "scrolled": true
   },
   "outputs": [],
   "source": [
    "year = '2018'        # strings for output filenames and titles\n",
    "month = 'Sept'        # May or Sept\n",
    "\n",
    "if month == 'May':\n",
    "    name = 'May'\n",
    "elif month == 'Sept':\n",
    "    name = 'September'\n",
    "    \n",
    "ds = xr.open_dataset(f'/Users/Kurtis/Documents/Python/Data/LaPerouseLB14/{year}_{month}.nc')"
   ]
  },
  {
   "cell_type": "markdown",
   "metadata": {},
   "source": [
    "## Density and $N^2$ Calculations\n",
    "\n",
    "Density of Sea Water using UNESCO 1983 (EOS 80) polynomial.\n",
    "\n",
    "Calculates potential density, and the Brünt-Väisälä Frequency squared ($N^2$), at the mid-depths (N2P), from the equation:\n",
    "$N^{2} = \\frac{-g}{\\sigma_{\\theta}} \\frac{d\\sigma_{\\theta}}{dz}$"
   ]
  },
  {
   "cell_type": "code",
   "execution_count": null,
   "metadata": {
    "code_folding": [
     0,
     13
    ]
   },
   "outputs": [],
   "source": [
    "# calculate potential temp, potential density, and N2\n",
    "\n",
    "P = ds.PRESPR01.values                            # depth(pressure) [m]([dbar])\n",
    "T = ds.TEMPS901.values                            # temperature [Celsius]\n",
    "S = ds.PSALST01.values                            # salinity, PSS-78 [PSU]\n",
    "lat = 48.14                                       # latitude, degrees North/South\n",
    "pT = sea.eos80.ptmp(S,T,P,pr=0)                   # calculates potential temperature at P = 0\n",
    "rho = sea.eos80.pden(S,T,P,pr=0)                  # calculates potential density of seawater at P = 0\n",
    "N2_sea,q,N2P = sea.geostrophic.bfrq(S,T,P,lat)    # calculates squared Brunt-Vaisala frequency of seawater at mid-depths\n",
    "N2 = N2_sea[:,0]\n",
    "N2_avg_val = np.nanmean(N2[198:898])              # average N^2 through depth (between -100m and -900m)\n",
    "print('Average N^2, -200 m to -900 m = ',N2_avg_val,'(rad/s)^2')\n",
    "\n",
    "if year == '2013' and month == 'May':\n",
    "    N2_temp = pd.Series(N2)\n",
    "    N2_int = N2_temp.interpolate(method=\"linear\")\n",
    "    N2 = np.array(N2_int)\n",
    "    pT_temp = pd.Series(pT)\n",
    "    pT_int = pT_temp.interpolate(method=\"linear\")\n",
    "    pT = np.array(pT_int)\n",
    "    rho_temp = pd.Series(rho)\n",
    "    rho_int = rho_temp.interpolate(method=\"linear\")\n",
    "    rho = np.array(rho_int)\n",
    "    S_temp = pd.Series(S)\n",
    "    S_int = S_temp.interpolate(method=\"linear\")\n",
    "    S = np.array(S_int)       # interpolate 3 metres of depth for May 2013\n",
    "    \n",
    "N2_smooth = sig.savgol_filter(N2,101,1)           # smooth with window size 101, polynomial order 1\n",
    "\n",
    "np.save(f'N2_smooth_{year}_{month}',N2_smooth)"
   ]
  },
  {
   "cell_type": "markdown",
   "metadata": {},
   "source": [
    "## Comprehensive Plots"
   ]
  },
  {
   "cell_type": "code",
   "execution_count": null,
   "metadata": {
    "code_folding": [
     0
    ],
    "scrolled": false
   },
   "outputs": [],
   "source": [
    "# plot N**2 and density through upper depth\n",
    "\n",
    "fig, (ax0,ax1,ax2,ax3) = plt.subplots(1,4,figsize=(9,6),sharey=True)\n",
    "fig.subplots_adjust(wspace=0.0)\n",
    "ax0.plot(N2,-N2P)\n",
    "ax0.set_ylabel('Depth [m]')\n",
    "ax0.set_xlabel('N$^2$ [(rad/s)$^2$]')\n",
    "ax0.ticklabel_format(axis='x', style='sci', scilimits=(0,0), useMathText=True)\n",
    "ax0.set_xlim(-1e-4,3e-3)\n",
    "ax0.xaxis.set_major_locator(plt.MaxNLocator(2))\n",
    "ax1.plot(rho,-P)\n",
    "ax1.set_xlabel('$\\u03C1_\\u03B8$ [kg/m$^3$]')\n",
    "ax1.set_ylim(-200,0)\n",
    "ax1.set_xlim(1023,1027)\n",
    "ax1.xaxis.set_major_locator(plt.MaxNLocator(2))\n",
    "ax2.plot(pT,-P)\n",
    "ax2.set_xlabel('$\\u03B8$ [$^{\\circ}$C]')\n",
    "ax2.set_xlim(3,18.5)\n",
    "ax2.xaxis.set_major_locator(plt.MaxNLocator(2))\n",
    "ax3.plot(S,-P)\n",
    "ax3.set_xlabel('Salinity [PSU]')\n",
    "ax3.set_xlim(31,35)\n",
    "ax3.xaxis.set_major_locator(plt.MaxNLocator(2))\n",
    "fig.text(0.5, 0.93, f'N$^2$ & CTD data - {name} {year}', ha='center', fontsize=12)\n",
    "fig.text(0.5, 0.9, 'La Perouse - Station LB14 - Above -200 m', ha='center', fontsize=10)\n",
    "\n",
    "plt.show()\n",
    "\n",
    "plt.savefig(fname=f'../../plots/N2_plots/N2_upper_{month}_{year}.pdf',format='pdf')"
   ]
  },
  {
   "cell_type": "code",
   "execution_count": null,
   "metadata": {
    "code_folding": [
     0
    ],
    "scrolled": false
   },
   "outputs": [],
   "source": [
    "# plot N**2 and density through lower depth\n",
    "\n",
    "fig, (ax0,ax1,ax2,ax3) = plt.subplots(1,4,figsize=(9,6),sharey=True)\n",
    "fig.subplots_adjust(wspace=0.0)\n",
    "ax0.plot(N2_smooth,-N2P)\n",
    "ax0.set_ylabel('Depth [m]')\n",
    "ax0.set_xlabel('N$^2$ [(rad/s)$^2$]')\n",
    "ax0.ticklabel_format(axis='x', style='sci', scilimits=(0,0), useMathText=True)\n",
    "ax0.set_xlim(-1e-5,4e-5)\n",
    "ax0.xaxis.set_major_locator(plt.MaxNLocator(2))\n",
    "ax1.plot(rho,-P)\n",
    "ax1.set_xlabel('$\\u03C1_\\u03B8$ [kg/m$^3$]')\n",
    "ax1.set_ylim(-900,-200)\n",
    "ax1.set_xlim(1026,1028)\n",
    "ax1.xaxis.set_major_locator(plt.MaxNLocator(2))\n",
    "ax2.plot(pT,-P)\n",
    "ax2.set_xlabel('$\\u03B8$ [$^{\\circ}$C]')\n",
    "ax2.set_xlim(3.5,9)\n",
    "ax2.xaxis.set_major_locator(plt.MaxNLocator(2))\n",
    "ax3.plot(S,-P)\n",
    "ax3.set_xlabel('Salinity [PSU]')\n",
    "ax3.set_xlim(33.5,34.5)\n",
    "ax3.xaxis.set_major_locator(plt.MaxNLocator(2))\n",
    "fig.text(0.5, 0.93, f'N$^2$ & CTD data - {name} {year}', ha='center', fontsize=12)\n",
    "fig.text(0.5, 0.9, 'La Perouse - Station LB14 - Below -200 m', ha='center', fontsize=10)\n",
    "fig.text(0.22, 0.885, f'Avg. N$^2$ = {N2_avg_val:1.2e} (rad/s)$^2$', ha='center', fontsize=9)\n",
    "\n",
    "plt.show()\n",
    "\n",
    "plt.savefig(fname=f'../../plots/N2_plots/N2_lower_{month}_{year}.pdf',format='pdf')"
   ]
  },
  {
   "cell_type": "markdown",
   "metadata": {},
   "source": [
    "## Averaged profile\n",
    "\n",
    "Plot N$^2$ profile averaged for all four years, both seasons. Also determine WKB scaling factor to adjust spectra to account for variable stratification, as in Meyer, Polzin, Sloyan et al. 2016, with the scaling factor determined as $z_{WKB}=\\frac{1}{N_0}\\int_{0}^{z}N(z)dz$, where $N_0$ is the base N used to determine the GM spectrum relative to a depth of -904 m, the lowest evaluated."
   ]
  },
  {
   "cell_type": "code",
   "execution_count": null,
   "metadata": {
    "code_folding": [
     0
    ]
   },
   "outputs": [],
   "source": [
    "# load saved N2 profiles\n",
    "May_2013 = np.load('N2_smooth_2013_May.npy')\n",
    "Sept_2013 = np.load('N2_smooth_2013_Sept.npy')\n",
    "May_2014 = np.load('N2_smooth_2014_May.npy')\n",
    "Sept_2014 = np.load('N2_smooth_2014_Sept.npy')\n",
    "May_2017 = np.load('N2_smooth_2017_May.npy')\n",
    "Sept_2017 = np.load('N2_smooth_2017_Sept.npy')\n",
    "May_2018 = np.load('N2_smooth_2018_May.npy')\n",
    "Sept_2018 = np.load('N2_smooth_2018_Sept.npy')"
   ]
  },
  {
   "cell_type": "code",
   "execution_count": null,
   "metadata": {
    "code_folding": [
     0,
     1
    ]
   },
   "outputs": [],
   "source": [
    "# average saved N2 profiles\n",
    "N2_avg = ( May_2013[2:923] + Sept_2013[0:921] + May_2014[3:924] + Sept_2014[2:923] +\n",
    "    + May_2017[2:923] + Sept_2017[1:922] + May_2018[0:921] + Sept_2018[1:922] ) / 8 # average smoothed profiles\n",
    "N2_avg_depths = np.arange(4,925,1)                # depth range\n",
    "N2_avg_smooth = sig.savgol_filter(N2_avg,31,1)    # additional smoothing, if necessary"
   ]
  },
  {
   "cell_type": "code",
   "execution_count": null,
   "metadata": {
    "code_folding": [
     0
    ]
   },
   "outputs": [],
   "source": [
    "# determine depth-dependent WKB scaling factor\n",
    "\n",
    "N_base = np.sqrt(np.nanmean(N2_avg[898:-1]))         # average N^2 through depth (between -890m and -900m)\n",
    "print('Average N^2 from -898 m to -924 m = ',N_base,'(rad/s)^2')\n",
    "scaling_depths = -N2_avg_depths\n",
    "scaling = np.sqrt(N2_avg_smooth) / N_base\n",
    "array_tuple = (scaling_depths,scaling)\n",
    "scaling_array = np.vstack(array_tuple)\n",
    "np.save('scaling_array',scaling_array)"
   ]
  },
  {
   "cell_type": "code",
   "execution_count": null,
   "metadata": {
    "code_folding": [
     0
    ],
    "scrolled": false
   },
   "outputs": [],
   "source": [
    "# plot N**2 and density through upper depth\n",
    "\n",
    "fig, (ax1,ax2,ax3) = plt.subplots(1,3,figsize=(10.5,6))\n",
    "ax1.plot(N2_avg_smooth,-N2_avg_depths)\n",
    "ax1.set_xlabel('N$^2$ [(rad/s)$^2$]')\n",
    "ax1.set_ylabel('Depth [m]')\n",
    "ax1.ticklabel_format(axis='x', style='sci', scilimits=(0,0), useMathText=True)\n",
    "ax1.set_xlim(-1e-5,0.4e-3)\n",
    "ax1.set_ylim(-904,0)\n",
    "ax2.plot(N2_avg_smooth,-N2_avg_depths)\n",
    "ax2.set_xlabel('N$^2$ [(rad/s)$^2$]')\n",
    "ax2.ticklabel_format(axis='x', style='sci', scilimits=(0,0), useMathText=True)\n",
    "ax2.set_ylim(-904,-200)\n",
    "ax2.set_xlim(5e-6,2.5e-5)\n",
    "ax3.plot(scaling_array[1],scaling_array[0])\n",
    "ax3.set_xlabel(f'Scaling factor [N / 2.53e-3 rad/s]')\n",
    "ax3.set_ylim(-924,-90)\n",
    "ax3.set_xlim(0,5)\n",
    "\n",
    "fig.text(0.5, 0.93, f'Buoyancy (smoothed and averaged)', ha='center', fontsize=12)\n",
    "fig.text(0.5, 0.9, 'La Perouse - Station LB14', ha='center', fontsize=10)\n",
    "fig.text(0.778, 0.885, f'N (-900 m) for GM = {N_base:1.2e} rad/s', ha='center', fontsize=9)\n",
    "\n",
    "plt.show()\n",
    "\n",
    "plt.savefig(fname=f'../../plots/N2_plots/N2_avg.pdf',format='pdf')"
   ]
  },
  {
   "cell_type": "code",
   "execution_count": null,
   "metadata": {},
   "outputs": [],
   "source": []
  }
 ],
 "metadata": {
  "kernelspec": {
   "display_name": "Python 3",
   "language": "python",
   "name": "python3"
  },
  "language_info": {
   "codemirror_mode": {
    "name": "ipython",
    "version": 3
   },
   "file_extension": ".py",
   "mimetype": "text/x-python",
   "name": "python",
   "nbconvert_exporter": "python",
   "pygments_lexer": "ipython3",
   "version": "3.7.7"
  },
  "toc": {
   "base_numbering": 1,
   "nav_menu": {},
   "number_sections": true,
   "sideBar": true,
   "skip_h1_title": false,
   "title_cell": "Table of Contents",
   "title_sidebar": "Contents",
   "toc_cell": false,
   "toc_position": {
    "height": "615px",
    "left": "108px",
    "top": "104px",
    "width": "288px"
   },
   "toc_section_display": true,
   "toc_window_display": false
  },
  "varInspector": {
   "cols": {
    "lenName": "20",
    "lenType": "20",
    "lenVar": "200"
   },
   "kernels_config": {
    "python": {
     "delete_cmd_postfix": "",
     "delete_cmd_prefix": "del ",
     "library": "var_list.py",
     "varRefreshCmd": "print(var_dic_list())"
    },
    "r": {
     "delete_cmd_postfix": ") ",
     "delete_cmd_prefix": "rm(",
     "library": "var_list.r",
     "varRefreshCmd": "cat(var_dic_list()) "
    }
   },
   "types_to_exclude": [
    "module",
    "function",
    "builtin_function_or_method",
    "instance",
    "_Feature"
   ],
   "window_display": false
  }
 },
 "nbformat": 4,
 "nbformat_minor": 4
}
