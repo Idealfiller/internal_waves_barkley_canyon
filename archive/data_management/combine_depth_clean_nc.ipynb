{
 "cells": [
  {
   "cell_type": "markdown",
   "metadata": {},
   "source": [
    "# Combine, standardise depth, and clean NetCDF data"
   ]
  },
  {
   "cell_type": "markdown",
   "metadata": {},
   "source": [
    "## Imports"
   ]
  },
  {
   "cell_type": "code",
   "execution_count": null,
   "metadata": {
    "code_folding": [
     0
    ]
   },
   "outputs": [],
   "source": [
    "#imports\n",
    "\n",
    "import xarray as xr\n",
    "import datetime\n",
    "import cmath\n",
    "from datetime import datetime\n",
    "import matplotlib.colors as colors\n",
    "import matplotlib.pyplot as plt\n",
    "import matplotlib.dates as pldates\n",
    "import numpy as np\n",
    "import scipy.signal as sig\n",
    "import scipy.integrate as integ\n",
    "import scipy.interpolate as interp\n",
    "import pandas as pd\n",
    "import seawater as sea\n",
    "from scipy.stats import chi2\n",
    "from scipy.io import loadmat\n",
    "from pandas.plotting import register_matplotlib_converters\n",
    "register_matplotlib_converters()\n",
    "for i in range(2):\n",
    "    %matplotlib notebook"
   ]
  },
  {
   "cell_type": "markdown",
   "metadata": {},
   "source": [
    "## First file\n",
    "\n",
    "Open the first NetCDF file, sort depth in ascending order, drop lat and long dimensions, get specific depth values for consecutive data to be mapped to, and if the initial file interpolate to those depths."
   ]
  },
  {
   "cell_type": "code",
   "execution_count": null,
   "metadata": {
    "scrolled": false
   },
   "outputs": [],
   "source": [
    "# first file\n",
    "ds = xr.open_dataset('../../../Data/AxisAll/Axis75/Axis75_all.nc')     # open file\n",
    "\n",
    "# depth mapping (first file only) \n",
    "\n",
    "#ds = ds.sortby('depth', ascending=True)          # sort depths ascending order\n",
    "#ds = ds.drop_dims('longitude')                   # drop lat and long dimensions, if initial file\n",
    "#ds = ds.drop_dims('latitude')\n",
    "#depths = np.array(ds.depth.values,dtype=int)     # set specific depths for all data to map onto, if initial file\n",
    "#depths = depths[depths >= 0]                     # keep only 'positive' depths\n",
    "#ds = ds.interp(depth=depths,method='linear')     # interpolate initial data onto these depths, if initial file\n",
    "#print(depths)\n",
    "\n",
    "# remove unwanted data from Axis75 May 2013\n",
    "\n",
    "# start = 32812    \n",
    "# end = 33336\n",
    "# print(ds.time[start:end])\n",
    "# ds.u[start:end,:] = np.nan\n",
    "# ds.v[start:end,:] = np.nan\n",
    "# ds.w[start:end,:] = np.nan\n",
    "\n",
    "# ds.to_netcdf('../../../Data/AxisAll/Axis75/Axis75_all_new.nc')   # save to new NetCDF file\n",
    "\n",
    "print(ds)"
   ]
  },
  {
   "cell_type": "code",
   "execution_count": null,
   "metadata": {
    "code_folding": [],
    "scrolled": false
   },
   "outputs": [],
   "source": [
    "# plot to check data quality\n",
    "fig,ax = plt.subplots(figsize=(12,4))\n",
    "ax.set_title('Velocity')\n",
    "ax.pcolormesh(ds.time, -ds.depth, ds.u.T, rasterized=True, cmap='RdBu_r')#, vmin=-0.20, vmax=0.20)\n",
    "plt.show()"
   ]
  },
  {
   "cell_type": "markdown",
   "metadata": {},
   "source": [
    "## Second file\n",
    "\n",
    "Open the next NetCDF file, sort depth in ascending order, drop lat and long dimensions, and interpolate over specific depths."
   ]
  },
  {
   "cell_type": "code",
   "execution_count": null,
   "metadata": {
    "scrolled": true
   },
   "outputs": [],
   "source": [
    "# second file\n",
    "ds0 = xr.open_dataset('../../../Data/AxisAll/Axis75/7.nc')   # open next file\n",
    "\n",
    "ds0 = ds0.sortby('depth', ascending=True)        # sort depth in ascending order\n",
    "ds0 = ds0.drop_dims('longitude')                 # drop lat and long dims\n",
    "ds0 = ds0.drop_dims('latitude')\n",
    "ds0 = ds0.interp(depth=depths,method='linear')   # interpolate onto specific depths\n",
    "\n",
    "print(ds0)"
   ]
  },
  {
   "cell_type": "code",
   "execution_count": null,
   "metadata": {
    "scrolled": false
   },
   "outputs": [],
   "source": [
    "# plot to check data quality\n",
    "fig,ax = plt.subplots(figsize=(9,4))\n",
    "ax.pcolormesh(ds0.time, -ds0.depth, ds0.u.T, rasterized=True, cmap='RdBu_r', vmin=-0.20, vmax=0.20)\n",
    "plt.show()"
   ]
  },
  {
   "cell_type": "markdown",
   "metadata": {},
   "source": [
    "## Combine files\n",
    "\n",
    "Combines first and next files. If necessary, remove bad data sections. Save file to new NetCDF."
   ]
  },
  {
   "cell_type": "code",
   "execution_count": null,
   "metadata": {
    "scrolled": true
   },
   "outputs": [],
   "source": [
    "# combine files\n",
    "ds1 = xr.combine_by_coords([ds0, ds])      # combine files\n",
    "\n",
    "# start = 90099                           # to remove bad data\n",
    "# end = 112732\n",
    "# print(ds1.time[start:end])\n",
    "# ds1.u[start:end,:] = np.nan\n",
    "# ds1.v[start:end,:] = np.nan\n",
    "# ds1.w[start:end,:] = np.nan\n",
    "\n",
    "print(ds1)\n",
    "ds1.to_netcdf('../../../Data/AxisAll/Axis75/1234567.nc')   # save to new NetCDF file"
   ]
  },
  {
   "cell_type": "code",
   "execution_count": null,
   "metadata": {},
   "outputs": [],
   "source": [
    "# plot to check data quality\n",
    "fig,ax = plt.subplots(figsize=(9,4))\n",
    "ax.pcolormesh(ds1.time, -ds1.depth, ds1.u.T, rasterized=True, cmap='RdBu_r', vmin=-0.20, vmax=0.20)\n",
    "plt.show()"
   ]
  },
  {
   "cell_type": "code",
   "execution_count": null,
   "metadata": {},
   "outputs": [],
   "source": []
  }
 ],
 "metadata": {
  "kernelspec": {
   "display_name": "Python 3",
   "language": "python",
   "name": "python3"
  },
  "language_info": {
   "codemirror_mode": {
    "name": "ipython",
    "version": 3
   },
   "file_extension": ".py",
   "mimetype": "text/x-python",
   "name": "python",
   "nbconvert_exporter": "python",
   "pygments_lexer": "ipython3",
   "version": "3.7.7"
  },
  "toc": {
   "base_numbering": 1,
   "nav_menu": {},
   "number_sections": true,
   "sideBar": true,
   "skip_h1_title": false,
   "title_cell": "Table of Contents",
   "title_sidebar": "Contents",
   "toc_cell": false,
   "toc_position": {},
   "toc_section_display": true,
   "toc_window_display": false
  },
  "varInspector": {
   "cols": {
    "lenName": 16,
    "lenType": 16,
    "lenVar": 40
   },
   "kernels_config": {
    "python": {
     "delete_cmd_postfix": "",
     "delete_cmd_prefix": "del ",
     "library": "var_list.py",
     "varRefreshCmd": "print(var_dic_list())"
    },
    "r": {
     "delete_cmd_postfix": ") ",
     "delete_cmd_prefix": "rm(",
     "library": "var_list.r",
     "varRefreshCmd": "cat(var_dic_list()) "
    }
   },
   "types_to_exclude": [
    "module",
    "function",
    "builtin_function_or_method",
    "instance",
    "_Feature"
   ],
   "window_display": false
  }
 },
 "nbformat": 4,
 "nbformat_minor": 4
}
