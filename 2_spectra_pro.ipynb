{
 "cells": [
  {
   "cell_type": "markdown",
   "metadata": {},
   "source": [
    "# 2 - Process spectral data\n",
    "\n",
    "Loads adjusted data and formats for spectral analysis."
   ]
  },
  {
   "cell_type": "markdown",
   "metadata": {},
   "source": [
    "## Imports\n",
    "\n",
    "Necessary modules for analysis."
   ]
  },
  {
   "cell_type": "code",
   "execution_count": 1,
   "metadata": {
    "ExecuteTime": {
     "end_time": "2021-06-07T20:12:38.396798Z",
     "start_time": "2021-06-07T20:12:37.196743Z"
    },
    "code_folding": [
     0
    ]
   },
   "outputs": [],
   "source": [
    "# import modules\n",
    "\n",
    "import xarray as xr\n",
    "import numpy as np\n",
    "import scipy.signal as sig\n",
    "for i in range(2):\n",
    "    %matplotlib notebook"
   ]
  },
  {
   "cell_type": "code",
   "execution_count": 2,
   "metadata": {
    "ExecuteTime": {
     "end_time": "2021-06-07T20:12:39.942238Z",
     "start_time": "2021-06-07T20:12:39.852714Z"
    },
    "code_folding": [
     7,
     13
    ],
    "scrolled": true
   },
   "outputs": [],
   "source": [
    "# import data\n",
    "\n",
    "adcp = 'Axis75'     # Slope(2013,2014,2017,2018), Axis75(2013,2014), Axis55(2017,2018)\n",
    "year = 2013\n",
    "ds_in = xr.open_dataset(f'../Data/data/adj/adj_{adcp}_{year}_0.nc')\n",
    "\n",
    "n_seg = ds_in.n_seg\n",
    "if n_seg > 1:\n",
    "    ds = [ds_in]\n",
    "    for i in range(n_seg):\n",
    "        if i > 0:\n",
    "            ds_temp = xr.open_dataset(f'../Data/data/adj/adj_{adcp}_{year}_{i}.nc')\n",
    "            ds.append(ds_temp)\n",
    "elif n_seg == 1:\n",
    "    ds = [ds_in]\n",
    "    \n",
    "# print(ds)"
   ]
  },
  {
   "cell_type": "code",
   "execution_count": 3,
   "metadata": {
    "ExecuteTime": {
     "end_time": "2021-06-07T20:12:51.044995Z",
     "start_time": "2021-06-07T20:12:51.038008Z"
    },
    "code_folding": [
     0
    ]
   },
   "outputs": [],
   "source": [
    "# extract variables\n",
    "\n",
    "t_stamp = ds[0].t_stamp\n",
    "depth = ds[0].depth.values\n",
    "d = ds[0].d\n",
    "start_date = ds[0].start_date\n",
    "end_date = ds[0].end_date\n",
    "\n",
    "# get WKB scale for site specific depth range\n",
    "\n",
    "scaling_array = np.load('../project/archive/N2/scaling_array.npy')\n",
    "GM_depths = scaling_array[0]                                 # depths range from -4 to -924 metres\n",
    "GM_scale = scaling_array[1]\n",
    "int_scale = np.interp(depth,-GM_depths,GM_scale)"
   ]
  },
  {
   "cell_type": "markdown",
   "metadata": {},
   "source": [
    "## Format spectrogram data\n",
    "Removes the mean from each depth. Performs spectrogram process with optimised parameters for visual analysis of spectra."
   ]
  },
  {
   "cell_type": "code",
   "execution_count": 4,
   "metadata": {
    "ExecuteTime": {
     "end_time": "2021-06-07T20:12:58.079503Z",
     "start_time": "2021-06-07T20:12:58.070706Z"
    },
    "code_folding": [
     0
    ]
   },
   "outputs": [
    {
     "name": "stdout",
     "output_type": "stream",
     "text": [
      "Total time length: 34366\n",
      "0 segment(s) too short, new total time length: 34366\n"
     ]
    }
   ],
   "source": [
    "# spectra data adjustments & Welch parameters\n",
    "\n",
    "time_total = 0\n",
    "for i in range(n_seg):\n",
    "    time_total += len(ds[i].t_seg)\n",
    "print('Total time length:',time_total)\n",
    "\n",
    "# set Welch parameters for PSD\n",
    "\n",
    "fs = 1.1111e-3                # 4 samples per HOUR, 1.11e-3 per SECOND\n",
    "win = 'hann'                  # optimal window for averaging\n",
    "nps = 1024                    # find optimal window for nperseg (1024 ~10 days)\n",
    "overlap = nps // 2            # 50% overlap, default   \n",
    "\n",
    "# set Welch parameters for spectrograms and depth-band plots\n",
    "\n",
    "nps_s = 512                     # find optimal window for nperseg (1024 ~10 days)\n",
    "overlap_s = nps_s // 2            # 50% overlap, default   \n",
    "\n",
    "# remove short segments\n",
    "\n",
    "t_short = []\n",
    "for i in range(n_seg):\n",
    "    if len(ds[i].t_seg) < nps:\n",
    "        t_short.append(i)\n",
    "for i in sorted(t_short, reverse=True):\n",
    "    del ds[i]\n",
    "n_seg = n_seg - len(t_short)\n",
    "\n",
    "time_total = 0\n",
    "for i in range(n_seg):\n",
    "    time_total += len(ds[i].t_seg)\n",
    "print(len(t_short),'segment(s) too short, new total time length:',time_total)"
   ]
  },
  {
   "cell_type": "code",
   "execution_count": 5,
   "metadata": {
    "ExecuteTime": {
     "end_time": "2021-06-07T20:13:03.571489Z",
     "start_time": "2021-06-07T20:13:03.503083Z"
    },
    "code_folding": [
     0
    ]
   },
   "outputs": [],
   "source": [
    "# remove mean at each depth\n",
    "\n",
    "um,vm = [],[]\n",
    "for i in range(n_seg):\n",
    "    um_seg,vm_seg = [],[]\n",
    "    uorig_temp = ds[i].uorig.values\n",
    "    vorig_temp = ds[i].vorig.values\n",
    "    for j in range(d):\n",
    "        umtemp = np.copy(uorig_temp[:,j]) - np.nanmean(uorig_temp[:,j])\n",
    "        vmtemp = np.copy(vorig_temp[:,j]) - np.nanmean(vorig_temp[:,j])\n",
    "        um_seg.append(umtemp)\n",
    "        vm_seg.append(vmtemp)\n",
    "    um.append(um_seg)     # list[segment][depth][time]\n",
    "    vm.append(vm_seg)     # 0 is upper depth index"
   ]
  },
  {
   "cell_type": "code",
   "execution_count": 6,
   "metadata": {
    "ExecuteTime": {
     "end_time": "2021-06-07T20:13:04.795541Z",
     "start_time": "2021-06-07T20:13:04.791081Z"
    },
    "code_folding": [
     0
    ]
   },
   "outputs": [],
   "source": [
    "# define cross-spectra function using spectrograms\n",
    "\n",
    "def spectrocross(u,v,fs,window,nperseg,noverlap,nfft,detrend,return_onesided,scaling,axis,mode):\n",
    "    freqs, time, Sxy = sig._spectral_helper(u, v, fs, window, nperseg,\n",
    "                                            noverlap, nfft, detrend,\n",
    "                                            return_onesided, scaling, axis,\n",
    "                                            mode='psd')        # get this from scipy spectral.py in pkgs (add name to import list)\n",
    "    return freqs, time, Sxy"
   ]
  },
  {
   "cell_type": "code",
   "execution_count": 7,
   "metadata": {
    "ExecuteTime": {
     "end_time": "2021-06-07T20:13:23.705548Z",
     "start_time": "2021-06-07T20:13:22.152413Z"
    },
    "code_folding": [
     0
    ]
   },
   "outputs": [],
   "source": [
    "# spectrograms at each depth (PSD at each depth in time-steps of nps)\n",
    "\n",
    "spect,specf,spect_s,specf_s,Sxu,Sxv,cw,ccw,Sdu,Sdv = [],[],[],[],[],[],[],[],[],[]\n",
    "cw_s, ccw_s = [],[]\n",
    "for i in range(n_seg): \n",
    "    spect_temp,specf_temp,cw_temp,ccw_temp,spect_s_temp,specf_s_temp,Sxu_temp,Sxv_temp,Sdu_temp,Sdv_temp=[],[],[],[],[],[],[],[],[],[]\n",
    "    cw_s_temp,ccw_s_temp = [],[]\n",
    "    for z in range(d):\n",
    "        # get spectrogram for PSD and rotary   \n",
    "        u_f, u_t, u_Sxx = sig.spectrogram(um[i][z], fs=fs, window=win, \\\n",
    "                                                            nperseg = nps, noverlap = overlap, return_onesided=True)\n",
    "        v_f, v_t, v_Sxx = sig.spectrogram(vm[i][z], fs=fs, window=win, \\\n",
    "                                                            nperseg = nps, noverlap = overlap, return_onesided=True)\n",
    "        \n",
    "        # get quadrature spectrogram and rotary\n",
    "        uv_f,uv_t,uv_Cxy = spectrocross(vm[i][z],um[i][z],fs=fs,window=win,nperseg=nps,noverlap=overlap,nfft=None,detrend='constant',\n",
    "                    return_onesided=True,scaling='density',axis=-1,mode='psd')     # cross spectrogram\n",
    "        Sxyuv = uv_Cxy.imag                             # quadrature spectra is imag part of cross spectra\n",
    "        Scw = ((u_Sxx + v_Sxx) - (2*Sxyuv)) / 2         # rotatory components\n",
    "        Sccw = ((u_Sxx + v_Sxx) + (2*Sxyuv)) / 2 \n",
    "        \n",
    "        # get high-res for spectrogram and depth-band plots (finer resolution)\n",
    "        u_f_s, u_t_s, u_Sxx_s = sig.spectrogram(um[i][z], fs=fs, window=win, \\\n",
    "                                                            nperseg = nps_s, noverlap = overlap_s, return_onesided=True)\n",
    "        v_f_s, v_t_s, v_Sxx_s = sig.spectrogram(vm[i][z], fs=fs, window=win, \\\n",
    "                                                            nperseg = nps_s, noverlap = overlap_s, return_onesided=True)\n",
    "        \n",
    "        # get high-res quadrature spectrogram and rotary\n",
    "        uv_f_s,uv_t_s,uv_Cxy_s = spectrocross(vm[i][z],um[i][z],fs=fs,window=win,nperseg=nps_s,noverlap=overlap_s,nfft=None,\n",
    "                                              detrend='constant',return_onesided=True,scaling='density',\n",
    "                                              axis=-1,mode='psd')     # cross spectrogram\n",
    "        Sxyuv_s = uv_Cxy_s.imag                                 # quadrature spectra is imag part of cross spectra\n",
    "        Scw_s = ((u_Sxx_s + v_Sxx_s) - (2*Sxyuv_s)) / 2         # rotatory components\n",
    "        Sccw_s = ((u_Sxx_s + v_Sxx_s) + (2*Sxyuv_s)) / 2 \n",
    "            \n",
    "        # convert spectro_t to datetime for x-axis on plots for PSD\n",
    "        spectro_t4 = u_t*fs\n",
    "        spectro_time_len = len(spectro_t4)\n",
    "        spectro_time_axis = np.zeros([spectro_time_len],dtype='datetime64[s]')\n",
    "        for k in range(spectro_time_len):\n",
    "            j = np.int(spectro_t4[k])\n",
    "            spectro_time_axis[k] = ds[i].t_seg[j].values    \n",
    "            \n",
    "        # convert spectro_t to datetime for x-axis on plots for spectro/depth-band\n",
    "        spectro_t4_s = u_t_s*fs\n",
    "        spectro_time_len_s = len(spectro_t4_s)\n",
    "        spectro_time_axis_s = np.zeros([spectro_time_len_s],dtype='datetime64[s]')\n",
    "        for k in range(spectro_time_len_s):\n",
    "            j = np.int(spectro_t4_s[k])\n",
    "            spectro_time_axis_s[k] = ds[i].t_seg[j].values\n",
    "\n",
    "        spect_temp.append(spectro_time_axis)\n",
    "        specf_temp.append(u_f)\n",
    "        cw_temp.append(Scw)\n",
    "        ccw_temp.append(Sccw)\n",
    "        cw_s_temp.append(Scw_s)\n",
    "        ccw_s_temp.append(Sccw_s)\n",
    "        spect_s_temp.append(spectro_time_axis_s)\n",
    "        specf_s_temp.append(u_f_s)\n",
    "        Sxu_temp.append(u_Sxx)         # non-whitened\n",
    "        Sxv_temp.append(v_Sxx)\n",
    "        Sdu_temp.append(u_Sxx_s)\n",
    "        Sdv_temp.append(v_Sxx_s)\n",
    "        \n",
    "    spect.append(spect_temp[0])   # append arrays to lists (same times and frequencies at each depth)\n",
    "    specf.append(specf_temp[0])\n",
    "    spect_s.append(spect_s_temp[0])\n",
    "    specf_s.append(specf_s_temp[0])\n",
    "    Sxu.append(Sxu_temp)          # PSD\n",
    "    Sxv.append(Sxv_temp)\n",
    "    cw.append(cw_temp)            # rotary spectra\n",
    "    ccw.append(ccw_temp)\n",
    "    cw_s.append(cw_s_temp)\n",
    "    ccw_s.append(ccw_s_temp)\n",
    "    Sdu.append(Sdu_temp)          # non-whitened spectro/depth-band\n",
    "    Sdv.append(Sdv_temp)          # list[array_segment][depth][frequency][time_segment]"
   ]
  },
  {
   "cell_type": "markdown",
   "metadata": {},
   "source": [
    "## Save\n",
    "Save key values and arrays to NetCDF format using xarray."
   ]
  },
  {
   "cell_type": "code",
   "execution_count": 16,
   "metadata": {
    "ExecuteTime": {
     "end_time": "2021-06-07T20:18:20.204018Z",
     "start_time": "2021-06-07T20:18:20.024861Z"
    },
    "code_folding": [
     0
    ],
    "scrolled": true
   },
   "outputs": [],
   "source": [
    "# save to .nc files\n",
    "\n",
    "for i in range(n_seg):\n",
    "    ds_out = xr.Dataset( \n",
    "        data_vars=dict(\n",
    "            Sxxu=(['depth','specf','spect'], Sxu[i]),                   # depth-freq-time data for PSD at each depth\n",
    "            Sxxv=(['depth','specf','spect'], Sxv[i]),\n",
    "            cw=(['depth','specf','spect'], cw[i]),                      # depth-freq-time data for rotary at each depth\n",
    "            ccw=(['depth','specf','spect'], ccw[i]),\n",
    "            Sxxu_d=(['depth','specf_s','spect_s'], Sdu[i]),             # depth-freq-time data for depth-band/spectro at each depth\n",
    "            Sxxv_d=(['depth','specf_s','spect_s'], Sdv[i]),\n",
    "            cw_d=(['depth','specf_s','spect_s'], cw_s[i]),              # depth-freq-time data for rotary for depth-band/spectro\n",
    "            ccw_d=(['depth','specf_s','spect_s'], ccw_s[i]),\n",
    "            WKB_scale=(['depth'],int_scale),                            # WKB multiplier\n",
    "        ),\n",
    "        coords=dict(\n",
    "            depth=depth,                               # depth values\n",
    "            specf=specf[i],                            # PSD frequency bins\n",
    "            specf_s=specf_s[i],                        # spectrogram frequency bins\n",
    "            spect=spect[i],                            # PSD time bins\n",
    "            spect_s=spect_s[i],                        # spectrogram time bins\n",
    "        ),\n",
    "        attrs=dict(\n",
    "            description=f'Depth-freq-time data for {adcp} {t_stamp} segment {i} (from 0 to {n_seg - 1}).',\n",
    "            n_seg=n_seg,                               # n_seg for major datagaps each year\n",
    "            adcp=adcp,                                 # adcp\n",
    "            t_stamp=t_stamp,                           # time stamp\n",
    "            t=time_total,                              # length of initial time series\n",
    "            d=d,                                       # depth range\n",
    "            start_date=str(ds[i].t_seg[0].values),     # start date of initial time series segment\n",
    "            end_date=str(ds[i].t_seg[-1].values),      # end date of initial time series segment\n",
    "            fs=fs,                                     # sampling frequency\n",
    "            window=win,                                # fft window\n",
    "            nps=nps,                                   # fft segment length\n",
    "            overlap=overlap,                           # fft window overlap\n",
    "            nps_s=nps_s,                               # fft segment length for depth-band and spetro\n",
    "            overlap_s=overlap_s,                       # fft window overlap for depth-band and spectro\n",
    "        ),\n",
    "    ) \n",
    "\n",
    "    ds_out.to_netcdf(f'../Data/data/spectra/spectra_{adcp}_{t_stamp}_{i}.nc')"
   ]
  },
  {
   "cell_type": "code",
   "execution_count": null,
   "metadata": {},
   "outputs": [],
   "source": []
  },
  {
   "cell_type": "code",
   "execution_count": null,
   "metadata": {},
   "outputs": [],
   "source": []
  }
 ],
 "metadata": {
  "kernelspec": {
   "display_name": "Python 3",
   "language": "python",
   "name": "python3"
  },
  "language_info": {
   "codemirror_mode": {
    "name": "ipython",
    "version": 3
   },
   "file_extension": ".py",
   "mimetype": "text/x-python",
   "name": "python",
   "nbconvert_exporter": "python",
   "pygments_lexer": "ipython3",
   "version": "3.7.7"
  },
  "toc": {
   "base_numbering": 1,
   "nav_menu": {},
   "number_sections": true,
   "sideBar": true,
   "skip_h1_title": false,
   "title_cell": "Table of Contents",
   "title_sidebar": "Contents",
   "toc_cell": false,
   "toc_position": {},
   "toc_section_display": true,
   "toc_window_display": false
  },
  "varInspector": {
   "cols": {
    "lenName": "20",
    "lenType": "20",
    "lenVar": "200"
   },
   "kernels_config": {
    "python": {
     "delete_cmd_postfix": "",
     "delete_cmd_prefix": "del ",
     "library": "var_list.py",
     "varRefreshCmd": "print(var_dic_list())"
    },
    "r": {
     "delete_cmd_postfix": ") ",
     "delete_cmd_prefix": "rm(",
     "library": "var_list.r",
     "varRefreshCmd": "cat(var_dic_list()) "
    }
   },
   "types_to_exclude": [
    "module",
    "function",
    "builtin_function_or_method",
    "instance",
    "_Feature"
   ],
   "window_display": false
  }
 },
 "nbformat": 4,
 "nbformat_minor": 4
}
