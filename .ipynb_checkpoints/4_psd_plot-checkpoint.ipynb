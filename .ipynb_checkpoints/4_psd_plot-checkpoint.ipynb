{
 "cells": [
  {
   "cell_type": "markdown",
   "metadata": {},
   "source": [
    "# 4 - PSD\n",
    "\n",
    "Loads depth-frequency-time PSD data and then plots for various circumstances."
   ]
  },
  {
   "cell_type": "markdown",
   "metadata": {},
   "source": [
    "## Imports\n",
    "Necessary modules for analysis."
   ]
  },
  {
   "cell_type": "code",
   "execution_count": 1,
   "metadata": {
    "ExecuteTime": {
     "end_time": "2021-04-12T21:31:21.305736Z",
     "start_time": "2021-04-12T21:31:20.101832Z"
    },
    "code_folding": [
     0
    ]
   },
   "outputs": [],
   "source": [
    "# import modules\n",
    "\n",
    "import xarray as xr\n",
    "import datetime as dt\n",
    "import matplotlib.pyplot as plt\n",
    "import numpy as np\n",
    "import pandas as pd\n",
    "from scipy.stats import chi2\n",
    "for i in range(2):\n",
    "    %matplotlib notebook"
   ]
  },
  {
   "cell_type": "code",
   "execution_count": 3,
   "metadata": {
    "ExecuteTime": {
     "end_time": "2021-04-12T21:42:46.541281Z",
     "start_time": "2021-04-12T21:42:46.538834Z"
    }
   },
   "outputs": [],
   "source": [
    "a12345678901234567890 = 'test'"
   ]
  },
  {
   "cell_type": "code",
   "execution_count": 2,
   "metadata": {
    "ExecuteTime": {
     "end_time": "2021-04-12T21:31:28.440234Z",
     "start_time": "2021-04-12T21:31:28.310793Z"
    },
    "cell_style": "center",
    "code_folding": [
     7,
     13
    ]
   },
   "outputs": [],
   "source": [
    "# import data\n",
    "\n",
    "adcp = 'Axis55'     # Slope(2013,2014,2017,2018), Axis75(2013,2014), Axis55(2017,2018)\n",
    "year = 2018\n",
    "ds_in = xr.open_dataset(f'../Data/data/spectra/spectra_{adcp}_{year}_0.nc')\n",
    "\n",
    "n_seg = ds_in.n_seg\n",
    "if n_seg > 1:\n",
    "    ds = [ds_in]\n",
    "    for i in range(n_seg):\n",
    "        if i > 0:\n",
    "            ds_temp = xr.open_dataset(f'../Data/data/spectra/spectra_{adcp}_{year}_{i}.nc')\n",
    "            ds.append(ds_temp)\n",
    "elif n_seg == 1:\n",
    "    ds = [ds_in]\n",
    "\n",
    "#print(ds)"
   ]
  },
  {
   "cell_type": "code",
   "execution_count": null,
   "metadata": {
    "cell_style": "center",
    "code_folding": [
     0
    ]
   },
   "outputs": [],
   "source": [
    "# extract plotting variables & GM\n",
    "\n",
    "t_stamp = int(ds[0].t_stamp)\n",
    "depth = ds[0].depth.values\n",
    "f = ds[0].specf.values\n",
    "\n",
    "# GM spectrum\n",
    "\n",
    "gm = np.loadtxt('../project/archive/GM/gm.dat')   # get GM data from separate code\n",
    "gm_freq = gm[:,0]                                # GM based on N at -904 m\n",
    "gm_psd = gm[:,1]"
   ]
  },
  {
   "cell_type": "code",
   "execution_count": null,
   "metadata": {
    "cell_style": "center",
    "code_folding": [
     0
    ],
    "scrolled": true
   },
   "outputs": [],
   "source": [
    "# select and average time\n",
    "\n",
    "# set date range\n",
    "\n",
    "start_date = dt.datetime(t_stamp,1,1)                                   # input start date in YYYY,MM,DD\n",
    "end_date = dt.datetime(t_stamp+1,1,1)                                   # input end date in YYYY,MM,DD\n",
    "\n",
    "dt_list,phi_u,phi_v = [],[],[]\n",
    "for i in range(n_seg):\n",
    "    dt_temp = pd.Series(pd.to_datetime(ds[i].spect.values))\n",
    "    t_seg = len(dt_temp)\n",
    "    for j in range(t_seg):\n",
    "        if dt_temp[j] >= start_date and dt_temp[j] <= end_date:\n",
    "            dt_list.append(ds[i].spect[j].values)\n",
    "            phi_u.append(ds[i].Sxxu[:,:,j])                 # time segment, [depth, freq]\n",
    "            phi_v.append(ds[i].Sxxv[:,:,j])\n",
    "avg_u = sum(phi_u)/len(dt_list)\n",
    "avg_v = sum(phi_v)/len(dt_list)\n",
    "            \n",
    "print(\"Output time range:\",dt_list[0],'to',dt_list[-1])     # print to check desired interval"
   ]
  },
  {
   "cell_type": "markdown",
   "metadata": {},
   "source": [
    "## Depth-average PSD (annual)"
   ]
  },
  {
   "cell_type": "code",
   "execution_count": null,
   "metadata": {
    "code_folding": [
     0
    ],
    "scrolled": false
   },
   "outputs": [],
   "source": [
    "# WKB scale and depth average\n",
    "\n",
    "WKB_u = avg_u / ds[0].WKB_scale\n",
    "WKB_v = avg_v / ds[0].WKB_scale\n",
    "\n",
    "depth_u = WKB_u.mean(dim='depth')\n",
    "depth_v = WKB_v.mean(dim='depth')"
   ]
  },
  {
   "cell_type": "code",
   "execution_count": null,
   "metadata": {
    "code_folding": [
     0
    ]
   },
   "outputs": [],
   "source": [
    "# error bars (95% confidence intervals) for each depth\n",
    "\n",
    "probability = 0.95                            # calculate confidence intervals\n",
    "alpha = 1 - probability        \n",
    "NS = ds[0].t / (ds[0].nps / 2)             # number of estimates, Welch\n",
    "vp = (4/3)*NS                                 # for tapered windows\n",
    "cp = chi2.ppf([1 - alpha / 2, alpha / 2], vp) # chi**2 distribution\n",
    "cint = vp/cp                                  # interval coefficients\n",
    "\n",
    "u_lower = depth_u * cint[0]             # define upper and lower confidence values\n",
    "u_upper = depth_u * cint[1]\n",
    "v_lower = depth_v * cint[0]             # define upper and lower confidence values\n",
    "v_upper = depth_v * cint[1]\n",
    "tot_lower = (depth_u + depth_v) * cint[0]             # define upper and lower confidence values\n",
    "tot_upper = (depth_u + depth_v) * cint[1]"
   ]
  },
  {
   "cell_type": "code",
   "execution_count": null,
   "metadata": {
    "code_folding": [
     0
    ]
   },
   "outputs": [],
   "source": [
    "# plot PSD\n",
    "\n",
    "fig, ax = plt.subplots(1,1,figsize=(12,7))\n",
    "\n",
    "ax.axvline(1.161e-5, color ='lawngreen',ls='--',lw=0.9,label = \"$K_1$\") # constituents\n",
    "ax.axvline(1.732e-5, color ='cyan',ls='--', lw=0.9,label = \"$f$\")    \n",
    "ax.axvline(2.236e-5, color ='orange',ls='--',lw=0.9,label = \"$M_2$\")\n",
    "ax.axvline(3.968e-5, color ='gold',ls='--',lw=0.9,label = \"$fM_2$\")\n",
    "ax.axvline(4.472e-5, color ='pink',ls='--',lw=0.9,label = \"$M_4$\")\n",
    "ax.set_ylim(1e-2,5e3)          # set y limits for comparing PSD\n",
    "ax.set_xlim(1.27e-6, 5.55e-4)  # first non-zero freq bin to the Nyquist freq \n",
    "\n",
    "ax.tick_params(axis='both', direction='in', which='both')\n",
    "ax.set_title(f'Depth-average PSD - {adcp} - {t_stamp}')\n",
    "ax.set_ylabel('Power spectral density [$(m/s)^2/Hz$]',fontsize=11)\n",
    "ax.set_xlabel('Frequency [Hz]',fontsize=11)\n",
    "\n",
    "if adcp == 'Axis75' or adcp == 'Slope':\n",
    "    ax.axhline(2.3e-2,color='grey',ls=':',lw=0.9,label='Noise floor')\n",
    "elif adcp == 'Axis55':\n",
    "    ax.axhline(0.53,color='grey',ls=':',lw=0.9,label='Noise floor')\n",
    "\n",
    "ax.loglog(gm_freq/(2*np.pi),gm_psd*(np.pi),color='grey',lw=0.9,ls='--', label='GM79 - 1/2 amp.') # 1/2 GM for components\n",
    "ax.loglog(gm_freq/(2*np.pi),gm_psd*(2*np.pi),color='grey', label='GM79') # GM  \n",
    "\n",
    "if adcp == 'Slope':\n",
    "    ax.loglog(f, depth_u, label='Cross-slope',color='blue',lw=0.9,ls='--')\n",
    "    ax.loglog(f, depth_v, label='Along-slope',color='red',lw=0.9,ls='--')\n",
    "    ax.loglog(f, (depth_u + depth_v), label='Total',color='black')\n",
    "elif adcp == 'Axis55' or adcp == 'Axis75':\n",
    "    ax.loglog(f, depth_u, label='Cross-canyon',color='blue',lw=0.9,ls='--')\n",
    "    ax.loglog(f, depth_v, label='Along-canyon',color='red',lw=0.9,ls='--')\n",
    "    ax.loglog(f, (depth_u + depth_v), label='Total',color='black')\n",
    "\n",
    "ax.fill_between(f, u_lower, u_upper, facecolor='blue', alpha=0.1)\n",
    "ax.fill_between(f, v_lower, v_upper, facecolor='red', alpha=0.1)\n",
    "ax.fill_between(f, tot_lower, tot_upper, facecolor='black', alpha=0.2, label = '95% conf. int.')\n",
    "\n",
    "fig.tight_layout()\n",
    "plt.legend(loc='upper right',frameon=False,fontsize=9)\n",
    "plt.show()\n",
    "\n",
    "plt.savefig(fname=f'./plots/psd_plots/psd_{adcp}_{t_stamp}.pdf',format='pdf')"
   ]
  },
  {
   "cell_type": "markdown",
   "metadata": {
    "deletable": false,
    "editable": false,
    "run_control": {
     "frozen": true
    }
   },
   "source": [
    "## Depth comparison PSD (annual)"
   ]
  },
  {
   "cell_type": "code",
   "execution_count": null,
   "metadata": {
    "code_folding": [
     0
    ],
    "deletable": false,
    "editable": false,
    "run_control": {
     "frozen": true
    },
    "scrolled": true
   },
   "outputs": [],
   "source": [
    "# select depths and WKB scale\n",
    "\n",
    "dupidx = 0                                     # upper depth\n",
    "dlowidx = -1                                   # lower depth\n",
    "dup_stamp = -depth[dupidx]                     # stamps for plotting\n",
    "dlow_stamp = -depth[dlowidx]\n",
    "print('Upper depth:',dup_stamp)\n",
    "print('Lower depth:',dlow_stamp)\n",
    "\n",
    "u_up = avg_u[dupidx].values / ds[0].WKB_scale[dupidx].values                    # data for plotting, WKB scaled\n",
    "v_up = avg_v[dupidx].values / ds[0].WKB_scale[dupidx].values\n",
    "u_low = avg_u[dlowidx].values / ds[0].WKB_scale[dlowidx].values\n",
    "v_low = avg_v[dlowidx].values / ds[0].WKB_scale[dlowidx].values"
   ]
  },
  {
   "cell_type": "code",
   "execution_count": null,
   "metadata": {
    "code_folding": [
     0
    ],
    "deletable": false,
    "editable": false,
    "run_control": {
     "frozen": true
    }
   },
   "outputs": [],
   "source": [
    "# error bars (95% confidence intervals) for each depth\n",
    "\n",
    "probability = 0.95                            # calculate confidence intervals\n",
    "alpha = 1 - probability        \n",
    "NS = ds[0].t / (ds[0].nps / 2)             # number of estimates, Welch\n",
    "vp = (4/3)*NS                                 # for tapered windows\n",
    "cp = chi2.ppf([1 - alpha / 2, alpha / 2], vp) # chi**2 distribution\n",
    "cint = vp/cp                                  # interval coefficients\n",
    "\n",
    "u_low_lower = u_low * cint[0]             # define upper and lower confidence values\n",
    "u_low_upper = u_low * cint[1]\n",
    "v_low_lower = v_low * cint[0]             # define upper and lower confidence values\n",
    "v_low_upper = v_low * cint[1]\n",
    "u_up_lower = u_up * cint[0]               # define upper and lower confidence values\n",
    "u_up_upper = u_up * cint[1]\n",
    "v_up_lower = v_up * cint[0]               # define upper and lower confidence values\n",
    "v_up_upper = v_up * cint[1]"
   ]
  },
  {
   "cell_type": "code",
   "execution_count": null,
   "metadata": {
    "code_folding": [
     0
    ],
    "deletable": false,
    "editable": false,
    "run_control": {
     "frozen": true
    }
   },
   "outputs": [],
   "source": [
    "# plot PSD\n",
    "\n",
    "fig, ax = plt.subplots(1,1,figsize=(12,7))\n",
    "\n",
    "ax.axvline(1.161e-5, color ='lawngreen',ls='--',lw=0.8,label = \"$K_1$\") # constituents\n",
    "ax.axvline(1.732e-5, color ='cyan',ls='--', lw=0.8,label = \"$f$\")    \n",
    "ax.axvline(2.236e-5, color ='orange',ls='--',lw=0.8,label = \"$M_2$\")\n",
    "ax.axvline(3.968e-5, color ='gold',ls='--',lw=0.8,label = \"$fM_2$\")\n",
    "ax.axvline(4.472e-5, color ='pink',ls='--',lw=0.8,label = \"$M_4$\")\n",
    "ax.set_ylim(1e-2,5e3)          # set y limits for comparing PSD\n",
    "ax.set_xlim(1.27e-6, 5.55e-4)  # first non-zero freq bin to the Nyquist freq \n",
    "\n",
    "ax.tick_params(axis='both', direction='in', which='both')\n",
    "ax.set_title(f'PSD - {adcp} - {t_stamp}')\n",
    "ax.set_ylabel('Power spectral density [$(m/s)^2/Hz$]')\n",
    "ax.set_xlabel('Frequency [Hz]')\n",
    "\n",
    "if adcp == 'Axis75' or adcp == 'Slope':\n",
    "    ax.axhline(2.3e-2,color='gray',ls=':',lw=0.8,label='Noise floor')\n",
    "elif adcp == 'Axis55':\n",
    "    ax.axhline(0.53,color='gray',ls=':',lw=0.8,label='Noise floor')\n",
    "    \n",
    "ax.loglog(gm_freq/(2*np.pi),gm_psd*(np.pi),color='gray',lw=0.8,ls='--', label='GM79 - 1/2 amp.') # 1/2 GM for components\n",
    "\n",
    "if adcp == 'Slope':\n",
    "    ax.loglog(f, u_up, label=f'{dup_stamp} m - Cross-slope',color='blue',lw=1)\n",
    "    ax.loglog(f, v_up, label=f'{dup_stamp} m - Along-slope',color='blue',ls='--',lw=1)\n",
    "    ax.loglog(f, u_low, label=f'{dlow_stamp} m - Cross-slope',color='red',lw=1)\n",
    "    ax.loglog(f, v_low, label=f'{dlow_stamp} m - Along-slope',color='red',ls='--',lw=1)\n",
    "elif adcp == 'Axis55' or adcp == 'Axis75':\n",
    "    ax.loglog(f, u_up, label=f'{dup_stamp} m - Cross-canyon',color='blue',lw=1)\n",
    "    ax.loglog(f, v_up, label=f'{dup_stamp} m - Along-canyon',color='blue',ls='--',lw=1)\n",
    "    ax.loglog(f, u_low, label=f'{dlow_stamp} m - Cross-canyon',color='red',lw=1)\n",
    "    ax.loglog(f, v_low, label=f'{dlow_stamp} m - Along-canyon',color='red',ls='--',lw=1)\n",
    "\n",
    "ax.fill_between(f, u_up_lower, u_up_upper, facecolor='blue', alpha=0.1)\n",
    "ax.fill_between(f, v_up_lower, v_up_upper, facecolor='blue', alpha=0.1)\n",
    "ax.fill_between(f, u_low_lower, u_low_upper, facecolor='red', alpha=0.1)\n",
    "ax.fill_between(f, v_low_lower, v_low_upper, facecolor='red', alpha=0.1, label='95% conf. int.')\n",
    "\n",
    "fig.tight_layout()\n",
    "plt.legend(loc='upper right',frameon=False,fontsize=9)\n",
    "plt.show()\n",
    "\n",
    "# plt.savefig(fname=f'./plots/psd_plots/psd_comp_{adcp}_{t_stamp}.pdf',format='pdf')"
   ]
  },
  {
   "cell_type": "code",
   "execution_count": null,
   "metadata": {},
   "outputs": [],
   "source": []
  }
 ],
 "metadata": {
  "kernelspec": {
   "display_name": "Python 3",
   "language": "python",
   "name": "python3"
  },
  "language_info": {
   "codemirror_mode": {
    "name": "ipython",
    "version": 3
   },
   "file_extension": ".py",
   "mimetype": "text/x-python",
   "name": "python",
   "nbconvert_exporter": "python",
   "pygments_lexer": "ipython3",
   "version": "3.7.7"
  },
  "toc": {
   "base_numbering": 1,
   "nav_menu": {},
   "number_sections": true,
   "sideBar": true,
   "skip_h1_title": false,
   "title_cell": "Table of Contents",
   "title_sidebar": "Contents",
   "toc_cell": false,
   "toc_position": {},
   "toc_section_display": true,
   "toc_window_display": false
  },
  "varInspector": {
   "cols": {
    "lenName": "20",
    "lenType": "20",
    "lenVar": "200"
   },
   "kernels_config": {
    "python": {
     "delete_cmd_postfix": "",
     "delete_cmd_prefix": "del ",
     "library": "var_list.py",
     "varRefreshCmd": "print(var_dic_list())"
    },
    "r": {
     "delete_cmd_postfix": ") ",
     "delete_cmd_prefix": "rm(",
     "library": "var_list.r",
     "varRefreshCmd": "cat(var_dic_list()) "
    }
   },
   "position": {
    "height": "683px",
    "left": "599px",
    "right": "20px",
    "top": "96px",
    "width": "800px"
   },
   "types_to_exclude": [
    "module",
    "function",
    "builtin_function_or_method",
    "instance",
    "_Feature"
   ],
   "window_display": false
  }
 },
 "nbformat": 4,
 "nbformat_minor": 4
}
