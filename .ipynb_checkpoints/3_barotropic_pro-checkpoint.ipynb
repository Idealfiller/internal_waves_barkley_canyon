{
 "cells": [
  {
   "cell_type": "markdown",
   "metadata": {},
   "source": [
    "# 3 - Barotropic depth-mean time series"
   ]
  },
  {
   "cell_type": "markdown",
   "metadata": {},
   "source": [
    "## Imports"
   ]
  },
  {
   "cell_type": "code",
   "execution_count": 1,
   "metadata": {
    "ExecuteTime": {
     "end_time": "2021-04-22T18:14:34.713203Z",
     "start_time": "2021-04-22T18:14:33.436780Z"
    },
    "code_folding": [
     0
    ]
   },
   "outputs": [],
   "source": [
    "# import modules\n",
    "\n",
    "import xarray as xr\n",
    "import datetime as dt\n",
    "import matplotlib.pyplot as plt\n",
    "import matplotlib.dates as pldates\n",
    "import scipy.signal as sig\n",
    "import numpy as np\n",
    "from pandas.plotting import register_matplotlib_converters\n",
    "register_matplotlib_converters()\n",
    "for i in range(2):\n",
    "    %matplotlib notebook"
   ]
  },
  {
   "cell_type": "code",
   "execution_count": 54,
   "metadata": {
    "ExecuteTime": {
     "end_time": "2021-04-22T18:22:22.401830Z",
     "start_time": "2021-04-22T18:22:22.331839Z"
    },
    "code_folding": [
     7,
     9,
     10,
     13
    ]
   },
   "outputs": [],
   "source": [
    "# import data\n",
    "\n",
    "adcp = 'Axis55'     # Slope(2013,2014,2017,2018), Axis75(2013,2014), Axis55(2017,2018)\n",
    "year = 2018\n",
    "ds_in = xr.open_dataset(f'../Data/data/adj/adj_{adcp}_{year}_0.nc')\n",
    "\n",
    "n_seg = ds_in.n_seg\n",
    "if n_seg > 1:\n",
    "    ds = [ds_in]\n",
    "    for i in range(n_seg):\n",
    "        if i > 0:\n",
    "            ds_temp = xr.open_dataset(f'../Data/data/adj/adj_{adcp}_{year}_{i}.nc')\n",
    "            ds.append(ds_temp)\n",
    "elif n_seg == 1:\n",
    "    ds = [ds_in]\n",
    "    \n",
    "#print(ds)"
   ]
  },
  {
   "cell_type": "code",
   "execution_count": 55,
   "metadata": {
    "ExecuteTime": {
     "end_time": "2021-04-22T18:22:22.410476Z",
     "start_time": "2021-04-22T18:22:22.406231Z"
    },
    "code_folding": [
     0
    ]
   },
   "outputs": [],
   "source": [
    "# extract plotting variables\n",
    "\n",
    "t_stamp = ds[0].t_stamp\n",
    "depth = ds[0].depth.values\n",
    "start_date = ds[0].start_date\n",
    "end_date = ds[0].end_date"
   ]
  },
  {
   "cell_type": "markdown",
   "metadata": {},
   "source": [
    "## Depth-mean band-pass"
   ]
  },
  {
   "cell_type": "code",
   "execution_count": 56,
   "metadata": {
    "ExecuteTime": {
     "end_time": "2021-04-22T18:22:22.421504Z",
     "start_time": "2021-04-22T18:22:22.412940Z"
    },
    "code_folding": []
   },
   "outputs": [],
   "source": [
    "# band-pass Butterworth filter\n",
    "\n",
    "fs = float(1.111e-3)                                   # samples per SECOND for entire time series\n",
    "band = 'Diurnal'\n",
    "if band == 'Diurnal':\n",
    "    Wn1 = float(1.7e-5)\n",
    "    Wn2 = float(0.8e-5)                                # filter cut-off\n",
    "b1, a1 = sig.butter(8, Wn1,'lowpass',analog=False,output='ba',fs=fs)        # digital butterworth filter low-pass\n",
    "w1, h1 = sig.freqz(b1, a1)       \n",
    "b2, a2 = sig.butter(8, Wn2,'highpass',analog=False,output='ba',fs=fs)       # digital butterworth filter high-pass\n",
    "w2, h2 = sig.freqz(b2, a2)    "
   ]
  },
  {
   "cell_type": "code",
   "execution_count": 57,
   "metadata": {
    "ExecuteTime": {
     "end_time": "2021-04-22T18:22:22.425952Z",
     "start_time": "2021-04-22T18:22:22.423976Z"
    },
    "code_folding": [
     0
    ]
   },
   "outputs": [],
   "source": [
    "# plot filter response\n",
    "\n",
    "# fig,ax = plt.subplots(1,1)\n",
    "# ax.semilogx(w1*fs/(2*np.pi),abs(h1))          # normalised from 0 to pi (NOT 2pi)\n",
    "# ax.semilogx(w2*fs/(2*np.pi),abs(h2))          # normalised from 0 to pi (NOT 2pi)\n",
    "# ax.set_xlim(5e-6,5e-5)\n",
    "# plt.plot()"
   ]
  },
  {
   "cell_type": "code",
   "execution_count": 58,
   "metadata": {
    "ExecuteTime": {
     "end_time": "2021-04-22T18:22:22.707201Z",
     "start_time": "2021-04-22T18:22:22.428322Z"
    },
    "code_folding": [
     0
    ]
   },
   "outputs": [],
   "source": [
    "# apply band-pass filter\n",
    "\n",
    "ubp,vbp = [],[]\n",
    "for i in range(n_seg):\n",
    "    ubp_temp = np.zeros([len(ds[i].t_seg),len(depth)])               # empty array for band-pass filtered u values\n",
    "    vbp_temp = np.zeros([len(ds[i].t_seg),len(depth)])               # empty array for band-pass filtered v values\n",
    "    for j in range(len(depth)):                                      # loop for filtered data\n",
    "        utemp = sig.filtfilt(b1, a1, ds[i].uorig[:,j])  # apply low pass filter\n",
    "        vtemp = sig.filtfilt(b1, a1, ds[i].vorig[:,j])\n",
    "        ubp_temp[:,j] = sig.filtfilt(b2, a2, utemp)  # apply high pass filter\n",
    "        vbp_temp[:,j] = sig.filtfilt(b2, a2, vtemp)\n",
    "    ubpds = xr.DataArray(ubp_temp,dims=('time','depth'))\n",
    "    vbpds = xr.DataArray(vbp_temp,dims=('time','depth'))\n",
    "    ubp.append(ubpds)\n",
    "    vbp.append(vbpds)"
   ]
  },
  {
   "cell_type": "code",
   "execution_count": 59,
   "metadata": {
    "ExecuteTime": {
     "end_time": "2021-04-22T18:22:22.712254Z",
     "start_time": "2021-04-22T18:22:22.709253Z"
    },
    "code_folding": [
     0
    ]
   },
   "outputs": [],
   "source": [
    "# plot depth-mean band-pass velocities (spring-neap)\n",
    "\n",
    "# fig,(ax0,ax1) = plt.subplots(2,1,figsize=(12,6),sharex=True)\n",
    "# fig.subplots_adjust(hspace=0.1)\n",
    "\n",
    "# fig.text(0.5, 0.92, f'{band} band-pass depth-mean velocities - {adcp} - {t_stamp}', ha='center', fontsize=12)\n",
    "# fig.text(0.06, 0.5, 'Velocity [m/s]', va='center', rotation='vertical')\n",
    "# fig.text(0.5, 0.04, f'Months in {t_stamp} [mm]', ha='center')\n",
    "\n",
    "# if adcp == 'Slope':\n",
    "#     fig.text(0.5, 0.885, 'Cross-slope', ha='center', fontsize=10)\n",
    "#     fig.text(0.5, 0.484, 'Along-slope', ha='center', fontsize=10)\n",
    "# elif adcp == 'Axis55' or adcp == 'Axis75':\n",
    "#     fig.text(0.5, 0.885, 'Cross-canyon', ha='center', fontsize=10)\n",
    "#     fig.text(0.5, 0.484, 'Along-canyon', ha='center', fontsize=10)\n",
    "\n",
    "# for i in range(n_seg):\n",
    "#     ax0.plot(ds[i].t_seg,ubp[i].mean(dim='depth'),color='C0')\n",
    "#     ax1.plot(ds[i].t_seg,vbp[i].mean(dim='depth'),color='C0')\n",
    "\n",
    "# date_form = pldates.DateFormatter(\"%m\")\n",
    "# ax1.xaxis.set_major_formatter(date_form)\n",
    "# ax1.set_xlim(start_date,end_date)\n",
    "\n",
    "# plt.show()\n",
    "\n",
    "#plt.savefig(fname=f'./plots/vel_plots/depthmean_{adcp}_{t_stamp}.pdf',format='pdf')"
   ]
  },
  {
   "cell_type": "code",
   "execution_count": 60,
   "metadata": {
    "ExecuteTime": {
     "end_time": "2021-04-22T18:22:22.783325Z",
     "start_time": "2021-04-22T18:22:22.714107Z"
    },
    "code_folding": [
     0
    ]
   },
   "outputs": [],
   "source": [
    "# save to .nc files\n",
    "\n",
    "for i in range(n_seg):\n",
    "    ds_out = xr.Dataset( \n",
    "        data_vars=dict(\n",
    "            ubp=(['t_seg','depth'], ubp[i]),    # adjusted data\n",
    "            vbp=(['t_seg','depth'], vbp[i]),\n",
    "        ),\n",
    "        coords=dict(\n",
    "            depth=depth,                 # depth values\n",
    "            t_seg=ds[i].t_seg,           # datetime values in segments\n",
    "        ),\n",
    "        attrs=dict(\n",
    "            description=f'{band} band-pass data for {adcp} {t_stamp} segment {i} (from 0 to {n_seg - 1}).',\n",
    "            adcp=adcp,                   # adcp\n",
    "            upidx=ds[0].upidx,           # upper depth index\n",
    "            lowidx=ds[0].lowidx,         # lower depth index\n",
    "            dup_stamp=ds[0].dup_stamp,   # upper depth stamp\n",
    "            dlow_stamp=ds[0].dlow_stamp, # lower depth stamp\n",
    "            t_stamp=t_stamp,             # year stamp\n",
    "            start_date=f'{start_date}',  # start date\n",
    "            end_date=f'{end_date}',      # end date\n",
    "            t=ds[0].t,                   # length of time series\n",
    "            d=ds[0].d,                   # length of depth series\n",
    "            n_seg=n_seg,                 # total number of segments\n",
    "        ),\n",
    "    ) \n",
    "    ds_out.to_netcdf(f'../Data/data/barotropic/{band}_bp_{adcp}_{t_stamp}_{i}.nc')"
   ]
  },
  {
   "cell_type": "code",
   "execution_count": null,
   "metadata": {},
   "outputs": [],
   "source": []
  }
 ],
 "metadata": {
  "kernelspec": {
   "display_name": "Python 3",
   "language": "python",
   "name": "python3"
  },
  "language_info": {
   "codemirror_mode": {
    "name": "ipython",
    "version": 3
   },
   "file_extension": ".py",
   "mimetype": "text/x-python",
   "name": "python",
   "nbconvert_exporter": "python",
   "pygments_lexer": "ipython3",
   "version": "3.7.7"
  },
  "toc": {
   "base_numbering": 1,
   "nav_menu": {},
   "number_sections": true,
   "sideBar": true,
   "skip_h1_title": false,
   "title_cell": "Table of Contents",
   "title_sidebar": "Contents",
   "toc_cell": false,
   "toc_position": {},
   "toc_section_display": true,
   "toc_window_display": false
  },
  "varInspector": {
   "cols": {
    "lenName": "20",
    "lenType": "20",
    "lenVar": "200"
   },
   "kernels_config": {
    "python": {
     "delete_cmd_postfix": "",
     "delete_cmd_prefix": "del ",
     "library": "var_list.py",
     "varRefreshCmd": "print(var_dic_list())"
    },
    "r": {
     "delete_cmd_postfix": ") ",
     "delete_cmd_prefix": "rm(",
     "library": "var_list.r",
     "varRefreshCmd": "cat(var_dic_list()) "
    }
   },
   "types_to_exclude": [
    "module",
    "function",
    "builtin_function_or_method",
    "instance",
    "_Feature"
   ],
   "window_display": false
  }
 },
 "nbformat": 4,
 "nbformat_minor": 4
}
