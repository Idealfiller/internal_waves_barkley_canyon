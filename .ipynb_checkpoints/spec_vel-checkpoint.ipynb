{
 "cells": [
  {
   "cell_type": "markdown",
   "metadata": {},
   "source": [
    "# Upper Slope & Axis 75 kHz ADCP"
   ]
  },
  {
   "cell_type": "markdown",
   "metadata": {},
   "source": [
    "To create various plots for either the Upper Slope or Axis ADCP velocity data."
   ]
  },
  {
   "cell_type": "markdown",
   "metadata": {
    "heading_collapsed": true
   },
   "source": [
    "## Imports"
   ]
  },
  {
   "cell_type": "code",
   "execution_count": 2,
   "metadata": {
    "ExecuteTime": {
     "end_time": "2020-08-19T18:29:09.924667Z",
     "start_time": "2020-08-19T18:29:09.917723Z"
    },
    "hidden": true
   },
   "outputs": [],
   "source": [
    "import xarray as xr\n",
    "import datetime\n",
    "from datetime import datetime\n",
    "import matplotlib.colors as colors\n",
    "import matplotlib.pyplot as plt\n",
    "import matplotlib.dates as pldates\n",
    "import numpy as np\n",
    "import scipy.signal as sig\n",
    "import scipy.interpolate as interp\n",
    "import pandas as pd\n",
    "from scipy.stats import chi2\n",
    "from pandas.plotting import register_matplotlib_converters\n",
    "register_matplotlib_converters()\n",
    "%matplotlib notebook"
   ]
  },
  {
   "cell_type": "markdown",
   "metadata": {
    "heading_collapsed": true
   },
   "source": [
    "## Data"
   ]
  },
  {
   "cell_type": "code",
   "execution_count": 95,
   "metadata": {
    "ExecuteTime": {
     "end_time": "2020-08-19T20:06:30.772269Z",
     "start_time": "2020-08-19T20:06:30.746531Z"
    },
    "hidden": true,
    "scrolled": false
   },
   "outputs": [
    {
     "name": "stdout",
     "output_type": "stream",
     "text": [
      "<xarray.Dataset>\n",
      "Dimensions:    (depth: 422, latitude: 4, longitude: 4, time: 162119)\n",
      "Coordinates:\n",
      "  * depth      (depth) float32 336.2703 336.27032 ... 968.27594 970.27026\n",
      "  * latitude   (latitude) float32 48.316517 48.3166 48.316742 48.316772\n",
      "  * longitude  (longitude) float32 -126.0508 -126.05022 -126.05016 -126.050125\n",
      "  * time       (time) datetime64[ns] 2012-06-02T05:07:29.999996672 ... 2018-06-22T10:52:30\n",
      "Data variables:\n",
      "    u          (time, depth) float32 ...\n",
      "    v          (time, depth) float32 ...\n",
      "    w          (time, depth) float32 ...\n",
      "    temp       (time) float32 ...\n",
      "Attributes:\n",
      "    Conventions:                             CF-1.6\n",
      "    title:                                   Ocean Networks Canada RDI ADCP Data\n",
      "    institution:                             Ocean Networks Canada\n",
      "    source:                                  Fixed-position Teledyne-RDI ADCP...\n",
      "    history:                                 data extracted from raw output, ...\n",
      "    references:                              http://www.oceannetworks.ca/\n",
      "    CREATION_DATE:                           20200127T191616Z\n",
      "    time_coverage_start:                     20120602T050730Z\n",
      "    time_coverage_end:                       20130511T030730Z\n",
      "    device_id:                               23064.0\n",
      "    device_heading:                          27.0\n",
      "    platform_depth:                          985.0\n",
      "    site_name:                               CanyonAxis_IP_Pod1_2012-06\n",
      "    device_name:                             RDI Workhorse Long Ranger ADCP 7...\n",
      "    location_name:                           Barkley Canyon\n",
      "    search_id:                               12573175.0\n",
      "    firmware_version:                        50.0\n",
      "    firmware_revision:                       40.0\n",
      "    frequency:                               75.0\n",
      "    beam_pattern:                            Convex\n",
      "    orientation:                             Up\n",
      "    beam_angle:                              20.0\n",
      "    adcp_setup_CQ_sysPower:                  255.0\n",
      "    adcp_setup_TE_ensemble_interval_sec:     900.0\n",
      "    adcp_setup_TP_time_ping_sec:             0.0\n",
      "    adcp_setup_WA_false_target_threshold:    255.0\n",
      "    adcp_setup_WB_system_bandwidth:          0.0\n",
      "    adcp_setup_WC_correlation_threshold:     64.0\n",
      "    adcp_setup_WE_error_threshold:           2.0\n",
      "    adcp_setup_WE_blanking_distance_meters:  7.04\n",
      "    adcp_setup_WG_percent_good_minimum:      0.0\n",
      "    adcp_setup_WN_number_bins:               80.0\n",
      "    adcp_setup_WP_number_pings:              1.0\n",
      "    adcp_setup_WS_cell_size_meters:          8.0\n",
      "    adcp_setup_WT_transmit_length:           9.46\n"
     ]
    }
   ],
   "source": [
    "#ds = xr.open_dataset('../Data/SlopeAll/slope_all.nc')\n",
    "ds = xr.open_dataset('../Data/AxisAll/axis_all.nc')\n",
    "print(ds)"
   ]
  },
  {
   "cell_type": "markdown",
   "metadata": {
    "heading_collapsed": true
   },
   "source": [
    "## Depth"
   ]
  },
  {
   "cell_type": "markdown",
   "metadata": {
    "hidden": true
   },
   "source": [
    "Truncate data to a specific depth interval to eliminate unreliable data (from visual inspection of velocity plots) from the top and bottom of the ADCP beam."
   ]
  },
  {
   "cell_type": "code",
   "execution_count": 96,
   "metadata": {
    "ExecuteTime": {
     "end_time": "2020-08-19T20:06:56.271035Z",
     "start_time": "2020-08-19T20:06:56.259586Z"
    },
    "hidden": true
   },
   "outputs": [
    {
     "name": "stdout",
     "output_type": "stream",
     "text": [
      "Index at upper depth cutoff: 48\n",
      "Value at upper depth cutoff: -400.2703 metres\n",
      "---\n",
      "Index at lower depth cutoff: 377\n",
      "Value at lower depth cutoff: -904.2703 metres\n",
      "---\n",
      "Length of new depth array:  330\n",
      "Upper limit at -400.2703 metres\n",
      "Lower limit at -904.2703 metres\n"
     ]
    }
   ],
   "source": [
    "# function to find nearby indices for desired depth values\n",
    "def find_nearest(array, value):\n",
    "    array = np.asarray(array)\n",
    "    idx = (np.abs(array - value)).argmin()\n",
    "    return idx     # returns index of nearest depth value\n",
    "\n",
    "array = ds.depth   # input array to process \n",
    "#upval = 100        # upper depth for data, metres (upper slope)\n",
    "#lowval = 330       # lower depth for data (upper slope)\n",
    "upval = 400        # upper depth for data, metres (axis)\n",
    "lowval = 900       # lower depth for data (axis)\n",
    "upidx = find_nearest(array, upval)               # index of upper depth cutoff\n",
    "lowidx = find_nearest(array,lowval)+1              # index of lower depth cutoff \n",
    "\n",
    "print(\"Index at upper depth cutoff:\", upidx)\n",
    "print(\"Value at upper depth cutoff:\", -ds.depth.values[upidx], \"metres\" )\n",
    "print('---')\n",
    "print(\"Index at lower depth cutoff:\", lowidx)\n",
    "print(\"Value at lower depth cutoff:\", -ds.depth.values[lowidx], \"metres\" )\n",
    "\n",
    "depth = np.array(ds.depth[upidx:lowidx+1])       # remove unwanted depths, this will be used in the next steps\n",
    "\n",
    "print('---')\n",
    "print(\"Length of new depth array: \", len(depth)) # new depth interval\n",
    "print('Upper limit at',-depth[0],'metres')      # depth for upper PSD\n",
    "print('Lower limit at',-depth[-1],'metres')       # depth for lower PSD\n",
    "\n",
    "# depth stamps for use in output filenames\n",
    "dup_stamp = int(-depth[0])\n",
    "dlow_stamp = int(-depth[-1])"
   ]
  },
  {
   "cell_type": "markdown",
   "metadata": {
    "heading_collapsed": true
   },
   "source": [
    "## Time"
   ]
  },
  {
   "cell_type": "markdown",
   "metadata": {
    "hidden": true
   },
   "source": [
    "Find specific time range and format dates. If significant *consecutive* NaN values are present then shorten series for that particular spectrum."
   ]
  },
  {
   "cell_type": "code",
   "execution_count": 133,
   "metadata": {
    "ExecuteTime": {
     "end_time": "2020-08-19T20:26:59.522483Z",
     "start_time": "2020-08-19T20:26:59.407476Z"
    },
    "hidden": true,
    "scrolled": false
   },
   "outputs": [
    {
     "name": "stdout",
     "output_type": "stream",
     "text": [
      "Initial time range: 2018-01-01T00:07:30.000003328 2018-06-21T23:37:30.000000000\n",
      "at depth 904.2703 m\n",
      "Time series hits trouble AFTER date: 2018-06-21T23:37:30.000000000\n",
      "Good data time range: 2018-01-01T00:07:30.000003328 2018-06-21T23:22:29.999993344\n"
     ]
    },
    {
     "name": "stderr",
     "output_type": "stream",
     "text": [
      "/Users/Kurtis/anaconda3/lib/python3.7/site-packages/ipykernel_launcher.py:4: FutureWarning: The pandas.datetime class is deprecated and will be removed from pandas in a future version. Import from datetime module instead.\n",
      "  after removing the cwd from sys.path.\n",
      "/Users/Kurtis/anaconda3/lib/python3.7/site-packages/ipykernel_launcher.py:5: FutureWarning: The pandas.datetime class is deprecated and will be removed from pandas in a future version. Import from datetime module instead.\n",
      "  \"\"\"\n"
     ]
    }
   ],
   "source": [
    "datestimes = pd.to_datetime(ds.time.values)        # convert to datetime from datetime64\n",
    "datestimes = pd.Series(datestimes)                 # convert to pandas dataframe\n",
    "\n",
    "start_date = pd.datetime(2018,1,1)\n",
    "end_date = pd.datetime(2018,6,22)\n",
    "start = datestimes[datestimes >= start_date].index[0]     # desired start date\n",
    "end = datestimes[datestimes < end_date].index[-1]       # desired end date\n",
    "time_total = ds.time.values[start:end]                               # total interval\n",
    "print(\"Initial time range:\",np.min(time_total),np.max(time_total))   # print to check desired interval\n",
    "\n",
    "# check new time series for significant NaN values\n",
    "depth_test = ds.depth[lowidx]     # mid-depth for ideal data (less noise, etc.)   \n",
    "print('at depth',ds.depth.values[lowidx],'m')\n",
    "u_test = np.array(ds.u[start:end,lowidx])        # u data at this depth\n",
    "NaN_series = np.zeros(len(u_test))                   # empty array to indicate NaN values\n",
    "counter = 0                                          # counter to keep track of # of consecutive NaN values\n",
    "for i in range(len(time_total)):                     # loop to count consecutive NaN values\n",
    "    if np.isnan(u_test[i])==True:                    # add to counter if NaN = true\n",
    "        NaN_series[i] = 1\n",
    "        counter += 1\n",
    "        if counter==2688:                              # a consecutive month worth of NaN\n",
    "            dead = i-2688                              # date time series hits significant NaN interval\n",
    "            print(\"Time series hits trouble AFTER date:\",time_total[dead])\n",
    "            time_new = time_total[0:dead]            # new truncated interval\n",
    "            end -= (len(time_total)-len(time_new))   # new end date \n",
    "            print(\"Good data time range:\",np.min(time_new),np.max(time_new))\n",
    "    elif np.isnan(u_test[i])==False:                 # reset counter if NaN inconsistent\n",
    "        counter = 0       \n",
    "\n",
    "# usable interval, for next steps\n",
    "time = ds.time.values[start:end]    \n",
    "\n",
    "# set year time stamp for output filenames\n",
    "t_stamp = f'{datestimes.dt.year[start]}'"
   ]
  },
  {
   "cell_type": "markdown",
   "metadata": {
    "ExecuteTime": {
     "end_time": "2020-08-18T23:03:13.318042Z",
     "start_time": "2020-08-18T23:03:13.315588Z"
    },
    "heading_collapsed": true
   },
   "source": [
    "## Filters"
   ]
  },
  {
   "cell_type": "markdown",
   "metadata": {
    "hidden": true
   },
   "source": [
    "Digital low-pass Butterworth filter to remove tides, if necessary."
   ]
  },
  {
   "cell_type": "code",
   "execution_count": 134,
   "metadata": {
    "ExecuteTime": {
     "end_time": "2020-08-19T20:26:59.529640Z",
     "start_time": "2020-08-19T20:26:59.524430Z"
    },
    "hidden": true
   },
   "outputs": [],
   "source": [
    "# low pass Butterworth filter for 40 hour cut-off to remove 30 hour tides\n",
    "\n",
    "fs = 4                # samples per HOUR for entire time series\n",
    "fc = 0.025            # 40 hour low pass filter cut-off\n",
    "Wn = fc / (fs / 2)    # normalised cut-off frequencies\n",
    "b, a = sig.butter(8, Wn,'lowpass')  # digital butterworth filter\n",
    "w, h = sig.freqz(b, a)"
   ]
  },
  {
   "cell_type": "markdown",
   "metadata": {
    "heading_collapsed": true
   },
   "source": [
    "## Rotate, interpolate"
   ]
  },
  {
   "cell_type": "markdown",
   "metadata": {
    "hidden": true
   },
   "source": [
    "Loop to acquire rotated and NaN filtered data.\n",
    "\n",
    "Data rotated based on a visual estimate of along-slope angle, as 30$^{\\circ}$. This could be updated to reflect Thomson's work at the A1 site, relatively nearby.\n",
    "\n",
    "Data are also interpolated to deal with minor instances of NaN values. Consistent NaN intervals are dealt with in the Time section, above."
   ]
  },
  {
   "cell_type": "code",
   "execution_count": 135,
   "metadata": {
    "ExecuteTime": {
     "end_time": "2020-08-19T20:27:17.779035Z",
     "start_time": "2020-08-19T20:26:59.531934Z"
    },
    "hidden": true
   },
   "outputs": [],
   "source": [
    "# rotate data\n",
    "theta_along_slope = np.radians(30)                       # rotation angle in radians, 30 degrees\n",
    "u_vec = ds.u[start:end,upidx:lowidx+1] + 1j*ds.v[start:end,upidx:lowidx+1]  # vector form of horizontal velocity\n",
    "u_vec_new = u_vec*np.exp(-1j*theta_along_slope)          # rotated velocity vector\n",
    "u_rot = np.real(u_vec_new)                               # u_new = Re(rotated vector)\n",
    "v_rot = np.imag(u_vec_new)                               # v_new = Im(rotated vector)\n",
    "\n",
    "# filter NaN instances from data\n",
    "t = len(time)                  # number of time data points after checking for consistent NaN intervals\n",
    "d = len(depth)                 # number of depth data points after removing unwanted depths\n",
    "\n",
    "uorig = np.empty([t,d])        # empty array for rotated u data\n",
    "vorig = np.empty([t,d])        # empty array for rotated v data\n",
    "\n",
    "for j in range(d):                       # loop to filter NaN instances from velocities at each depth\n",
    "    utemp = pd.Series(u_rot[:,j])\n",
    "    uint = utemp.interpolate(method=\"cubic\")\n",
    "    uorig[:,j] = uint                    # set interpolated data to original array\n",
    "    \n",
    "    vtemp = pd.Series(v_rot[:,j])\n",
    "    vint = vtemp.interpolate(method=\"cubic\")\n",
    "    vorig[:,j] = vint                    # set interpolated data to original array\n",
    "    \n",
    "for i in range(t):                       # loop to filter NaN instances from depth values\n",
    "    utemp = pd.Series(uorig[i,:])\n",
    "    uint = utemp.interpolate(method=\"linear\", limit_direction=\"both\")\n",
    "    uorig[i,:] = uint\n",
    "    \n",
    "    vtemp = pd.Series(vorig[i,:])\n",
    "    vint = vtemp.interpolate(method=\"linear\", limit_direction=\"both\")\n",
    "    vorig[i,:] = vint\n",
    "    \n",
    "ulp = np.empty([t,d])          # empty array for low-pass filtered u values\n",
    "vlp = np.empty([t,d])          # empty array for low-pass filtered v values\n",
    "uhp = np.empty([t,d])          # empty array for residual u values\n",
    "vhp = np.empty([t,d])          # empty array for residual v values\n",
    "\n",
    "for j in range(d):\n",
    "    uint = uorig[:,j]\n",
    "    ulp[:,j] = sig.filtfilt(b, a, uint)\n",
    "    uhp[:,j] = uint - ulp[:,j]\n",
    "    \n",
    "    vint = vorig[:,j]\n",
    "    vlp[:,j] = sig.filtfilt(b, a, vint)\n",
    "    vhp[:,j] = vint - vlp[:,j]"
   ]
  },
  {
   "cell_type": "raw",
   "metadata": {
    "hidden": true
   },
   "source": [
    "# same process for w, if desired\n",
    "\n",
    "w_new = ds.w[start:end,upidx:lowidx+1]                   # w based on time and depth filters\n",
    "worig = np.empty([t,d])        # empty array for rotated w data\n",
    "wlp = np.empty([t,d])          # empty array for low-pass filtered w values\n",
    "whp = np.empty([t,d])          # empty array for residual w values\n",
    "\n",
    "for j in range(d):                       # loop to filter NaN instances from velocities at each depth\n",
    "    wtemp = pd.Series(w_new[:,j])\n",
    "    wint = wtemp.interpolate(method=\"linear\")\n",
    "    worig[:,j] = wint                    # set interpolated data to original array\n",
    "    \n",
    "for i in range(t):                       # loop to filter NaN instances from depth values\n",
    "    wtemp = pd.Series(worig[i,:])\n",
    "    wint = wtemp.interpolate(method=\"linear\", limit_direction=\"both\")\n",
    "    worig[i,:] = wint\n",
    "    \n",
    "for j in range(d):\n",
    "    wint = worig[:,j]\n",
    "    wlp[:,j] = sig.filtfilt(b, a, wint)\n",
    "    whp[:,j] = wint - wlp[:,j]"
   ]
  },
  {
   "cell_type": "markdown",
   "metadata": {
    "heading_collapsed": true
   },
   "source": [
    "# Spectra"
   ]
  },
  {
   "cell_type": "markdown",
   "metadata": {
    "heading_collapsed": true,
    "hidden": true
   },
   "source": [
    "## Welch FFT"
   ]
  },
  {
   "cell_type": "markdown",
   "metadata": {
    "hidden": true
   },
   "source": [
    "Remove the mean from upper and lower depth limits, for spectra at those depths.\n",
    "\n",
    "Also obtain depth mean data for an average spectra through depth.\n",
    "\n",
    "Perform Welch FFT with adjustable parameters, using a Parzen window and what seems to be an optimal averaging process, based on visual analysis of spectral output.\n",
    "\n",
    "Calculate 95% confidence intervals using a chi$^2$ based method."
   ]
  },
  {
   "cell_type": "raw",
   "metadata": {
    "ExecuteTime": {
     "end_time": "2020-08-18T23:05:08.426382Z",
     "start_time": "2020-08-18T23:05:08.417663Z"
    },
    "hidden": true
   },
   "source": [
    "# remove mean from upper and lower depth limits\n",
    "\n",
    "# lower depth limit\n",
    "umlow = uorig[:,0] - np.mean(uorig[:,0]) \n",
    "vmlow = vorig[:,0] - np.mean(vorig[:,0])\n",
    "wmlow = worig[:,0] - np.mean(worig[:,0])\n",
    "\n",
    "# upper depth limit\n",
    "umup = uorig[:,-1] - np.mean(uorig[:,-1]) \n",
    "vmup = vorig[:,-1] - np.mean(vorig[:,-1])\n",
    "wmup = worig[:,-1] - np.mean(worig[:,-1])"
   ]
  },
  {
   "cell_type": "raw",
   "metadata": {
    "ExecuteTime": {
     "end_time": "2020-08-18T23:05:10.860877Z",
     "start_time": "2020-08-18T23:05:10.170051Z"
    },
    "hidden": true
   },
   "source": [
    "# depth mean data\n",
    "\n",
    "um_depth = np.zeros(t)  \n",
    "vm_depth = np.zeros(t)\n",
    "wm_depth = np.zeros(t)\n",
    "\n",
    "for i in range(t):\n",
    "    um_depth[i] = np.mean(uorig[i,:])\n",
    "for i in range(t):\n",
    "    vm_depth[i] = np.mean(vorig[i,:])\n",
    "for i in range(t):\n",
    "    wm_depth[i] = np.mean(worig[i,:])\n",
    "    \n",
    "um_depth -= np.mean(uorig)\n",
    "vm_depth -= np.mean(vorig)\n",
    "wm_depth -= np.mean(worig)"
   ]
  },
  {
   "cell_type": "raw",
   "metadata": {
    "ExecuteTime": {
     "end_time": "2020-08-18T23:05:13.761906Z",
     "start_time": "2020-08-18T23:05:13.738227Z"
    },
    "hidden": true
   },
   "source": [
    "# Welch FFT\n",
    "fs_x = 4\n",
    "window_x = 'parzen'\n",
    "np_len = int(len(time)/25)   # find optimal average for nperseg\n",
    "nperseg_x = np_len        \n",
    "\n",
    "# lower depth\n",
    "umlow_f, umlow_PSD = sig.welch(umlow, fs=fs_x, window=window_x, nperseg=nperseg_x, return_onesided=True)\n",
    "vmlow_f, vmlow_PSD = sig.welch(vmlow, fs=fs_x, window=window_x, nperseg=nperseg_x, return_onesided=True)\n",
    "wmlow_f, wmlow_PSD = sig.welch(wmlow, fs=fs_x, window=window_x, nperseg=nperseg_x, return_onesided=True)\n",
    "\n",
    "# upper depth\n",
    "umup_f, umup_PSD = sig.welch(umup, fs=fs_x, window=window_x, nperseg=nperseg_x, return_onesided=True)\n",
    "vmup_f, vmup_PSD = sig.welch(vmup, fs=fs_x, window=window_x, nperseg=nperseg_x, return_onesided=True)\n",
    "wmup_f, wmup_PSD = sig.welch(wmup, fs=fs_x, window=window_x, nperseg=nperseg_x, return_onesided=True)\n",
    "\n",
    "# depth mean\n",
    "um_depth_f, um_depth_PSD = sig.welch(um_depth, fs=fs_x, window=window_x, nperseg=nperseg_x, return_onesided=True)\n",
    "vm_depth_f, vm_depth_PSD = sig.welch(vm_depth, fs=fs_x, window=window_x, nperseg=nperseg_x, return_onesided=True)\n",
    "wm_depth_f, wm_depth_PSD = sig.welch(wm_depth, fs=fs_x, window=window_x, nperseg=nperseg_x, return_onesided=True)"
   ]
  },
  {
   "cell_type": "raw",
   "metadata": {
    "ExecuteTime": {
     "end_time": "2020-08-18T23:05:20.482852Z",
     "start_time": "2020-08-18T23:05:20.475588Z"
    },
    "hidden": true
   },
   "source": [
    "# error bars (95% confidence intervals)\n",
    "\n",
    "probability = 0.95                            # calculate confidence intervals\n",
    "alpha = 1 - probability        \n",
    "NS = len(time) / (nperseg_x / 2)              # number of estimates, Welch\n",
    "vp = (4/3)*NS                                 # for tapered windows\n",
    "cp = chi2.ppf([1 - alpha / 2, alpha / 2], vp) # chi**2 distribution\n",
    "cint = vp/cp                                  # interval coefficients\n",
    "\n",
    "umlow_lower = umlow_PSD * cint[0]             # define upper and lower confidence values\n",
    "umlow_upper = umlow_PSD * cint[1]\n",
    "vmlow_lower = vmlow_PSD * cint[0]             # define upper and lower confidence values\n",
    "vmlow_upper = vmlow_PSD * cint[1]\n",
    "wmlow_lower = wmlow_PSD * cint[0]             # define upper and lower confidence values\n",
    "wmlow_upper = wmlow_PSD * cint[1]\n",
    "\n",
    "umup_lower = umup_PSD * cint[0]           # define upper and lower confidence values\n",
    "umup_upper = umup_PSD * cint[1]\n",
    "vmup_lower = vmup_PSD * cint[0]           # define upper and lower confidence values\n",
    "vmup_upper = vmup_PSD * cint[1]\n",
    "wmup_lower = wmup_PSD * cint[0]           # define upper and lower confidence values\n",
    "wmup_upper = wmup_PSD * cint[1]"
   ]
  },
  {
   "cell_type": "markdown",
   "metadata": {
    "heading_collapsed": true,
    "hidden": true
   },
   "source": [
    "## Spectrogram"
   ]
  },
  {
   "cell_type": "markdown",
   "metadata": {
    "hidden": true
   },
   "source": [
    "Creates a spectrogram for the rotated, cleaned, and mean-removed velocity data. Spectrogram has been 'whitened', and parameters adjusted for optimal visual clarity."
   ]
  },
  {
   "cell_type": "raw",
   "metadata": {
    "ExecuteTime": {
     "end_time": "2020-08-19T05:17:13.072608Z",
     "start_time": "2020-08-19T05:17:13.054636Z"
    },
    "hidden": true
   },
   "source": [
    "# set velocity data for spectrogram process\n",
    "spectro_u = uorig[:,-1]                 # -330 m depth\n",
    "spectro_u -= np.mean(uorig[:,-1])       # remove mean for spectrogram\n",
    "spectro_v = vorig[:,-1]                 \n",
    "spectro_v -= np.mean(vorig[:,-1])       \n",
    "\n",
    "# get spectrogram\n",
    "fs_x = 4\n",
    "window_x = 'parzen'\n",
    "spectro_u_f, spectro_u_t, spectro_u_Sxx = sig.spectrogram(spectro_u, fs_x, window=window_x, \\\n",
    "                                                    nperseg = 256, noverlap = 128, return_onesided=True)\n",
    "spectro_v_f, spectro_v_t, spectro_v_Sxx = sig.spectrogram(spectro_v, fs_x, window=window_x, \\\n",
    "                                                    nperseg = 256, noverlap = 128, return_onesided=True)\n",
    "\n",
    "# 'whiten' spectrogram (flatten it) by multiplying Sxx by frequency**2\n",
    "Sxx_u_white = np.copy(spectro_u_Sxx)\n",
    "for i in range(len(spectro_u_t)):\n",
    "    Sxx_u_white[:,i] = Sxx_u_white[:,i]*(spectro_u_f**2)\n",
    "Sxx_v_white = np.copy(spectro_v_Sxx)\n",
    "for i in range(len(spectro_v_t)):\n",
    "    Sxx_v_white[:,i] = Sxx_v_white[:,i]*(spectro_v_f**2)\n",
    "\n",
    "# convert spectro_t to datetime for x-axis\n",
    "spectro_t4 = spectro_v_t*4\n",
    "spectro_time_len = len(spectro_t4)\n",
    "spectro_time_axis = np.zeros([spectro_time_len],dtype='datetime64[s]')\n",
    "for i in range(spectro_time_len):\n",
    "    j = np.int(spectro_t4[i])\n",
    "    spectro_time_axis[i] = time[j]"
   ]
  },
  {
   "cell_type": "raw",
   "metadata": {
    "ExecuteTime": {
     "end_time": "2020-08-19T05:18:01.999723Z",
     "start_time": "2020-08-19T05:18:01.207683Z"
    },
    "hidden": true,
    "scrolled": false
   },
   "source": [
    "# plot spectrogram\n",
    "\n",
    "fig, (ax0,ax1) = plt.subplots(2, 1, figsize=(10,8), sharex=True, sharey=True)\n",
    "fig.subplots_adjust(hspace=0.07)\n",
    "#fig.text(0.5, 0.915, f'Spectrogram - Upper Slope - {t_stamp}', ha='center', fontsize=12)\n",
    "fig.text(0.5, 0.915, f'Spectrogram - Axis - {t_stamp}', ha='center', fontsize=12)\n",
    "fig.text(0.06, 0.5, 'Frequency [Hz]', va='center', rotation='vertical')\n",
    "fig.text(0.86, 0.5, '$S_{xx}$ [$(m/s)^2/Hz$]', va='center', rotation='vertical')\n",
    "fig.text(0.5, 0.04, f'Months from {datestimes.dt.date[start]} [mm]', ha='center')\n",
    "fig.text(0.5, 0.885, f'Depth {dlow_stamp} [m]', ha='center')\n",
    "fig.text(0.165, 0.885, f'Cross-slope', ha='center')\n",
    "fig.text(0.165, 0.486, f'Along-slope', ha='center')\n",
    "\n",
    "im0 = ax0.pcolormesh(spectro_time_axis, spectro_u_f/3600, Sxx_u_white, rasterized=True, \\\n",
    "                    norm=colors.LogNorm(vmin=5e-5, vmax=5e-3), cmap='hot')  \n",
    "cbar0 = fig.colorbar(im0, ax=ax0, fraction=0.05, pad=0.01, aspect=40, extend='both')\n",
    "im1 = ax1.pcolormesh(spectro_time_axis, spectro_v_f/3600, Sxx_v_white, rasterized=True, \\\n",
    "                    norm=colors.LogNorm(vmin=5e-5, vmax=5e-3), cmap='hot')  \n",
    "cbar1 = fig.colorbar(im1, ax=ax1, fraction=0.05, pad=0.01, aspect=40, extend='both')\n",
    "\n",
    "ax0.set_yscale('log')\n",
    "date_form = pldates.DateFormatter(\"%m\")\n",
    "ax0.xaxis.set_major_formatter(date_form)\n",
    "#ax0.set_xlim(start_date,end_date)\n",
    "ax0.set_xlim(pd.datetime(2018,1,1),pd.datetime(2019,1,1))\n",
    "\n",
    "ax0.axhline(4.472e-5, color ='lime',ls='--',lw=0.8,label = \"$M_4$ = 4.47e-5 Hz\")\n",
    "ax0.axhline(3.968e-5, color ='orange',ls='--',lw=0.8,label = \"$fM_2$ = 3.97e-5 Hz\")\n",
    "ax0.axhline(2.236e-5, color ='white',ls='--',lw=0.8,label = \"$M_2$ = 2.24e-5 Hz\")\n",
    "ax0.axhline(1.732e-5, color ='cyan',ls='--', lw=0.8,label = \"$f$ = 1.73e-5 Hz\") \n",
    "ax0.axhline(1.161e-5, color ='lawngreen',ls='--',lw=0.8,label = \"$K_1$ = 1.16e-5 Hz\") \n",
    "ax1.axhline(4.472e-5, color ='lime',ls='--',lw=0.8)\n",
    "ax1.axhline(3.968e-5, color ='orange',ls='--',lw=0.8)\n",
    "ax1.axhline(2.236e-5, color ='white',ls='--',lw=0.8)\n",
    "ax1.axhline(1.732e-5, color ='cyan',ls='--', lw=0.8) \n",
    "ax1.axhline(1.161e-5, color ='lawngreen',ls='--',lw=0.8) \n",
    "\n",
    "plt.subplots_adjust(right=0.84)\n",
    "fig.legend(loc=(0.82,0.756), framealpha=0.8, facecolor='whitesmoke', fontsize=9)\n",
    "plt.plot()\n",
    "\n",
    "#plt.savefig(fname='./spectro_plots/spectro_slope_'+t_stamp+'.pdf',format='pdf')\n",
    "plt.savefig(fname='./spectro_plots/spectro_axis_'+t_stamp+'.pdf',format='pdf')"
   ]
  },
  {
   "cell_type": "markdown",
   "metadata": {
    "heading_collapsed": true,
    "hidden": true
   },
   "source": [
    "## Rotary"
   ]
  },
  {
   "cell_type": "markdown",
   "metadata": {
    "hidden": true
   },
   "source": [
    "Creates rotary spectra for the mean-removed, cleaned, and NON-rotated velocity data.\n",
    "\n",
    "This isn't working. Follow Rick's book, ch.5."
   ]
  },
  {
   "cell_type": "raw",
   "metadata": {
    "ExecuteTime": {
     "end_time": "2020-08-19T06:29:07.963661Z",
     "start_time": "2020-08-19T06:29:07.948985Z"
    },
    "hidden": true
   },
   "source": [
    "def spec_rot(u, v):\n",
    "    \"\"\"\n",
    "    Compute the rotary spectra from u,v velocity components\n",
    " \n",
    "    Parameters\n",
    "    ----------\n",
    "    u : array_like\n",
    "        zonal wind velocity [m s :sup:`-1`]\n",
    "    v : array_like\n",
    "        meridional wind velocity [m s :sup:`-1`]\n",
    " \n",
    "    Returns\n",
    "    -------\n",
    "    cw : array_like\n",
    "         Clockwise spectrum [TODO]\n",
    "    ccw : array_like\n",
    "          Counter-clockwise spectrum [TODO]\n",
    "    puv : array_like\n",
    "          Cross spectra [TODO]\n",
    "    quv : array_like\n",
    "          Quadrature spectra [ TODO]\n",
    " \n",
    "    Notes\n",
    "    -----\n",
    "    The spectral energy at some frequency can be decomposed into two circularly\n",
    "    polarized constituents, one rotating clockwise and other anti-clockwise.\n",
    " \n",
    "    Examples\n",
    "    --------\n",
    "    TODO: puv, quv, cw, ccw = spec_rot(u, v)\n",
    " \n",
    "    References\n",
    "    ----------\n",
    "    .. [1] J. Gonella Deep Sea Res., 833-846, 1972.\n",
    "    https://programtalk.com/vs2/python/10574/python-oceans/oceans/ocfis/ocfis.py/\n",
    " \n",
    "    \"\"\"\n",
    " \n",
    "    # Individual components Fourier series.\n",
    "    fu, fv = list(map(np.fft.fft, (u, v)))\n",
    " \n",
    "    # Auto-spectra of the scalar components.\n",
    "    pu = fu * np.conj(fu)\n",
    "    pv = fv * np.conj(fv)\n",
    " \n",
    "    # Cross spectra.\n",
    "    puv = fu.real * fv.real + fu.imag * fv.imag\n",
    " \n",
    "    # Quadrature spectra.\n",
    "    quv = -fu.real * fv.imag + fv.real * fu.imag\n",
    " \n",
    "    # Rotatory components\n",
    "    # TODO: Check the division, 4 (original code) or 8 (paper)?\n",
    "    cw = (pu + pv - 2 * quv) / 8.\n",
    "    ccw = (pu + pv + 2 * quv) / 8.\n",
    "    N = len(u)\n",
    "    F = np.arange(0, N) / N\n",
    "    return puv, quv, cw, ccw, F\n",
    "\n",
    "tcross,tquad,tcw,tccw,tF = spec_rot(uorig[:,-1],vorig[:,-1])\n",
    "print(tF)"
   ]
  },
  {
   "cell_type": "markdown",
   "metadata": {
    "heading_collapsed": true,
    "hidden": true
   },
   "source": [
    "## PSD"
   ]
  },
  {
   "cell_type": "raw",
   "metadata": {
    "ExecuteTime": {
     "end_time": "2020-07-14T07:17:43.853389Z",
     "start_time": "2020-07-14T07:17:43.699963Z"
    },
    "hidden": true,
    "scrolled": false
   },
   "source": [
    "fig, axs = plt.subplots(2,2,figsize=(9.5,12), sharex=True, sharey=True)\n",
    "(ax1,ax2),(ax3,ax4) = axs\n",
    "fig.subplots_adjust(hspace=0, wspace=0.05)\n",
    "\n",
    "ax1.loglog(um_depth_f/3600,um_depth_PSD,color='gray',lw=0.5)\n",
    "ax2.loglog(vm_depth_f/3600,vm_depth_PSD,color='gray',lw=0.5)\n",
    "ax3.loglog(um_depth_f/3600,um_depth_PSD,color='gray',lw=0.5)\n",
    "ax4.loglog(vm_depth_f/3600,vm_depth_PSD,color='gray',lw=0.5,label='Depth mean')\n",
    "\n",
    "ax1.axvline(1.161e-5, color ='orange',ls='--',lw=0.8,label = \"$K_1$ = 1.16e-5 Hz\") # inertial period\n",
    "ax1.axvline(1.732e-5, color ='red',ls='--', lw=0.8,label = \"$f$ = 1.73e-5 Hz\")\n",
    "ax1.axvline(2.236e-5, color ='purple',ls='--',lw=0.8,label = \"$M_2$ = 2.24e-5 Hz\")\n",
    "ax1.axvline(3.968e-5, color ='cyan',ls='--',lw=0.8,label = \"$fM_2$ = 3.97e-5 Hz\")\n",
    "ax1.axvline(4.472e-5, color ='magenta',ls='--',lw=0.8,label = \"$M_4$ = 4.47e-5 Hz\")\n",
    "ax1.loglog(umup_f/3600, umup_PSD)\n",
    "ax1.tick_params(axis='both', direction='in', which='both')\n",
    "ax1.set_ylim(9e-5,3e-1)\n",
    "ax1.set_xlim(5e-6,1.5e-4)\n",
    "ax1.set_title('Cross-slope')\n",
    "\n",
    "ax2.axvline(1.161e-5, color ='orange',ls='--',lw=0.8,label = \"$K_1$ = 1.16e-5 Hz\") # inertial period\n",
    "ax2.axvline(1.732e-5, color ='red',ls='--', lw=0.8,label = \"$f$ = 1.73e-5 Hz\")\n",
    "ax2.axvline(2.236e-5, color ='purple',ls='--',lw=0.8,label = \"$M_2$ = 2.24e-5 Hz\")\n",
    "ax2.axvline(3.968e-5, color ='cyan',ls='--',lw=0.8,label = \"$fM_2$ = 3.97e-5 Hz\")\n",
    "ax2.axvline(4.472e-5, color ='magenta',ls='--',lw=0.8,label = \"$M_4$ = 4.47e-5 Hz\")\n",
    "ax2.tick_params(axis='both', direction='in', which='both')\n",
    "ax2.loglog(vmup_f/3600, vmup_PSD)\n",
    "ax2.set_title('Along-slope')\n",
    "\n",
    "ax3.axvline(1.161e-5, color ='orange',ls='--',lw=0.8,label = \"$K_1$ = 1.16e-5 Hz\") # inertial period\n",
    "ax3.axvline(1.732e-5, color ='red',ls='--', lw=0.8,label = \"$f$ = 1.73e-5 Hz\")\n",
    "ax3.axvline(2.236e-5, color ='purple',ls='--',lw=0.8,label = \"$M_2$ = 2.24e-5 Hz\")\n",
    "ax3.axvline(3.968e-5, color ='cyan',ls='--',lw=0.8,label = \"$fM_2$ = 3.97e-5 Hz\")\n",
    "ax3.axvline(4.472e-5, color ='magenta',ls='--',lw=0.8,label = \"$M_4$ = 4.47e-5 Hz\")\n",
    "ax3.tick_params(axis='both', direction='in', which='both')\n",
    "ax3.loglog(umlow_f/3600, umlow_PSD)\n",
    "\n",
    "ax4.axvline(1.161e-5, color ='orange',ls='--',lw=0.8,label = \"$K_1$ = 1.16e-5 Hz\") # inertial period\n",
    "ax4.axvline(1.732e-5, color ='red',ls='--', lw=0.8,label = \"$f$ = 1.73e-5 Hz\")\n",
    "ax4.axvline(2.236e-5, color ='purple',ls='--',lw=0.8,label = \"$M_2$ = 2.24e-5 Hz\")\n",
    "ax4.axvline(3.968e-5, color ='cyan',ls='--',lw=0.8,label = \"$fM_2$ = 3.97e-5 Hz\")\n",
    "ax4.axvline(4.472e-5, color ='magenta',ls='--',lw=0.8,label = \"$M_4$ = 4.47e-5 Hz\")\n",
    "ax4.tick_params(axis='both', direction='in', which='both')\n",
    "ax4.loglog(vmlow_f/3600, vmlow_PSD)\n",
    "\n",
    "fig.text(0.905, 0.7, f'Depth {dup_stamp} m', va='center',rotation='270')\n",
    "fig.text(0.905, 0.3, f'Depth {dlow_stamp} m', va='center',rotation='270')\n",
    "fig.text(0.5,0.91,f'Upper Slope - Annual {t_stamp} - Depth comparison PSD', ha='center', fontsize=12)\n",
    "fig.text(0.06, 0.5, 'r(f) [$(m/s)^2/Hz$]', va='center', rotation='vertical')\n",
    "fig.text(0.5,0.07,'Frequency [Hz]',ha='center')\n",
    "\n",
    "ax1.fill_between(umup_f/3600, umup_lower, umup_upper, facecolor='green', alpha=0.1)\n",
    "ax2.fill_between(vmup_f/3600, vmup_lower, vmup_upper, facecolor='green', alpha=0.1)\n",
    "ax3.fill_between(umlow_f/3600, umlow_lower, umlow_upper, facecolor='green', alpha=0.1)\n",
    "ax4.fill_between(vmlow_f/3600, vmlow_lower, vmlow_upper, facecolor='green', alpha=0.1, label='95% confidence interval')\n",
    "\n",
    "ax1.loglog(umlow_f/3600,(10e-12)*(umlow_f/3600)**(-2),color='green',lw=0.8,ls='--',alpha=0.5)\n",
    "ax2.loglog(umlow_f/3600,(10e-12)*(umlow_f/3600)**(-2),color='green',lw=0.8,ls='--',alpha=0.5)\n",
    "ax3.loglog(umlow_f/3600,(10e-12)*(umlow_f/3600)**(-2),color='green',lw=0.8,ls='--',alpha=0.5)\n",
    "ax4.loglog(umlow_f/3600,(10e-12)*(umlow_f/3600)**(-2),color='green',lw=0.8,ls='--',alpha=0.5, label='-2 reference slope')\n",
    "\n",
    "plt.legend(loc='upper right', fontsize=8)\n",
    "plt.show()\n",
    "\n",
    "plt.savefig(fname='./psd_plots/psd_slope_'+t_stamp+'.pdf',format='pdf')"
   ]
  },
  {
   "cell_type": "raw",
   "metadata": {
    "ExecuteTime": {
     "end_time": "2020-07-14T07:15:55.887759Z",
     "start_time": "2020-07-14T07:15:55.791462Z"
    },
    "hidden": true,
    "scrolled": false
   },
   "source": [
    "fig, axs = plt.subplots(2,1,figsize=(6,12), sharex=True, sharey=True)\n",
    "(ax1,ax2) = axs\n",
    "fig.subplots_adjust(hspace=0, wspace=0)\n",
    "\n",
    "ax1.loglog(wm_depth_f/3600,wm_depth_PSD,color='gray',lw=0.5)\n",
    "ax2.loglog(wm_depth_f/3600,wm_depth_PSD,color='gray',lw=0.5,label='Depth mean')\n",
    "\n",
    "ax1.axvline(1.161e-5, color ='orange',ls='--',lw=0.8,label = \"$K_1$ = 1.16e-5 Hz\") # inertial period\n",
    "ax1.axvline(1.732e-5, color ='red',ls='--', lw=0.8,label = \"$f$ = 1.73e-5 Hz\")\n",
    "ax1.axvline(2.236e-5, color ='purple',ls='--',lw=0.8,label = \"$M_2$ = 2.24e-5 Hz\")\n",
    "ax1.axvline(3.968e-5, color ='cyan',ls='--',lw=0.8,label = \"$fM_2$ = 3.97e-5 Hz\")\n",
    "ax1.axvline(4.472e-5, color ='magenta',ls='--',lw=0.8,label = \"$M_4$ = 4.47e-5 Hz\")\n",
    "ax1.tick_params(axis='both', direction='in', which='both')\n",
    "ax1.loglog(wmup_f/3600, wmup_PSD)\n",
    "ax1.set_ylim(6e-6,5e-3)\n",
    "ax1.set_xlim(5e-6,1.5e-4)\n",
    "\n",
    "ax2.axvline(1.161e-5, color ='orange',ls='--',lw=0.8,label = \"$K_1$ = 1.16e-5 Hz\") # inertial period\n",
    "ax2.axvline(1.732e-5, color ='red',ls='--', lw=0.8,label = \"$f$ = 1.73e-5 Hz\")\n",
    "ax2.axvline(2.236e-5, color ='purple',ls='--',lw=0.8,label = \"$M_2$ = 2.24e-5 Hz\")\n",
    "ax2.axvline(3.968e-5, color ='cyan',ls='--',lw=0.8,label = \"$fM_2$ = 3.97e-5 Hz\")\n",
    "ax2.axvline(4.472e-5, color ='magenta',ls='--',lw=0.8,label = \"$M_4$ = 4.47e-5 Hz\")\n",
    "ax2.tick_params(axis='both', direction='in', which='both')\n",
    "ax2.loglog(wmlow_f/3600, wmlow_PSD)\n",
    "\n",
    "fig.text(0.905, 0.7, f'Depth {dup_stamp} m', va='center',rotation='270')\n",
    "fig.text(0.905, 0.3, f'Depth {dlow_stamp} m', va='center',rotation='270')\n",
    "fig.text(0.5,0.90,f'Upper Slope - Annual {t_stamp} - $w$ PSD', ha='center', fontsize=12)\n",
    "fig.text(0.04, 0.5, 'r(f) [$(m/s)^2/Hz$]', va='center', rotation='vertical')\n",
    "fig.text(0.5,0.06,'Frequency [Hz]',ha='center')\n",
    "\n",
    "ax1.fill_between(wmup_f/3600, wmup_lower, wmup_upper, facecolor='green', alpha=0.1)\n",
    "ax2.fill_between(wmlow_f/3600, wmlow_lower, wmlow_upper, facecolor='green', alpha=0.1, label='95% confidence interval')\n",
    "\n",
    "ax1.loglog(umlow_f/3600,(10e-14)*(umlow_f/3600)**(-2),color='green',lw=0.8,ls='--',alpha=0.5)\n",
    "ax2.loglog(umlow_f/3600,(10e-14)*(umlow_f/3600)**(-2),color='green',lw=0.8,ls='--',alpha=0.5,label='-2 reference slope')\n",
    "\n",
    "plt.legend(loc='upper right', fontsize=8)\n",
    "plt.show()\n",
    "\n",
    "plt.savefig(fname='./psd_plots/psd_slope_w_'+t_stamp+'.pdf',format='pdf')"
   ]
  },
  {
   "cell_type": "markdown",
   "metadata": {
    "heading_collapsed": true
   },
   "source": [
    "# Velocities"
   ]
  },
  {
   "cell_type": "raw",
   "metadata": {
    "ExecuteTime": {
     "end_time": "2020-08-19T20:27:32.007116Z",
     "start_time": "2020-08-19T20:27:17.781231Z"
    },
    "hidden": true
   },
   "source": [
    "# plot comparative data\n",
    "\n",
    "fig, axs = plt.subplots(3,2, figsize=(10,8), sharex = True, sharey = True)\n",
    "(ax1,ax4),(ax2,ax5),(ax3,ax6) = axs\n",
    "fig.subplots_adjust(hspace = 0.08,wspace = 0.05)\n",
    "#fig.text(0.5, 0.92, f'Upper Slope - Annual {t_stamp} velocity profiles', ha='center', fontsize=12)\n",
    "fig.text(0.5, 0.915, f'Axis - Annual {t_stamp} velocity profiles', ha='center', fontsize=12)\n",
    "fig.text(0.06, 0.5, 'Depth [m]', va='center', rotation='vertical')\n",
    "fig.text(0.123, 0.887, 'original (cleaned)', va='center')\n",
    "fig.text(0.123, 0.623, 'low-pass (mean currents)', va='center')\n",
    "fig.text(0.123, 0.360, 'residual', va='center')\n",
    "fig.text(0.94, 0.5, 'Velocity [m/s]', va='center', rotation='vertical')\n",
    "fig.text(0.5, 0.06, f'Months from {datestimes.dt.date[start]} [mm]', ha='center')\n",
    "ax1.set_title('Cross-slope')\n",
    "ax4.set_title('Along-slope')\n",
    "\n",
    "im1 = ax1.pcolormesh(time, -depth, uorig.T, rasterized=True, cmap='RdBu_r', vmin=-0.20, vmax=0.20)\n",
    "im2 = ax2.pcolormesh(time, -depth, ulp.T, rasterized=True, cmap='RdBu_r', vmin=-0.20, vmax=0.20)\n",
    "im3 = ax3.pcolormesh(time, -depth, uhp.T, rasterized=True, cmap='RdBu_r', vmin=-0.20, vmax=0.20)\n",
    "im4 = ax4.pcolormesh(time, -depth, vorig.T, rasterized=True, cmap='RdBu_r', vmin=-0.2, vmax=0.2)\n",
    "cbar4 = fig.colorbar(im4, ax=ax4, fraction=0.05, pad=0.01, aspect=40, extend='both')\n",
    "im5 = ax5.pcolormesh(time, -depth, vlp.T, rasterized=True, cmap='RdBu_r', vmin=-0.2, vmax=0.2)\n",
    "cbar5 = fig.colorbar(im5, ax=ax5, fraction=0.05, pad=0.01, aspect=40, extend='both')\n",
    "im6 = ax6.pcolormesh(time, -depth, vhp.T, rasterized=True, cmap='RdBu_r', vmin=-0.2, vmax=0.2)\n",
    "cbar6 = fig.colorbar(im6, ax=ax6, fraction=0.05, pad=0.01, aspect=40, extend='both')\n",
    "\n",
    "date_form = pldates.DateFormatter(\"%m\")\n",
    "ax6.xaxis.set_major_formatter(date_form)\n",
    "ax6.set_xlim(start_date,end_date)\n",
    "#ax6.set_xlim(pd.datetime(2018,1,1),pd.datetime(2019,1,1))\n",
    "\n",
    "plt.show()\n",
    "\n",
    "#plt.savefig(fname='./vel_plots/vel_slope_'+t_stamp+'.pdf',format='pdf')\n",
    "plt.savefig(fname='./vel_plots/vel_axis_'+t_stamp+'.pdf',format='pdf')"
   ]
  },
  {
   "cell_type": "markdown",
   "metadata": {
    "hidden": true
   },
   "source": []
  }
 ],
 "metadata": {
  "kernelspec": {
   "display_name": "Python 3",
   "language": "python",
   "name": "python3"
  },
  "language_info": {
   "codemirror_mode": {
    "name": "ipython",
    "version": 3
   },
   "file_extension": ".py",
   "mimetype": "text/x-python",
   "name": "python",
   "nbconvert_exporter": "python",
   "pygments_lexer": "ipython3",
   "version": "3.7.7"
  },
  "toc": {
   "base_numbering": 1,
   "nav_menu": {},
   "number_sections": true,
   "sideBar": true,
   "skip_h1_title": false,
   "title_cell": "Table of Contents",
   "title_sidebar": "Contents",
   "toc_cell": false,
   "toc_position": {
    "height": "calc(100% - 180px)",
    "left": "10px",
    "top": "150px",
    "width": "165px"
   },
   "toc_section_display": true,
   "toc_window_display": true
  },
  "varInspector": {
   "cols": {
    "lenName": 16,
    "lenType": 16,
    "lenVar": 40
   },
   "kernels_config": {
    "python": {
     "delete_cmd_postfix": "",
     "delete_cmd_prefix": "del ",
     "library": "var_list.py",
     "varRefreshCmd": "print(var_dic_list())"
    },
    "r": {
     "delete_cmd_postfix": ") ",
     "delete_cmd_prefix": "rm(",
     "library": "var_list.r",
     "varRefreshCmd": "cat(var_dic_list()) "
    }
   },
   "oldHeight": 365,
   "position": {
    "height": "387px",
    "left": "1140px",
    "right": "20px",
    "top": "69px",
    "width": "300px"
   },
   "types_to_exclude": [
    "module",
    "function",
    "builtin_function_or_method",
    "instance",
    "_Feature"
   ],
   "varInspector_section_display": "block",
   "window_display": false
  }
 },
 "nbformat": 4,
 "nbformat_minor": 2
}
