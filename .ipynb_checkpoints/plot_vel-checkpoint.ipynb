{
 "cells": [
  {
   "cell_type": "markdown",
   "metadata": {},
   "source": [
    "# 3 - Velocities\n",
    "\n",
    "Loads adjusted data and then runs various plots for velocities, mean currents, and residual flows."
   ]
  },
  {
   "cell_type": "markdown",
   "metadata": {},
   "source": [
    "## Imports\n",
    "\n",
    "Necessary modules for analysis."
   ]
  },
  {
   "cell_type": "code",
   "execution_count": 9,
   "metadata": {
    "ExecuteTime": {
     "end_time": "2021-04-21T22:34:32.522426Z",
     "start_time": "2021-04-21T22:34:30.468121Z"
    },
    "code_folding": [
     0
    ]
   },
   "outputs": [],
   "source": [
    "# import modules\n",
    "\n",
    "import xarray as xr\n",
    "import datetime as dt\n",
    "import matplotlib.pyplot as plt\n",
    "import matplotlib.dates as pldates\n",
    "import scipy.signal as sig\n",
    "import numpy as np\n",
    "from pandas.plotting import register_matplotlib_converters\n",
    "register_matplotlib_converters()\n",
    "for i in range(2):\n",
    "    %matplotlib notebook"
   ]
  },
  {
   "cell_type": "code",
   "execution_count": 186,
   "metadata": {
    "ExecuteTime": {
     "end_time": "2021-04-22T18:15:03.100884Z",
     "start_time": "2021-04-22T18:15:03.089932Z"
    },
    "code_folding": [
     7,
     13
    ]
   },
   "outputs": [],
   "source": [
    "# import data\n",
    "\n",
    "adcp = 'Slope'     # Slope(2013,2014,2017,2018), Axis75(2013,2014), Axis55(2017,2018)\n",
    "year = 2013\n",
    "ds_in = xr.open_dataset(f'../Data/data/adj/adj_{adcp}_{year}_0.nc')\n",
    "\n",
    "n_seg = ds_in.n_seg\n",
    "if n_seg > 1:\n",
    "    ds = [ds_in]\n",
    "    for i in range(n_seg):\n",
    "        if i > 0:\n",
    "            ds_temp = xr.open_dataset(f'../Data/data/adj/adj_{adcp}_{year}_{i}.nc')\n",
    "            ds.append(ds_temp)\n",
    "elif n_seg == 1:\n",
    "    ds = [ds_in]\n",
    "    \n",
    "#print(ds)"
   ]
  },
  {
   "cell_type": "code",
   "execution_count": 7,
   "metadata": {
    "ExecuteTime": {
     "end_time": "2021-04-21T22:27:46.620635Z",
     "start_time": "2021-04-21T22:27:46.616219Z"
    },
    "code_folding": [
     0
    ]
   },
   "outputs": [],
   "source": [
    "# extract plotting variables\n",
    "\n",
    "t_stamp = ds[0].t_stamp\n",
    "depth = ds[0].depth.values\n",
    "start_date = ds[0].start_date\n",
    "end_date = ds[0].end_date"
   ]
  },
  {
   "cell_type": "markdown",
   "metadata": {
    "deletable": false,
    "editable": false,
    "run_control": {
     "frozen": true
    }
   },
   "source": [
    "## Comparison plots"
   ]
  },
  {
   "cell_type": "code",
   "execution_count": null,
   "metadata": {
    "code_folding": [
     0,
     9,
     14,
     20
    ]
   },
   "outputs": [],
   "source": [
    "# plot adjusted velocity data\n",
    "\n",
    "fig, (ax0,ax1) = plt.subplots(2,1, figsize=(12,6), sharex = True, sharey = True)\n",
    "fig.subplots_adjust(hspace = 0.1)\n",
    "fig.text(0.5, 0.92, f'Adjusted velocities - {adcp} - {t_stamp}', ha='center', fontsize=12)\n",
    "fig.text(0.06, 0.5, 'Depth [m]', va='center', rotation='vertical')\n",
    "fig.text(0.92, 0.5, 'Velocity [m/s]', va='center', rotation='vertical')\n",
    "fig.text(0.5, 0.04, f'Months in {t_stamp} [mm]', ha='center')\n",
    "\n",
    "if adcp == 'Slope':\n",
    "    vmin = -0.2\n",
    "    vmax = 0.2\n",
    "    fig.text(0.5, 0.885, 'Cross-slope', ha='center', fontsize=10)\n",
    "    fig.text(0.5, 0.484, 'Along-slope', ha='center', fontsize=10)\n",
    "elif adcp == 'Axis55' or adcp == 'Axis75':\n",
    "    vmin = -0.1\n",
    "    vmax = 0.1\n",
    "    fig.text(0.5, 0.885, 'Cross-canyon', ha='center', fontsize=10)\n",
    "    fig.text(0.5, 0.484, 'Along-canyon', ha='center', fontsize=10)\n",
    "\n",
    "for i in range(n_seg):\n",
    "    im0 = ax0.pcolormesh(ds[i].t_seg, -depth, ds[i].uorig.T, rasterized=True, cmap='RdBu_r', vmin=vmin, vmax=vmax)\n",
    "    im1 = ax1.pcolormesh(ds[i].t_seg, -depth, ds[i].vorig.T, rasterized=True, cmap='RdBu_r', vmin=vmin, vmax=vmax)\n",
    "\n",
    "cbar0 = fig.colorbar(im0, ax=ax0, fraction=0.05, pad=0.01, aspect=40, extend='both')\n",
    "cbar1 = fig.colorbar(im1, ax=ax1, fraction=0.05, pad=0.01, aspect=40, extend='both')\n",
    "\n",
    "ax0.patch.set_facecolor('grey')\n",
    "ax1.patch.set_facecolor('grey')\n",
    "    \n",
    "date_form = pldates.DateFormatter(\"%m\")\n",
    "ax1.xaxis.set_major_formatter(date_form)\n",
    "ax1.set_xlim(start_date,end_date)\n",
    "\n",
    "plt.show()\n",
    "\n",
    "plt.savefig(fname=f'./plots/vel_plots/vel_{adcp}_{t_stamp}.pdf',format='pdf')"
   ]
  },
  {
   "cell_type": "code",
   "execution_count": null,
   "metadata": {
    "code_folding": [
     0
    ]
   },
   "outputs": [],
   "source": [
    "# plot mean current data\n",
    "\n",
    "fig, (ax0,ax1) = plt.subplots(2,1, figsize=(12,6), sharex = True, sharey = True)\n",
    "fig.subplots_adjust(hspace = 0.1)\n",
    "fig.text(0.5, 0.92, f'Low-pass currents - {adcp} - {t_stamp}', ha='center', fontsize=12)\n",
    "fig.text(0.06, 0.5, 'Depth [m]', va='center', rotation='vertical')\n",
    "fig.text(0.92, 0.5, 'Velocity [m/s]', va='center', rotation='vertical')\n",
    "fig.text(0.5, 0.04, f'Months in {t_stamp} [mm]', ha='center')\n",
    "\n",
    "if adcp == 'Slope':\n",
    "    vmin = -0.2\n",
    "    vmax = 0.2\n",
    "    fig.text(0.5, 0.885, 'Cross-slope', ha='center', fontsize=10)\n",
    "    fig.text(0.5, 0.484, 'Along-slope', ha='center', fontsize=10)\n",
    "elif adcp == 'Axis55' or adcp == 'Axis75':\n",
    "    vmin = -0.1\n",
    "    vmax = 0.1\n",
    "    fig.text(0.5, 0.885, 'Cross-canyon', ha='center', fontsize=10)\n",
    "    fig.text(0.5, 0.484, 'Along-canyon', ha='center', fontsize=10)\n",
    "\n",
    "for i in range(n_seg):\n",
    "    im0 = ax0.pcolormesh(ds[i].t_seg, -depth, ds[i].ulp.T, rasterized=True, cmap='RdBu_r', vmin=vmin, vmax=vmax)\n",
    "    im1 = ax1.pcolormesh(ds[i].t_seg, -depth, ds[i].vlp.T, rasterized=True, cmap='RdBu_r', vmin=vmin, vmax=vmax)\n",
    "\n",
    "cbar0 = fig.colorbar(im0, ax=ax0, fraction=0.05, pad=0.01, aspect=40, extend='both')\n",
    "cbar1 = fig.colorbar(im1, ax=ax1, fraction=0.05, pad=0.01, aspect=40, extend='both')\n",
    "\n",
    "ax0.patch.set_facecolor('grey')\n",
    "ax1.patch.set_facecolor('grey')\n",
    "    \n",
    "date_form = pldates.DateFormatter(\"%m\")\n",
    "ax1.xaxis.set_major_formatter(date_form)\n",
    "ax1.set_xlim(start_date,end_date)\n",
    "\n",
    "plt.show()\n",
    "\n",
    "plt.savefig(fname=f'./plots/vel_plots/lp_{adcp}_{t_stamp}.pdf',format='pdf')"
   ]
  },
  {
   "cell_type": "code",
   "execution_count": null,
   "metadata": {
    "code_folding": [
     0
    ]
   },
   "outputs": [],
   "source": [
    "# plot residual flow data\n",
    "\n",
    "# get residual flow data\n",
    "\n",
    "uhp,vhp = [],[]\n",
    "for i in range(n_seg):\n",
    "    uhp_seg = ds[i].uorig - ds[i].ulp\n",
    "    uhp.append(uhp_seg)\n",
    "    vhp_seg = ds[i].vorig - ds[i].vlp\n",
    "    vhp.append(vhp_seg)\n",
    "\n",
    "# plot\n",
    "    \n",
    "fig, (ax0,ax1) = plt.subplots(2,1, figsize=(12,6), sharex = True, sharey = True)\n",
    "fig.subplots_adjust(hspace = 0.1)\n",
    "fig.text(0.5, 0.92, f'High-pass currents - {adcp} - {t_stamp}', ha='center', fontsize=12)\n",
    "fig.text(0.06, 0.5, 'Depth [m]', va='center', rotation='vertical')\n",
    "fig.text(0.92, 0.5, 'Velocity [m/s]', va='center', rotation='vertical')\n",
    "fig.text(0.5, 0.04, f'Months in {t_stamp} [mm]', ha='center')\n",
    "\n",
    "if adcp == 'Slope':\n",
    "    vmin = -0.2\n",
    "    vmax = 0.2\n",
    "    fig.text(0.5, 0.885, 'Cross-slope', ha='center', fontsize=10)\n",
    "    fig.text(0.5, 0.484, 'Along-slope', ha='center', fontsize=10)\n",
    "elif adcp == 'Axis55' or adcp == 'Axis75':\n",
    "    vmin = -0.1\n",
    "    vmax = 0.1\n",
    "    fig.text(0.5, 0.885, 'Cross-canyon', ha='center', fontsize=10)\n",
    "    fig.text(0.5, 0.484, 'Along-canyon', ha='center', fontsize=10)\n",
    "\n",
    "for i in range(n_seg):\n",
    "    im0 = ax0.pcolormesh(ds[i].t_seg, -depth, uhp[i].T, rasterized=True, cmap='RdBu_r', vmin=vmin, vmax=vmax)\n",
    "    im1 = ax1.pcolormesh(ds[i].t_seg, -depth, vhp[i].T, rasterized=True, cmap='RdBu_r', vmin=vmin, vmax=vmax)\n",
    "\n",
    "cbar0 = fig.colorbar(im0, ax=ax0, fraction=0.05, pad=0.01, aspect=40, extend='both')\n",
    "cbar1 = fig.colorbar(im1, ax=ax1, fraction=0.05, pad=0.01, aspect=40, extend='both')\n",
    "\n",
    "ax0.patch.set_facecolor('grey')\n",
    "ax1.patch.set_facecolor('grey')\n",
    "    \n",
    "date_form = pldates.DateFormatter(\"%m\")\n",
    "ax1.xaxis.set_major_formatter(date_form)\n",
    "ax1.set_xlim(start_date,end_date)\n",
    "\n",
    "plt.show()\n",
    "\n",
    "plt.savefig(fname=f'./plots/vel_plots/hp_{adcp}_{t_stamp}.pdf',format='pdf')"
   ]
  }
 ],
 "metadata": {
  "kernelspec": {
   "display_name": "Python 3",
   "language": "python",
   "name": "python3"
  },
  "language_info": {
   "codemirror_mode": {
    "name": "ipython",
    "version": 3
   },
   "file_extension": ".py",
   "mimetype": "text/x-python",
   "name": "python",
   "nbconvert_exporter": "python",
   "pygments_lexer": "ipython3",
   "version": "3.7.7"
  },
  "toc": {
   "base_numbering": 1,
   "nav_menu": {},
   "number_sections": true,
   "sideBar": true,
   "skip_h1_title": false,
   "title_cell": "Table of Contents",
   "title_sidebar": "Contents",
   "toc_cell": false,
   "toc_position": {},
   "toc_section_display": true,
   "toc_window_display": false
  },
  "varInspector": {
   "cols": {
    "lenName": "20",
    "lenType": "20",
    "lenVar": "200"
   },
   "kernels_config": {
    "python": {
     "delete_cmd_postfix": "",
     "delete_cmd_prefix": "del ",
     "library": "var_list.py",
     "varRefreshCmd": "print(var_dic_list())"
    },
    "r": {
     "delete_cmd_postfix": ") ",
     "delete_cmd_prefix": "rm(",
     "library": "var_list.r",
     "varRefreshCmd": "cat(var_dic_list()) "
    }
   },
   "types_to_exclude": [
    "module",
    "function",
    "builtin_function_or_method",
    "instance",
    "_Feature"
   ],
   "window_display": false
  }
 },
 "nbformat": 4,
 "nbformat_minor": 4
}
