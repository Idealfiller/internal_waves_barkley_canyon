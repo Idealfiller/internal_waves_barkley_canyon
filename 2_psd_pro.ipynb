{
 "cells": [
  {
   "cell_type": "markdown",
   "metadata": {},
   "source": [
    "# 2 - Process PSD data\n",
    "\n",
    "Loads adjusted data and formats for spectral analysis."
   ]
  },
  {
   "cell_type": "markdown",
   "metadata": {},
   "source": [
    "## Imports\n",
    "\n",
    "Necessary modules for analysis."
   ]
  },
  {
   "cell_type": "code",
   "execution_count": 1,
   "metadata": {
    "ExecuteTime": {
     "end_time": "2021-03-25T07:24:20.494939Z",
     "start_time": "2021-03-25T07:24:19.290461Z"
    },
    "code_folding": [
     0
    ]
   },
   "outputs": [],
   "source": [
    "# import modules\n",
    "\n",
    "import xarray as xr\n",
    "import numpy as np\n",
    "import scipy.signal as sig\n",
    "from scipy.stats import chi2\n",
    "for i in range(2):\n",
    "    %matplotlib notebook"
   ]
  },
  {
   "cell_type": "code",
   "execution_count": 2,
   "metadata": {
    "ExecuteTime": {
     "end_time": "2021-03-25T07:24:20.594669Z",
     "start_time": "2021-03-25T07:24:20.497378Z"
    },
    "code_folding": [
     7,
     13
    ],
    "scrolled": true
   },
   "outputs": [],
   "source": [
    "# import data\n",
    "\n",
    "adcp = 'Axis55'     # Slope(2013,2014,2017,2018), Axis75(2013,2014), Axis55(2017,2018)\n",
    "year = 2017\n",
    "ds_in = xr.open_dataset(f'./data/1_adj/1_adj_{adcp}_{year}_0.nc')\n",
    "\n",
    "n_seg = ds_in.n_seg.values\n",
    "if n_seg > 1:\n",
    "    ds = [ds_in]\n",
    "    for i in range(n_seg):\n",
    "        if i > 0:\n",
    "            ds_temp = xr.open_dataset(f'./data/1_adj/1_adj_{adcp}_{year}_{i}.nc')\n",
    "            ds.append(ds_temp)\n",
    "elif n_seg == 1:\n",
    "    ds = [ds_in]\n",
    "    \n",
    "# print(ds)"
   ]
  },
  {
   "cell_type": "code",
   "execution_count": 3,
   "metadata": {
    "ExecuteTime": {
     "end_time": "2021-03-25T07:24:20.605894Z",
     "start_time": "2021-03-25T07:24:20.597489Z"
    },
    "code_folding": [
     0
    ]
   },
   "outputs": [],
   "source": [
    "# extract variables\n",
    "\n",
    "t_stamp = ds[0].t_stamp.values\n",
    "depth = ds[0].depth.values\n",
    "d = ds[0].d.values\n",
    "start_date = ds[0].start_date.values\n",
    "end_date = ds[0].end_date.values"
   ]
  },
  {
   "cell_type": "markdown",
   "metadata": {},
   "source": [
    "## Format PSD data\n",
    "Removes the mean from each depth. Performs Welch FFT with optimised parameters for visual analysis of spectra. Calculates 95% confidence intervals using a chi$^2$ method, the GM reference spectra is imported from gm.ipynb, WKB scaling is applied, and the noise floor is shown."
   ]
  },
  {
   "cell_type": "code",
   "execution_count": 4,
   "metadata": {
    "ExecuteTime": {
     "end_time": "2021-03-25T07:24:20.618522Z",
     "start_time": "2021-03-25T07:24:20.608480Z"
    },
    "code_folding": [
     0
    ]
   },
   "outputs": [
    {
     "name": "stdout",
     "output_type": "stream",
     "text": [
      "Total time length: 33125\n",
      "0 segment(s) too short, new total time length: 33125\n"
     ]
    }
   ],
   "source": [
    "# spectra data adjustments & Welch parameters\n",
    "\n",
    "time_total = 0\n",
    "for i in range(n_seg):\n",
    "    time_total += len(ds[i].t_seg)\n",
    "print('Total time length:',time_total)\n",
    "\n",
    "# set Welch parameters\n",
    "\n",
    "fs = 1.11e-3                  # 4 samples per HOUR, 1.11e-3 per SECOND\n",
    "win = 'hann'                  # optimal window for averaging\n",
    "if time_total >= 20000:\n",
    "    nps = 1024                # find optimal window for nperseg (1024 ~10 days)\n",
    "elif time_total < 20000:\n",
    "    nps = 512\n",
    "overlap = nps // 2            # 50% overlap, default   \n",
    "\n",
    "# remove short segments\n",
    "\n",
    "t_short = []\n",
    "for i in range(n_seg):\n",
    "    if len(ds[i].t_seg) < nps:\n",
    "        t_short.append(i)\n",
    "for i in sorted(t_short, reverse=True):\n",
    "    del ds[i]\n",
    "n_seg = n_seg - len(t_short)\n",
    "\n",
    "time_total = 0\n",
    "for i in range(n_seg):\n",
    "    time_total += len(ds[i].t_seg)\n",
    "print(len(t_short),'segment(s) too short, new total time length:',time_total)"
   ]
  },
  {
   "cell_type": "code",
   "execution_count": 5,
   "metadata": {
    "ExecuteTime": {
     "end_time": "2021-03-25T07:24:20.645849Z",
     "start_time": "2021-03-25T07:24:20.620280Z"
    },
    "code_folding": [
     0
    ]
   },
   "outputs": [],
   "source": [
    "# remove mean at each depth\n",
    "\n",
    "um,vm = [],[]\n",
    "for i in range(n_seg):\n",
    "    um_seg,vm_seg = [],[]\n",
    "    uorig_temp = ds[i].uorig.values\n",
    "    vorig_temp = ds[i].vorig.values\n",
    "    for j in range(d):\n",
    "        umtemp = np.copy(uorig_temp[:,j]) - np.nanmean(uorig_temp[:,j])\n",
    "        vmtemp = np.copy(vorig_temp[:,j]) - np.nanmean(vorig_temp[:,j])\n",
    "        um_seg.append(umtemp)\n",
    "        vm_seg.append(vmtemp)\n",
    "    um.append(um_seg)     # list[segment][depth][time]\n",
    "    vm.append(vm_seg)     # 0 is upper depth index"
   ]
  },
  {
   "cell_type": "code",
   "execution_count": 6,
   "metadata": {
    "ExecuteTime": {
     "end_time": "2021-03-25T07:24:20.695017Z",
     "start_time": "2021-03-25T07:24:20.648404Z"
    },
    "code_folding": [
     0
    ]
   },
   "outputs": [],
   "source": [
    "# PSD at each depth\n",
    "\n",
    "f_PSD,um_PSD,vm_PSD = [],[],[]\n",
    "for i in range(n_seg):\n",
    "    um_PSD_seg,vm_PSD_seg = [],[]\n",
    "    for j in range(d):\n",
    "        um_f_temp,um_PSD_temp=sig.welch(um[i][j],fs=fs,window=win,nperseg=nps,noverlap=overlap,return_onesided=True)\n",
    "        vm_f_temp,vm_PSD_temp=sig.welch(vm[i][j],fs=fs,window=win,nperseg=nps,noverlap=overlap,return_onesided=True)\n",
    "        um_PSD_seg.append(um_PSD_temp)\n",
    "        vm_PSD_seg.append(vm_PSD_temp)\n",
    "    um_PSD.append(um_PSD_seg)  # list[segment][depth][frequency]\n",
    "    vm_PSD.append(vm_PSD_seg)  # 0 is upper depth index\n",
    "f_PSD.append(um_f_temp)        # all um_f and vm_f should be the same set of frequencies; only need one set"
   ]
  },
  {
   "cell_type": "code",
   "execution_count": 7,
   "metadata": {
    "ExecuteTime": {
     "end_time": "2021-03-25T07:24:20.705032Z",
     "start_time": "2021-03-25T07:24:20.697114Z"
    },
    "code_folding": [
     0
    ]
   },
   "outputs": [],
   "source": [
    "# combine Welch segments and average with weighting, for each depth\n",
    "\n",
    "time_weights = []\n",
    "for i in range(n_seg):\n",
    "    t_len = len(ds[i].t_seg)\n",
    "    weight_temp = t_len/time_total\n",
    "    time_weights.append(weight_temp)\n",
    "\n",
    "umw_PSD,vmw_PSD = [],[]\n",
    "for j in range(d):\n",
    "    umw_PSD_temp,vmw_PSD_temp = [],[]\n",
    "    for i in range(n_seg):\n",
    "        if i == 0:\n",
    "            umw_PSD_temp.append(um_PSD[i][j]*time_weights[i])\n",
    "            vmw_PSD_temp.append(vm_PSD[i][j]*time_weights[i])\n",
    "        elif i > 0:\n",
    "            umw_PSD_temp += (um_PSD[i][j]*time_weights[i])\n",
    "            vmw_PSD_temp += (vm_PSD[i][j]*time_weights[i])\n",
    "    umw_PSD.append(umw_PSD_temp[0])      # list[depth][frequency]\n",
    "    vmw_PSD.append(vmw_PSD_temp[0])"
   ]
  },
  {
   "cell_type": "code",
   "execution_count": 8,
   "metadata": {
    "ExecuteTime": {
     "end_time": "2021-03-25T07:24:20.714237Z",
     "start_time": "2021-03-25T07:24:20.708783Z"
    },
    "code_folding": [
     0
    ],
    "scrolled": false
   },
   "outputs": [],
   "source": [
    "# apply WKB scaling at each depth\n",
    "\n",
    "scaling_array = np.load('../project/archive/N2/scaling_array.npy')\n",
    "GM_depths = scaling_array[0]                          # depths range from -4 to -924 metres\n",
    "GM_scale = scaling_array[1]\n",
    "int_scale = np.interp(depth,-GM_depths,GM_scale)\n",
    "\n",
    "umw_PSD_WKB,vmw_PSD_WKB = [],[]\n",
    "\n",
    "for i in range(d):                                    # values go in descending depth (0 is upper index)\n",
    "    umw_PSD_WKB.append(umw_PSD[i]/int_scale[i])       # list[depth][frequency]\n",
    "    vmw_PSD_WKB.append(vmw_PSD[i]/int_scale[i])"
   ]
  },
  {
   "cell_type": "code",
   "execution_count": 9,
   "metadata": {
    "ExecuteTime": {
     "end_time": "2021-03-25T07:24:20.724645Z",
     "start_time": "2021-03-25T07:24:20.717545Z"
    },
    "code_folding": [
     0
    ]
   },
   "outputs": [],
   "source": [
    "# error bars (95% confidence intervals) for each depth\n",
    "\n",
    "probability = 0.95                            # calculate confidence intervals\n",
    "alpha = 1 - probability        \n",
    "NS = time_total / (nps / 2)                   # number of estimates, Welch\n",
    "vp = (4/3)*NS                                 # for tapered windows\n",
    "cp = chi2.ppf([1 - alpha / 2, alpha / 2], vp) # chi**2 distribution\n",
    "cint = vp/cp                                  # interval coefficients\n",
    "\n",
    "u_conf_lower,u_conf_upper,v_conf_lower,v_conf_upper = [],[],[],[]\n",
    "for i in range(d):\n",
    "    u_conf_lower.append(umw_PSD_WKB[i] * cint[0])             # define upper and lower confidence values\n",
    "    u_conf_upper.append(umw_PSD_WKB[i] * cint[1])\n",
    "    v_conf_lower.append(vmw_PSD_WKB[i] * cint[0])             # define upper and lower confidence values\n",
    "    v_conf_upper.append(vmw_PSD_WKB[i] * cint[1])             # list[depth][frequency]"
   ]
  },
  {
   "cell_type": "markdown",
   "metadata": {},
   "source": [
    "## Save\n",
    "Save key values and arrays to NetCDF format using xarray."
   ]
  },
  {
   "cell_type": "code",
   "execution_count": 10,
   "metadata": {
    "ExecuteTime": {
     "end_time": "2021-03-25T07:24:20.763020Z",
     "start_time": "2021-03-25T07:24:20.726689Z"
    },
    "code_folding": [],
    "scrolled": false
   },
   "outputs": [],
   "source": [
    "# save to .nc files\n",
    "\n",
    "ds_out = xr.Dataset( \n",
    "    data_vars=dict(\n",
    "        u_PSD=(['depth','f_PSD'], umw_PSD_WKB),           # adjusted PSD data for each depth\n",
    "        v_PSD=(['depth','f_PSD'], vmw_PSD_WKB),\n",
    "        u_conf_lower=(['depth','f_PSD'], u_conf_lower),   # confidence intervals for PSD data at each depth\n",
    "        u_conf_upper=(['depth','f_PSD'], u_conf_upper),\n",
    "        v_conf_lower=(['depth','f_PSD'], v_conf_lower),\n",
    "        v_conf_upper=(['depth','f_PSD'], v_conf_upper),\n",
    "    ),\n",
    "    coords=dict(\n",
    "        adcp=adcp,                   # adcp\n",
    "        depth=depth,                 # depth values\n",
    "        t_stamp=t_stamp,             # time stamp\n",
    "        t=time_total,                # length of initial time series\n",
    "        d=d,                         # depth range\n",
    "        start_date=start_date,       # start date of initial time series\n",
    "        end_date=end_date,           # end date of initial time series\n",
    "        fs=fs,                       # sampling frequency\n",
    "        window=win,                  # fft window\n",
    "        nps=nps,                     # fft segment length\n",
    "        overlap=overlap,             # fft window overlap\n",
    "        f_PSD=f_PSD[0],              # PSD frequency bins\n",
    "    ),\n",
    "    attrs=dict(\n",
    "        description=f'PSD data for {adcp} {t_stamp}.'\n",
    "    ),\n",
    ") \n",
    "\n",
    "ds_out.to_netcdf(f'./data/2_psd_pro/2_psd_pro_{adcp}_{t_stamp}.nc')"
   ]
  },
  {
   "cell_type": "code",
   "execution_count": null,
   "metadata": {},
   "outputs": [],
   "source": []
  }
 ],
 "metadata": {
  "kernelspec": {
   "display_name": "Python 3",
   "language": "python",
   "name": "python3"
  },
  "language_info": {
   "codemirror_mode": {
    "name": "ipython",
    "version": 3
   },
   "file_extension": ".py",
   "mimetype": "text/x-python",
   "name": "python",
   "nbconvert_exporter": "python",
   "pygments_lexer": "ipython3",
   "version": "3.7.7"
  },
  "toc": {
   "base_numbering": 1,
   "nav_menu": {},
   "number_sections": true,
   "sideBar": true,
   "skip_h1_title": false,
   "title_cell": "Table of Contents",
   "title_sidebar": "Contents",
   "toc_cell": false,
   "toc_position": {},
   "toc_section_display": true,
   "toc_window_display": false
  },
  "varInspector": {
   "cols": {
    "lenName": 16,
    "lenType": 16,
    "lenVar": 40
   },
   "kernels_config": {
    "python": {
     "delete_cmd_postfix": "",
     "delete_cmd_prefix": "del ",
     "library": "var_list.py",
     "varRefreshCmd": "print(var_dic_list())"
    },
    "r": {
     "delete_cmd_postfix": ") ",
     "delete_cmd_prefix": "rm(",
     "library": "var_list.r",
     "varRefreshCmd": "cat(var_dic_list()) "
    }
   },
   "types_to_exclude": [
    "module",
    "function",
    "builtin_function_or_method",
    "instance",
    "_Feature"
   ],
   "window_display": false
  }
 },
 "nbformat": 4,
 "nbformat_minor": 4
}
