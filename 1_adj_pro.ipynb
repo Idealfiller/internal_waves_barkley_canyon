{
 "cells": [
  {
   "cell_type": "markdown",
   "metadata": {
    "cell_style": "center"
   },
   "source": [
    "# 1 - Adjust base data\n",
    "\n",
    "NetCDF data has already been combined and mapped to consistent depths. This Notebook will import data, truncate to desired depth range, check for data gaps and segment the dataset accordingly. Finally, data will be rotated according to site, small gaps interpolated, and filtered to acquire mean currents and residual flows. Output in NetCDF format for further processing."
   ]
  },
  {
   "cell_type": "markdown",
   "metadata": {
    "cell_style": "center"
   },
   "source": [
    "## Imports\n",
    "\n",
    "Import modules and data."
   ]
  },
  {
   "cell_type": "code",
   "execution_count": 1,
   "metadata": {
    "ExecuteTime": {
     "end_time": "2021-11-23T08:10:33.767824Z",
     "start_time": "2021-11-23T08:10:31.513618Z"
    },
    "cell_style": "center",
    "code_folding": [
     0
    ]
   },
   "outputs": [],
   "source": [
    "# import modules\n",
    "\n",
    "import xarray as xr\n",
    "import datetime as dt\n",
    "import matplotlib.pyplot as plt\n",
    "import numpy as np\n",
    "import scipy.signal as sig\n",
    "import pandas as pd\n",
    "for i in range(2):\n",
    "    %matplotlib notebook"
   ]
  },
  {
   "cell_type": "code",
   "execution_count": 2,
   "metadata": {
    "ExecuteTime": {
     "end_time": "2021-11-23T08:10:34.389621Z",
     "start_time": "2021-11-23T08:10:34.294839Z"
    },
    "cell_style": "center",
    "code_folding": [
     5,
     8,
     11
    ]
   },
   "outputs": [
    {
     "name": "stdout",
     "output_type": "stream",
     "text": [
      "<xarray.Dataset>\n",
      "Dimensions:  (depth: 48, time: 257962)\n",
      "Coordinates:\n",
      "  * depth    (depth) int64 3 11 19 27 35 43 51 ... 331 339 347 355 363 371 379\n",
      "  * time     (time) datetime64[ns] 2009-09-24T19:52:30 ... 2019-05-16T22:07:30\n",
      "Data variables:\n",
      "    u        (time, depth) float64 ...\n",
      "    v        (time, depth) float64 ...\n",
      "    w        (time, depth) float64 ...\n",
      "    temp     (time) float32 ...\n"
     ]
    }
   ],
   "source": [
    "# import 'raw' data\n",
    "\n",
    "adcp = 'Slope'     # Slope, Axis75, Axis55\n",
    "season = 'Annual'  # Annual, Winter, Spring, Summer, Fall\n",
    "\n",
    "if adcp == 'Slope':\n",
    "    ds = xr.open_dataset(f'../Data/{adcp}All/{adcp}_all.nc')\n",
    "    name = 'Slope'\n",
    "elif adcp == 'Axis75':\n",
    "    ds = xr.open_dataset(f'../Data/AxisAll/{adcp}/{adcp}_all.nc')\n",
    "    name = 'Axis'   # for consistent naming between Axis 75 and 55 kHz\n",
    "elif adcp == 'Axis55':\n",
    "    ds = xr.open_dataset(f'../Data/AxisAll/{adcp}/{adcp}_all.nc')\n",
    "    name = 'Axis'   # for consistent naming between Axis 75 and 55 kHz      \n",
    "    \n",
    "print(ds)"
   ]
  },
  {
   "cell_type": "code",
   "execution_count": 3,
   "metadata": {
    "ExecuteTime": {
     "end_time": "2021-10-12T05:32:48.525968Z",
     "start_time": "2021-10-12T05:32:48.523344Z"
    },
    "cell_style": "center",
    "code_folding": [
     0
    ]
   },
   "outputs": [],
   "source": [
    "# plot dataset to check data quality\n",
    "\n",
    "# fig,ax = plt.subplots(figsize=(10,4))\n",
    "# im = ax.pcolormesh(ds.time, -ds.depth, ds.u.T, rasterized=True, cmap='RdBu_r', vmin=-0.2, vmax=0.2)\n",
    "# cbar = fig.colorbar(im, ax=ax, fraction=0.05, pad=0.01, aspect=40, extend='both')\n",
    "# cbar.set_label('Velocity [m/s]')\n",
    "# ax.set_xlabel('Time')\n",
    "# ax.set_ylabel('Depth [m]')\n",
    "# ax.set_title('Velocity data')\n",
    "# plt.show()"
   ]
  },
  {
   "cell_type": "markdown",
   "metadata": {
    "cell_style": "center"
   },
   "source": [
    "## Depth\n",
    "\n",
    "Truncate data to a specific depth interval to eliminate unreliable data, based on data quality checks regarding correlation and backscatter intensity."
   ]
  },
  {
   "cell_type": "code",
   "execution_count": 4,
   "metadata": {
    "ExecuteTime": {
     "end_time": "2021-10-12T05:32:51.028016Z",
     "start_time": "2021-10-12T05:32:51.019277Z"
    },
    "cell_style": "center",
    "code_folding": [
     0,
     2,
     8,
     11,
     14
    ]
   },
   "outputs": [
    {
     "name": "stdout",
     "output_type": "stream",
     "text": [
      "Index at upper depth cutoff: 0 / Value at upper depth cutoff: -3 metres\n",
      "Index at lower depth cutoff: 47 / Value at lower depth cutoff: -379 metres\n",
      "Length of new depth array:  48 / Upper limit: -3 metres / Lower limit: -379 metres\n"
     ]
    }
   ],
   "source": [
    "# process to find nearby indices for desired depth values\n",
    "\n",
    "def find_nearest(array, value):\n",
    "    array = np.asarray(array)\n",
    "    idx = (np.abs(array - value)).argmin()\n",
    "    return idx      # returns index of nearest depth value\n",
    "\n",
    "array = ds.depth         # input array to process \n",
    "if adcp=='Slope':\n",
    "    upval = 0         # upper depth for data, metres (upper slope)\n",
    "    lowval = 400        # lower depth for data (upper slope)\n",
    "elif adcp=='Axis75':\n",
    "    upval = 0         # upper depth for data, metres (axis)\n",
    "    lowval = 1000        # lower depth for data (axis)\n",
    "elif adcp=='Axis55':\n",
    "    upval = 0            # upper depth for data, metres (axis)\n",
    "    lowval = 1000        # lower depth for data (axis)\n",
    "    \n",
    "upidx = find_nearest(array, upval)                 # index of upper depth cutoff\n",
    "lowidx = find_nearest(array,lowval)                # index of lower depth cutoff \n",
    "\n",
    "print(\"Index at upper depth cutoff:\",upidx,\"/ Value at upper depth cutoff:\",-ds.depth.values[upidx],\"metres\")\n",
    "print(\"Index at lower depth cutoff:\",lowidx,\"/ Value at lower depth cutoff:\",-ds.depth.values[lowidx],\"metres\")\n",
    "\n",
    "depth = np.array(ds.depth[upidx:lowidx+1])         # remove unwanted depths\n",
    "dup_stamp = int(-depth[0])                         # depth stamps for use in output filenames\n",
    "dlow_stamp = int(-depth[-1])\n",
    "\n",
    "print(\"Length of new depth array: \",len(depth),'/ Upper limit:',dup_stamp,'metres','/ Lower limit:',dlow_stamp,'metres')   # new depth interval"
   ]
  },
  {
   "cell_type": "markdown",
   "metadata": {
    "cell_style": "center"
   },
   "source": [
    "## Time\n",
    "\n",
    "Find specific time range and format dates. If significant *consecutive* NaN values are present, then split time series into segments for analysis processing."
   ]
  },
  {
   "cell_type": "code",
   "execution_count": 10,
   "metadata": {
    "ExecuteTime": {
     "end_time": "2021-08-12T06:26:48.313196Z",
     "start_time": "2021-08-12T06:26:48.294394Z"
    },
    "cell_style": "center",
    "code_folding": []
   },
   "outputs": [
    {
     "name": "stdout",
     "output_type": "stream",
     "text": [
      "Desired time range: 2013-01-01T00:07:30.000003328 2013-12-31T23:37:30.000000000\n",
      "2013-12-31T23:37:30.000000000\n"
     ]
    }
   ],
   "source": [
    "# set date range\n",
    "\n",
    "year = 2013\n",
    "\n",
    "datestimes = pd.to_datetime(ds.time.values)                          # convert to datetime from datetime64\n",
    "datestimes = pd.Series(datestimes)                                   # convert to pandas dataframe\n",
    "\n",
    "start_date = dt.datetime(year,1,1)                                   # input start date in YYYY,MM,DD\n",
    "end_date = dt.datetime(year+1,1,1)                                   # input end date in YYYY,MM,DD\n",
    "start = datestimes[datestimes >= start_date].index[0]                # desired start date\n",
    "end = datestimes[datestimes < end_date].index[-1]                    # desired end date\n",
    "time_test = ds.time.values[start:end]                                # test desired interval\n",
    "t_stamp = f'{datestimes.dt.year[start]}'                             # set year time stamp for output filenames\n",
    "print(\"Desired time range:\",np.min(time_test),np.max(time_test))     # print to check desired interval"
   ]
  },
  {
   "cell_type": "code",
   "execution_count": 11,
   "metadata": {
    "ExecuteTime": {
     "end_time": "2021-08-12T06:30:38.461487Z",
     "start_time": "2021-08-12T06:30:38.244116Z"
    },
    "cell_style": "center",
    "code_folding": [
     0
    ]
   },
   "outputs": [
    {
     "name": "stdout",
     "output_type": "stream",
     "text": [
      "Checked at depth -339 m\n",
      "Number of segments: 1\n",
      "Length of segment 0: 35039\n"
     ]
    }
   ],
   "source": [
    "# check time series for significant data gaps\n",
    "\n",
    "depth_test = ds.depth[lowidx-5]                        # mid depth for NaN testing\n",
    "print('Checked at depth',-depth_test.values,'m')\n",
    "\n",
    "u_test = np.array(ds.u[start:end,lowidx-5])            # u data at this depth\n",
    "counter = 0                                            # counter to keep track of # of consecutive NaN values\n",
    "nan_list = [0]                                         # empty list to keep track of NaN indices\n",
    "\n",
    "for i in range(len(time_test)):                        # loop to count consecutive NaN values\n",
    "    if np.isnan(u_test[i])==True:                      # add to counter if NaN = true\n",
    "        counter += 1\n",
    "        if counter==100:                               # length of NaN gap\n",
    "            dead = i-100                               # datetime series hits significant NaN interval\n",
    "            nan_list.append(dead)                      # append end of good data index to nan_list\n",
    "            print('Good data until:',np.max(time_test[dead+1]))\n",
    "        elif counter > 100 and i < (len(time_test)-1):   # if NaNs, but before the end of the interval\n",
    "            if np.isnan(u_test[i+1])==False:           # if next value is NOT a NaN\n",
    "                nan_list.append(i+1)                   # append that index to nan_list as start of good data\n",
    "                print('Good data resets at:',time_test[i])\n",
    "    elif np.isnan(u_test[i])==False:                   # reset counter if NaN inconsistent\n",
    "        counter = 0\n",
    "\n",
    "if (len(nan_list)%2) != 0:\n",
    "    nan_list.append(len(time_test))\n",
    "\n",
    "u_test = np.array(ds.u[start:end,:])      # total u for interval and depth, to chop\n",
    "v_test = np.array(ds.v[start:end,:])      # total v for interval and depth, to chop\n",
    "u_seg = []                                             # empty list for u segment arrays\n",
    "v_seg = []                                             # empty list for v segment arrays\n",
    "t_seg = []                                             # empty list for u segment time intervals\n",
    "\n",
    "for i in range(len(nan_list)):                         # for the number of NaN indices found\n",
    "    if i%2 != 0:                                       # for every second index\n",
    "        u_seg.append(np.array(u_test[nan_list[i-1]:nan_list[i],:]))      # create arrays of good u data\n",
    "        v_seg.append(np.array(v_test[nan_list[i-1]:nan_list[i],:]))      # create arrays of good v data\n",
    "        t_seg.append(np.array(time_test[nan_list[i-1]:nan_list[i]]))     # and their time intervals\n",
    "\n",
    "n_seg = len(u_seg)\n",
    "print('Number of segments:',n_seg)\n",
    "for i in range(n_seg):\n",
    "    print(f'Length of segment {i}:',len(t_seg[i]))"
   ]
  },
  {
   "cell_type": "code",
   "execution_count": 7,
   "metadata": {
    "ExecuteTime": {
     "end_time": "2021-07-29T01:04:10.651978Z",
     "start_time": "2021-07-29T01:04:10.649415Z"
    },
    "cell_style": "center",
    "code_folding": [
     0
    ]
   },
   "outputs": [],
   "source": [
    "# plot specified time intervals to check data quality\n",
    "\n",
    "# fig,ax = plt.subplots(figsize=(12,4))\n",
    "# for i in range(n_seg):\n",
    "#     im = ax.pcolormesh(t_seg[i], -depth, u_seg[i].T, rasterized=True, cmap='RdBu_r', vmin=-0.1, vmax=0.1)\n",
    "# cbar = fig.colorbar(im, ax=ax, fraction=0.05, pad=0.01, aspect=40, extend='both')\n",
    "# ax.set_xlim(start_date,end_date)\n",
    "# cbar.set_label('Velocity [m/s]')\n",
    "# ax.set_xlabel('Time')\n",
    "# ax.set_ylabel('Depth [m]')\n",
    "# ax.set_title('Velocity data')\n",
    "# plt.show()"
   ]
  },
  {
   "cell_type": "markdown",
   "metadata": {},
   "source": [
    "## Adjust\n",
    "Data rotated based on a visual estimate of along-slope angle, as 30$^{\\circ}$, for Upper Slope. Axis rotation based on lower canyon topography, as %%%. Data are then interpolated to deal with minor instances of NaN values, and filtered using a 40h low-pass Butterworth digital filter to extract the mean currents and residual (tidal) flows."
   ]
  },
  {
   "cell_type": "code",
   "execution_count": 17,
   "metadata": {
    "ExecuteTime": {
     "end_time": "2021-07-29T04:48:51.705392Z",
     "start_time": "2021-07-29T04:48:51.249386Z"
    },
    "cell_style": "center",
    "code_folding": [
     0
    ]
   },
   "outputs": [],
   "source": [
    "# process to rotate, interpolate, and filter raw data (no significant data gaps)\n",
    "\n",
    "uorig,ulp,vorig,vlp = [],[],[],[]   # empty lists for adjusted data\n",
    "\n",
    "for i in range(n_seg):\n",
    "\n",
    "    # rotate Upper Slope data (y is already fairly along-canyon for Axis)\n",
    "    \n",
    "    if adcp == 'Slope':\n",
    "        theta_along_slope = np.radians(-30)         # rotation angle in radians, -30 degrees to rotate AXES not velocities\n",
    "        u_old = u_seg[i] \n",
    "        v_old = v_seg[i]                                         \n",
    "        u_rot = u_old*np.cos(theta_along_slope) - v_old*np.sin(theta_along_slope)               # u_new = Re(rotated vector)\n",
    "        v_rot = u_old*np.sin(theta_along_slope) + v_old*np.cos(theta_along_slope)               # v_new = Im(rotated vector)     \n",
    "    elif adcp == 'Axis75' or adcp == 'Axis55':\n",
    "        u_rot = u_seg[i]\n",
    "        v_rot = v_seg[i]\n",
    "\n",
    "    # filter small NaN instances from data\n",
    "\n",
    "    t = len(t_seg[i])                        # number of time data points after checking for consistent NaN intervals\n",
    "    d = len(depth)                           # number of depth data points after removing unwanted depths\n",
    "\n",
    "    uorig_temp = np.empty([t,d])             # empty array for interpolated & rotated u data\n",
    "    vorig_temp = np.empty([t,d])             # empty array for interpolated & rotated v data\n",
    "\n",
    "    for j in range(d):                       # loop to interpolate small gaps at each depth\n",
    "        utemp = pd.Series(u_rot[:,j])\n",
    "        uint = utemp.interpolate(method=\"linear\", limit = 100, limit_direction='both')\n",
    "        uorig_temp[:,j] = uint               # set interpolated data to original array\n",
    "        vtemp = pd.Series(v_rot[:,j])\n",
    "        vint = vtemp.interpolate(method=\"linear\", limit = 100, limit_direction='both')\n",
    "        vorig_temp[:,j] = vint               # set interpolated data to original array\n",
    "\n",
    "    # low pass Butterworth filter for 40 hour cut-off to remove 30 hour tides\n",
    "\n",
    "    fs = 1.111e-3                            # samples per SECOND for entire time series\n",
    "    fc = 6.944e-6                            # 40 hour low pass filter cut-off\n",
    "    Wn = fc                                  # cut-off frequencies\n",
    "    sos = sig.butter(8, Wn,'lowpass', fs=fs, output='sos')   # digital butterworth filter\n",
    "    #w, h = sig.sosfreqz(sos)                   # to plot filter response\n",
    "\n",
    "    ulp_temp = np.empty([t,d])               # empty array for low-pass filtered u values\n",
    "    vlp_temp = np.empty([t,d])               # empty array for low-pass filtered v values\n",
    "\n",
    "    for j in range(d):                       # loop for filtered and residual velocities\n",
    "        ufilt = np.copy(uorig_temp[:,j])     # copy unfiltered array\n",
    "        ulp_temp[:,j] = sig.sosfiltfilt(sos, ufilt)  # apply low pass filter\n",
    "\n",
    "        vfilt = np.copy(vorig_temp[:,j])           # repeat for v\n",
    "        vlp_temp[:,j] = sig.sosfiltfilt(sos, vfilt)\n",
    "        \n",
    "    uorig.append(uorig_temp)                  # append cleaned data to lists\n",
    "    vorig.append(vorig_temp)\n",
    "    ulp.append(ulp_temp)\n",
    "    vlp.append(vlp_temp)"
   ]
  },
  {
   "cell_type": "code",
   "execution_count": 19,
   "metadata": {
    "ExecuteTime": {
     "end_time": "2021-07-29T04:51:05.698569Z",
     "start_time": "2021-07-29T04:51:05.696694Z"
    },
    "code_folding": []
   },
   "outputs": [],
   "source": [
    "# plot filter response\n",
    "\n",
    "#plt.semilogx(w*fs/(2*np.pi),abs(h))"
   ]
  },
  {
   "cell_type": "code",
   "execution_count": 11,
   "metadata": {
    "ExecuteTime": {
     "end_time": "2021-07-29T01:10:04.596207Z",
     "start_time": "2021-07-29T01:10:04.593708Z"
    },
    "cell_style": "center",
    "code_folding": [
     0
    ]
   },
   "outputs": [],
   "source": [
    "# plot specified time intervals to check data quality\n",
    "\n",
    "# fig,ax = plt.subplots(figsize=(12,4))\n",
    "# for i in range(n_seg):\n",
    "#     im = ax.pcolormesh(t_seg[i], -depth, uorig[i].T, rasterized=True, cmap='RdBu_r', vmin=-0.1, vmax=0.1)\n",
    "# cbar = fig.colorbar(im, ax=ax, fraction=0.05, pad=0.01, aspect=40, extend='both')\n",
    "# ax.set_xlim(start_date,end_date)\n",
    "# cbar.set_label('Velocity [m/s]')\n",
    "# ax.set_xlabel('Time')\n",
    "# ax.set_ylabel('Depth [m]')\n",
    "# ax.set_title('Velocity data')\n",
    "# plt.show()"
   ]
  },
  {
   "cell_type": "markdown",
   "metadata": {},
   "source": [
    "## Save\n",
    "Save key values and arrays to NetCDF format using xarray."
   ]
  },
  {
   "cell_type": "code",
   "execution_count": 11,
   "metadata": {
    "ExecuteTime": {
     "end_time": "2021-07-15T18:44:00.955103Z",
     "start_time": "2021-07-15T18:44:00.872173Z"
    },
    "code_folding": [
     0
    ],
    "scrolled": false
   },
   "outputs": [],
   "source": [
    "# save to .nc files\n",
    "\n",
    "for i in range(n_seg):\n",
    "    ds_out = xr.Dataset( \n",
    "        data_vars=dict(\n",
    "            uorig=(['t_seg','depth'], uorig[i]),    # adjusted data\n",
    "            vorig=(['t_seg','depth'], vorig[i]),\n",
    "            ulp=(['t_seg','depth'], ulp[i]),        # low-pass data\n",
    "            vlp=(['t_seg','depth'], vlp[i]),\n",
    "        ),\n",
    "        coords=dict(\n",
    "            depth=depth,                 # depth values\n",
    "            t_seg=t_seg[i],              # datetime values in segments\n",
    "        ),\n",
    "        attrs=dict(\n",
    "            description=f'Adjusted data for {adcp} {t_stamp} segment {i} (from 0 to {n_seg - 1}).',\n",
    "            adcp=adcp,                   # adcp\n",
    "            upidx=upidx,                 # upper depth index\n",
    "            lowidx=lowidx,               # lower depth index\n",
    "            dup_stamp=dup_stamp,         # upper depth stamp\n",
    "            dlow_stamp=dlow_stamp,       # lower depth stamp\n",
    "            t_stamp=t_stamp,             # year stamp\n",
    "            start_date=f'{start_date}',  # start date\n",
    "            end_date=f'{end_date}',      # end date\n",
    "            t=t,                         # length of time series\n",
    "            d=d,                         # length of depth series\n",
    "            n_seg=n_seg,                 # total number of segments\n",
    "        ),\n",
    "    ) \n",
    "    ds_out.to_netcdf(f'../Data/data/adj/adj_{adcp}_{t_stamp}_{i}.nc')"
   ]
  },
  {
   "cell_type": "code",
   "execution_count": null,
   "metadata": {},
   "outputs": [],
   "source": []
  }
 ],
 "metadata": {
  "kernelspec": {
   "display_name": "Python 3",
   "language": "python",
   "name": "python3"
  },
  "language_info": {
   "codemirror_mode": {
    "name": "ipython",
    "version": 3
   },
   "file_extension": ".py",
   "mimetype": "text/x-python",
   "name": "python",
   "nbconvert_exporter": "python",
   "pygments_lexer": "ipython3",
   "version": "3.8.8"
  },
  "toc": {
   "base_numbering": 1,
   "nav_menu": {},
   "number_sections": true,
   "sideBar": true,
   "skip_h1_title": false,
   "title_cell": "Table of Contents",
   "title_sidebar": "Contents",
   "toc_cell": false,
   "toc_position": {},
   "toc_section_display": true,
   "toc_window_display": false
  },
  "varInspector": {
   "cols": {
    "lenName": "16",
    "lenType": "16",
    "lenVar": "200"
   },
   "kernels_config": {
    "python": {
     "delete_cmd_postfix": "",
     "delete_cmd_prefix": "del ",
     "library": "var_list.py",
     "varRefreshCmd": "print(var_dic_list())"
    },
    "r": {
     "delete_cmd_postfix": ") ",
     "delete_cmd_prefix": "rm(",
     "library": "var_list.r",
     "varRefreshCmd": "cat(var_dic_list()) "
    }
   },
   "position": {
    "height": "634px",
    "left": "513px",
    "right": "20px",
    "top": "97px",
    "width": "800px"
   },
   "types_to_exclude": [
    "module",
    "function",
    "builtin_function_or_method",
    "instance",
    "_Feature"
   ],
   "window_display": false
  }
 },
 "nbformat": 4,
 "nbformat_minor": 4
}
