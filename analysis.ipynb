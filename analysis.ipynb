{
 "cells": [
  {
   "cell_type": "markdown",
   "metadata": {
    "hide_input": false
   },
   "source": [
    "# Analysis Processes for Upper Slope & Axis ADCPs"
   ]
  },
  {
   "cell_type": "markdown",
   "metadata": {},
   "source": [
    "Primary notebook to create spectral and velocity plots for either the Upper Slope or Axis ADCP velocity data."
   ]
  },
  {
   "cell_type": "markdown",
   "metadata": {},
   "source": [
    "## Imports\n",
    "\n",
    "Necessary modules for analysis."
   ]
  },
  {
   "cell_type": "code",
   "execution_count": 1,
   "metadata": {
    "ExecuteTime": {
     "end_time": "2021-02-23T02:38:08.040272Z",
     "start_time": "2021-02-23T02:38:06.838704Z"
    },
    "code_folding": [
     0
    ],
    "hide_input": false
   },
   "outputs": [],
   "source": [
    "# import modules\n",
    "import xarray as xr\n",
    "import datetime\n",
    "import cmath\n",
    "from datetime import datetime\n",
    "import matplotlib.colors as colors\n",
    "import matplotlib.pyplot as plt\n",
    "import matplotlib.dates as pldates\n",
    "import numpy as np\n",
    "import numpy.ma as ma\n",
    "import scipy.signal as sig\n",
    "import scipy.integrate as integ\n",
    "import scipy.interpolate as interp\n",
    "import pandas as pd\n",
    "import seawater as sea\n",
    "from scipy.stats import chi2\n",
    "from scipy.io import loadmat\n",
    "from pandas.plotting import register_matplotlib_converters\n",
    "register_matplotlib_converters()\n",
    "\n",
    "for i in range(2):\n",
    "    %matplotlib notebook"
   ]
  },
  {
   "cell_type": "markdown",
   "metadata": {},
   "source": [
    "## Data\n",
    "\n",
    "Choose Upper Slope or Axis data, in NetCDF format, and visualise data to check for coverage."
   ]
  },
  {
   "cell_type": "code",
   "execution_count": 2,
   "metadata": {
    "ExecuteTime": {
     "end_time": "2021-02-23T02:38:09.998520Z",
     "start_time": "2021-02-23T02:38:09.958677Z"
    },
    "code_folding": [
     4,
     7,
     10
    ],
    "scrolled": false
   },
   "outputs": [
    {
     "name": "stdout",
     "output_type": "stream",
     "text": [
      "<xarray.Dataset>\n",
      "Dimensions:   (depth: 49, time: 101859)\n",
      "Coordinates:\n",
      "  * depth     (depth) int64 13 33 53 73 93 113 133 ... 873 893 913 933 953 973\n",
      "  * time      (time) datetime64[ns] 2017-01-18T19:07:30.000009984 ... 2019-12-24T01:07:30.000009984\n",
      "Data variables:\n",
      "    u         (time, depth) float64 ...\n",
      "    v         (time, depth) float64 ...\n",
      "    w         (time, depth) float64 ...\n",
      "    pressure  (time) float32 ...\n",
      "    temp      (time) float32 ...\n"
     ]
    }
   ],
   "source": [
    "# import data\n",
    "\n",
    "adcp = 'Axis55'     # Slope, Axis75, Axis55\n",
    "\n",
    "if adcp == 'Slope':\n",
    "    ds = xr.open_dataset(f'../Data/{adcp}All/{adcp}_all.nc')\n",
    "    name = 'Slope'\n",
    "elif adcp == 'Axis75':\n",
    "    ds = xr.open_dataset(f'../Data/AxisAll/{adcp}/{adcp}_all.nc')\n",
    "    name = 'Axis'   # for consistent naming between Axis 75 and 55 kHz\n",
    "elif adcp == 'Axis55':\n",
    "    ds = xr.open_dataset(f'../Data/AxisAll/{adcp}/{adcp}_all.nc')\n",
    "    name = 'Axis'   # for consistent naming between Axis 75 and 55 kHz  \n",
    "    \n",
    "# ds = xr.open_dataset('../Data/Raw/Axis55_Feb1_Feb7_2017/1.nc')\n",
    "# adcp = 'Axis75'\n",
    "# name = 'Axis75'\n",
    "\n",
    "print(ds)"
   ]
  },
  {
   "cell_type": "code",
   "execution_count": null,
   "metadata": {
    "ExecuteTime": {
     "end_time": "2021-02-23T02:24:05.208895Z",
     "start_time": "2021-02-23T02:24:04.598650Z"
    },
    "code_folding": []
   },
   "outputs": [],
   "source": [
    "# plot dataset to check data quality\n",
    "\n",
    "fig,ax = plt.subplots(figsize=(10,4))\n",
    "im = ax.pcolormesh(ds.time, -ds.depth, ds.u.T, rasterized=True, cmap='RdBu_r', vmin=-0.2, vmax=0.2)\n",
    "cbar = fig.colorbar(im, ax=ax, fraction=0.05, pad=0.01, aspect=40, extend='both')\n",
    "cbar.set_label('Velocity [m/s]')\n",
    "ax.set_xlabel('Time')\n",
    "ax.set_ylabel('Depth [m]')\n",
    "ax.set_title('Velocity data')\n",
    "plt.show()"
   ]
  },
  {
   "cell_type": "markdown",
   "metadata": {},
   "source": [
    "## Depth\n",
    "\n",
    "Truncate data to a specific depth interval to eliminate unreliable data (from visual inspection of velocity plots), approximately 50-100 m from the upper and lower extremes of the ADCP beams."
   ]
  },
  {
   "cell_type": "code",
   "execution_count": null,
   "metadata": {
    "ExecuteTime": {
     "end_time": "2021-02-23T02:25:51.637831Z",
     "start_time": "2021-02-23T02:25:51.626483Z"
    },
    "code_folding": [
     0
    ]
   },
   "outputs": [],
   "source": [
    "# process to find nearby indices for desired depth values\n",
    "def find_nearest(array, value):\n",
    "    array = np.asarray(array)\n",
    "    idx = (np.abs(array - value)).argmin()\n",
    "    return idx      # returns index of nearest depth value\n",
    "\n",
    "array = ds.depth    # input array to process \n",
    "if adcp=='Slope':\n",
    "    upval = 100         # upper depth for data, metres (upper slope)\n",
    "    lowval = 350        # lower depth for data (upper slope)\n",
    "elif adcp=='Axis75' or adcp=='Axis55':\n",
    "    upval = 700         # upper depth for data, metres (axis)\n",
    "    lowval = 900        # lower depth for data (axis)\n",
    "    \n",
    "upidx = find_nearest(array, upval)                 # index of upper depth cutoff\n",
    "lowidx = find_nearest(array,lowval)+1              # index of lower depth cutoff \n",
    "\n",
    "print(\"Index at upper depth cutoff:\", upidx)\n",
    "print(\"Value at upper depth cutoff:\", -ds.depth.values[upidx], \"metres\" )\n",
    "print('---')\n",
    "print(\"Index at lower depth cutoff:\", lowidx)\n",
    "print(\"Value at lower depth cutoff:\", -ds.depth.values[lowidx], \"metres\" )\n",
    "\n",
    "depth = np.array(ds.depth[upidx:lowidx+1])         # remove unwanted depths\n",
    "dup_stamp = int(-depth[0])                         # depth stamps for use in output filenames\n",
    "dlow_stamp = int(-depth[-1])\n",
    "\n",
    "print('---')\n",
    "print(\"Length of new depth array: \", len(depth))   # new depth interval\n",
    "print(f'Upper limit at',dup_stamp,'metres')         # depth for upper PSD\n",
    "print(f'Lower limit at',dlow_stamp,'metres')        # depth for lower PSD"
   ]
  },
  {
   "cell_type": "markdown",
   "metadata": {},
   "source": [
    "## Time\n",
    "\n",
    "Find specific time range and format dates for plotting. If significant *consecutive* NaN values are present, then shorten series for that particular segment."
   ]
  },
  {
   "cell_type": "code",
   "execution_count": null,
   "metadata": {
    "ExecuteTime": {
     "end_time": "2021-02-23T02:36:54.006409Z",
     "start_time": "2021-02-23T02:36:53.987183Z"
    }
   },
   "outputs": [],
   "source": [
    "# set date range\n",
    "\n",
    "datestimes = pd.to_datetime(ds.time.values)            # convert to datetime from datetime64\n",
    "datestimes = pd.Series(datestimes)                     # convert to pandas dataframe\n",
    "\n",
    "start_date = pd.datetime(2018,1,1)                     # input start date in YYYY,MM,DD\n",
    "end_date = pd.datetime(2019,1,1)                       # input end date in YYYY,MM,DD\n",
    "start = datestimes[datestimes >= start_date].index[0]                # desired start date\n",
    "end = datestimes[datestimes < end_date].index[-1]                    # desired end date\n",
    "time_test = ds.time.values[start:end]                                # test desired interval\n",
    "t_stamp = f'{datestimes.dt.year[start]}'                             # set year time stamp for output filenames\n",
    "print(\"Desired time range:\",np.min(time_test),np.max(time_test))     # print to check desired interval"
   ]
  },
  {
   "cell_type": "code",
   "execution_count": null,
   "metadata": {
    "ExecuteTime": {
     "end_time": "2021-02-23T02:36:55.294820Z",
     "start_time": "2021-02-23T02:36:54.922083Z"
    },
    "code_folding": [
     0
    ],
    "scrolled": false
   },
   "outputs": [],
   "source": [
    "# check time series for significant data gaps\n",
    "\n",
    "depth_test = ds.depth[lowidx-5]                        # mid depth for NaN testing\n",
    "print('Checked at depth',-depth_test.values,'m')\n",
    "print('')\n",
    "\n",
    "u_test = np.array(ds.u[start:end,lowidx-5])            # u data at this depth\n",
    "counter = 0                                            # counter to keep track of # of consecutive NaN values\n",
    "nan_list = [0]                                         # empty list to keep track of NaN indices\n",
    "\n",
    "for i in range(len(time_test)):                        # loop to count consecutive NaN values\n",
    "    if np.isnan(u_test[i])==True:                      # add to counter if NaN = true\n",
    "        counter += 1\n",
    "        if counter==100:                               # length of NaN gap\n",
    "            dead = i-100                               # datetime series hits significant NaN interval\n",
    "            nan_list.append(dead)                      # append end of good data index to nan_list\n",
    "            print('Good data until:',np.max(time_test[dead+1]))\n",
    "            print('')\n",
    "        elif counter > 100 and i < (len(time_test)-1):   # if NaNs, but before the end of the interval\n",
    "            if np.isnan(u_test[i+1])==False:           # if next value is NOT a NaN\n",
    "                nan_list.append(i+1)                   # append that index to nan_list as start of good data\n",
    "                print('Good data resets at:',time_test[i])\n",
    "    elif np.isnan(u_test[i])==False:                   # reset counter if NaN inconsistent\n",
    "        counter = 0\n",
    "\n",
    "if (len(nan_list)%2) != 0:\n",
    "    nan_list.append(len(time_test))\n",
    "\n",
    "u_test = np.array(ds.u[start:end,upidx:lowidx+1])      # total u for interval and depth, to chop\n",
    "v_test = np.array(ds.v[start:end,upidx:lowidx+1])      # total v for interval and depth, to chop\n",
    "u_seg = []                                             # empty list for u segment arrays\n",
    "v_seg = []                                             # empty list for v segment arrays\n",
    "t_seg = []                                             # empty list for u segment time intervals\n",
    "\n",
    "for i in range(len(nan_list)):                         # for the number of NaN indices found\n",
    "    if i%2 != 0:                                       # for every second index\n",
    "        u_seg.append(np.array(u_test[nan_list[i-1]:nan_list[i],:]))      # create arrays of good u data\n",
    "        v_seg.append(np.array(v_test[nan_list[i-1]:nan_list[i],:]))      # create arrays of good v data\n",
    "        t_seg.append(np.array(time_test[nan_list[i-1]:nan_list[i]]))     # and their time intervals\n",
    "\n",
    "n_seg = len(u_seg)\n",
    "print('')\n",
    "print('Number of segments:',n_seg)\n",
    "for i in range(n_seg):\n",
    "    print('Length of segments:',len(t_seg[i]))\n",
    "\n",
    "# plot specified time intervals to check data quality\n",
    "fig,ax = plt.subplots(figsize=(10,3))\n",
    "for i in range(n_seg):\n",
    "    im = ax.pcolormesh(t_seg[i], -depth, u_seg[i].T, rasterized=True, cmap='RdBu_r', vmin=-0.1, vmax=0.1)\n",
    "cbar = fig.colorbar(im, ax=ax, fraction=0.05, pad=0.01, aspect=40, extend='both')\n",
    "ax.set_xlim(start_date,end_date)\n",
    "cbar.set_label('Velocity [m/s]')\n",
    "ax.set_xlabel('Time')\n",
    "ax.set_ylabel('Depth [m]')\n",
    "ax.set_title('Velocity data')\n",
    "plt.show()"
   ]
  },
  {
   "cell_type": "markdown",
   "metadata": {},
   "source": [
    "## Clean\n",
    "\n",
    "Data rotated based on a visual estimate of along-slope angle, as 30$^{\\circ}$. This could be updated to reflect Thomson's work at the A1 site, relatively nearby.\n",
    "\n",
    "Data are also interpolated to deal with minor instances of NaN values in both depth and time. Consistent NaN intervals are dealt with in the Time section, above."
   ]
  },
  {
   "cell_type": "code",
   "execution_count": null,
   "metadata": {
    "ExecuteTime": {
     "end_time": "2021-02-23T02:37:13.665770Z",
     "start_time": "2021-02-23T02:37:13.481856Z"
    },
    "code_folding": [
     0
    ],
    "hide_input": false
   },
   "outputs": [],
   "source": [
    "# process to rotate, interpolate, and filter raw data (no significant data gaps)\n",
    "\n",
    "uorig_list,ulp_list,uhp_list,vorig_list,vlp_list,vhp_list = [],[],[],[],[],[]   # empty lists for clean data\n",
    "\n",
    "for i in range(n_seg):\n",
    "\n",
    "    # rotate data\n",
    "\n",
    "    theta_along_slope = np.radians(30)                       # rotation angle in radians, 30 degrees\n",
    "    u_vec = u_seg[i] + 1j*v_seg[i]                           # vector form of horizontal velocity\n",
    "    u_vec_new = u_vec*np.exp(-1j*theta_along_slope)          # rotated velocity vector\n",
    "    u_rot = np.real(u_vec_new)                               # u_new = Re(rotated vector)\n",
    "    v_rot = np.imag(u_vec_new)                               # v_new = Im(rotated vector)                       \n",
    "\n",
    "    # filter small NaN instances from data\n",
    "\n",
    "    t = len(t_seg[i])                        # number of time data points after checking for consistent NaN intervals\n",
    "    d = len(depth)                           # number of depth data points after removing unwanted depths\n",
    "\n",
    "    uorig_temp = np.empty([t,d])             # empty array for interpolated & rotated u data\n",
    "    vorig_temp = np.empty([t,d])             # empty array for interpolated & rotated v data\n",
    "\n",
    "    for j in range(d):                       # loop to interpolate small gaps at each depth\n",
    "        utemp = pd.Series(u_rot[:,j])\n",
    "        uint = utemp.interpolate(method=\"linear\", limit = 100, limit_direction='both')\n",
    "        uorig_temp[:,j] = uint               # set interpolated data to original array\n",
    "        vtemp = pd.Series(v_rot[:,j])\n",
    "        vint = vtemp.interpolate(method=\"linear\", limit = 100, limit_direction='both')\n",
    "        vorig_temp[:,j] = vint               # set interpolated data to original array\n",
    "\n",
    "    # low pass Butterworth filter for 40 hour cut-off to remove 30 hour tides\n",
    "\n",
    "    fs = 4                                   # samples per HOUR for entire time series\n",
    "    fc = 0.025                               # 40 hour low pass filter cut-off\n",
    "    Wn = fc / (fs / 2)                       # normalised cut-off frequencies\n",
    "    b, a = sig.butter(8, Wn,'lowpass')       # digital butterworth filter\n",
    "    w, h = sig.freqz(b, a)    \n",
    "\n",
    "    ulp_temp = np.empty([t,d])               # empty array for low-pass filtered u values\n",
    "    vlp_temp = np.empty([t,d])               # empty array for low-pass filtered v values\n",
    "    uhp_temp = np.empty([t,d])               # empty array for residual u values\n",
    "    vhp_temp = np.empty([t,d])               # empty array for residual v values\n",
    "\n",
    "    for j in range(d):                       # loop for filtered and residual velocities\n",
    "        ufilt = np.copy(uorig_temp[:,j])     # copy unfiltered array\n",
    "        ulp_temp[:,j] = sig.filtfilt(b, a, ufilt)  # apply low pass filter\n",
    "        uhp_temp[:,j] = ufilt - ulp_temp[:,j]      # subtract lp from unfiltered to get residual\n",
    "\n",
    "        vfilt = np.copy(vorig_temp[:,j])           # repeat for v\n",
    "        vlp_temp[:,j] = sig.filtfilt(b, a, vfilt)\n",
    "        vhp_temp[:,j] = vfilt - vlp_temp[:,j]\n",
    "\n",
    "    uorig_list.append(uorig_temp)                  # append cleaned data to lists\n",
    "    vorig_list.append(vorig_temp)\n",
    "    ulp_list.append(ulp_temp)\n",
    "    vlp_list.append(vlp_temp)\n",
    "    uhp_list.append(uhp_temp)\n",
    "    vhp_list.append(vhp_temp) \n",
    "\n",
    "if n_seg > 1:\n",
    "    uorig = uorig_list\n",
    "    vorig = vorig_list\n",
    "    ulp = ulp_list\n",
    "    vlp = vlp_list\n",
    "    uhp = uhp_list\n",
    "    vhp = vhp_list\n",
    "if n_seg == 1:\n",
    "    uorig = uorig_list[0]\n",
    "    vorig = vorig_list[0]\n",
    "    ulp = ulp_list[0]\n",
    "    vlp = vlp_list[0]\n",
    "    uhp = uhp_list[0]\n",
    "    vhp = vhp_list[0]"
   ]
  },
  {
   "cell_type": "markdown",
   "metadata": {},
   "source": [
    "# Spectra\n",
    "\n",
    "PSD, spectrograms, and rotary spectra."
   ]
  },
  {
   "cell_type": "markdown",
   "metadata": {},
   "source": [
    "## PSD\n",
    "\n",
    "Removes the mean from upper and lower depth limits. Also obtains depth mean data for an average spectra through depth. Performs Welch FFT with adjustable parameters, using a Parzen window and what seems to be an optimal averaging process, based on visual analysis of spectral output. Calculates 95% confidence intervals using a chi$^2$ method, the GM reference spectra is imported from gm.ipynb, and the noise floor is shown."
   ]
  },
  {
   "cell_type": "code",
   "execution_count": null,
   "metadata": {
    "ExecuteTime": {
     "end_time": "2021-02-23T02:37:15.886588Z",
     "start_time": "2021-02-23T02:37:15.872360Z"
    },
    "code_folding": [
     0
    ]
   },
   "outputs": [],
   "source": [
    "# remove mean from upper and lower depth limits\n",
    "\n",
    "umup_list,vmup_list,umlow_list,vmlow_list = [],[],[],[]\n",
    "\n",
    "if n_seg > 1:\n",
    "    for i in range(n_seg):\n",
    "        # upper depth limit\n",
    "        u_up = np.copy(uorig[i][:,0])         # copy rotated / cleaned data\n",
    "        v_up = np.copy(vorig[i][:,0])\n",
    "        umup_temp = u_up - np.nanmean(u_up)   # substract the mean\n",
    "        vmup_temp = v_up - np.nanmean(v_up)\n",
    "\n",
    "        # lower depth limit\n",
    "        u_low = np.copy(uorig[i][:,-1])  \n",
    "        v_low = np.copy(vorig[i][:,-1])\n",
    "        umlow_temp = u_low - np.nanmean(u_low)\n",
    "        vmlow_temp = v_low - np.nanmean(v_low)\n",
    "\n",
    "        umup_list.append(umup_temp)\n",
    "        vmup_list.append(vmup_temp)\n",
    "        umlow_list.append(umlow_temp)\n",
    "        vmlow_list.append(vmlow_temp)\n",
    "        \n",
    "    umup = umup_list\n",
    "    vmup = vmup_list\n",
    "    umlow = umlow_list\n",
    "    vmlow = vmlow_list\n",
    "        \n",
    "elif n_seg == 1:\n",
    "    # upper depth limit\n",
    "    u_up = np.copy(uorig[:,0])         # copy rotated / cleaned data\n",
    "    v_up = np.copy(vorig[:,0])\n",
    "    umup_temp = u_up - np.nanmean(u_up)   # substract the mean\n",
    "    vmup_temp = v_up - np.nanmean(v_up)\n",
    "    \n",
    "    # lower depth limit\n",
    "    u_low = np.copy(uorig[:,-1])  \n",
    "    v_low = np.copy(vorig[:,-1])\n",
    "    umlow_temp = u_low - np.nanmean(u_low)\n",
    "    vmlow_temp = v_low - np.nanmean(v_low)\n",
    "    \n",
    "    umup_list.append(umup_temp)\n",
    "    vmup_list.append(vmup_temp)\n",
    "    umlow_list.append(umlow_temp)\n",
    "    vmlow_list.append(vmlow_temp)\n",
    "    \n",
    "    umup = umup_list[0]\n",
    "    vmup = vmup_list[0]\n",
    "    umlow = umlow_list[0]\n",
    "    vmlow = vmlow_list[0]"
   ]
  },
  {
   "cell_type": "code",
   "execution_count": null,
   "metadata": {
    "ExecuteTime": {
     "end_time": "2021-02-23T02:37:16.627967Z",
     "start_time": "2021-02-23T02:37:16.590131Z"
    },
    "code_folding": [
     0
    ]
   },
   "outputs": [],
   "source": [
    "# Welch FFT\n",
    "\n",
    "umlow_f_list,umlow_PSD_list,vmlow_f_list,vmlow_PSD_list,umup_f_list,umup_PSD_list,vmup_f_list,vmup_PSD_list=[],[],[],[],[],[],[],[]\n",
    "\n",
    "time_total = 0\n",
    "for i in range(n_seg):\n",
    "    time_total += len(t_seg[i])\n",
    "\n",
    "# set Welch parameters\n",
    "fs = 1.11e-3                  # 4 samples per HOUR, 1.11e-3 per SECOND\n",
    "win = 'hann'                  # optimal window for averaging\n",
    "if time_total >= 20000:\n",
    "    nps = 1024               # find optimal average for nperseg, use //40 for annual, //20 for seasonal\n",
    "elif time_total < 20000:\n",
    "    nps = 512\n",
    "overlap = nps // 2            # 50% overlap, default   \n",
    "\n",
    "t_seg_PSD = t_seg\n",
    "t_short = []\n",
    "if n_seg > 1:\n",
    "    for i in range(n_seg):\n",
    "        if len(t_seg_PSD[i]) < nps:\n",
    "            t_short.append(i)\n",
    "    t_seg_PSD = np.delete(t_seg_PSD,t_short)\n",
    "    umup = np.delete(umup,t_short)\n",
    "    vmup = np.delete(vmup,t_short)\n",
    "    umlow = np.delete(umlow,t_short)\n",
    "    vmlow = np.delete(vmlow,t_short)\n",
    "    n_seg_PSD = n_seg - len(t_short)\n",
    "    time_total = 0\n",
    "    for i in range(n_seg_PSD):\n",
    "        time_total += len(t_seg_PSD[i])\n",
    "    print(len(t_short),'segment too short, new total time length:',time_total)\n",
    "elif n_seg == 1:\n",
    "    n_seg_PSD = n_seg\n",
    "\n",
    "if n_seg_PSD > 1:\n",
    "    for i in range(n_seg_PSD):  \n",
    "        # lower depth\n",
    "        umlow_f_temp,umlow_PSD_temp=sig.welch(umlow[i],fs=fs,window=win,nperseg=nps,noverlap=overlap,return_onesided=True)\n",
    "        vmlow_f_temp,vmlow_PSD_temp=sig.welch(vmlow[i],fs=fs,window=win,nperseg=nps,noverlap=overlap,return_onesided=True)\n",
    "\n",
    "        # upper depth\n",
    "        umup_f_temp,umup_PSD_temp=sig.welch(umup[i],fs=fs,window=win,nperseg=nps,noverlap=overlap,return_onesided=True)\n",
    "        vmup_f_temp,vmup_PSD_temp=sig.welch(vmup[i],fs=fs,window=win,nperseg=nps,noverlap=overlap,return_onesided=True)\n",
    "\n",
    "        umlow_f_list.append(umlow_f_temp)\n",
    "        umlow_PSD_list.append(umlow_PSD_temp)\n",
    "        vmlow_f_list.append(vmlow_f_temp)\n",
    "        vmlow_PSD_list.append(vmlow_PSD_temp)\n",
    "        umup_f_list.append(umup_f_temp)\n",
    "        umup_PSD_list.append(umup_PSD_temp)\n",
    "        vmup_f_list.append(vmup_f_temp)\n",
    "        vmup_PSD_list.append(vmup_PSD_temp)\n",
    "        \n",
    "    umlow_f = umlow_f_list[0]\n",
    "    umlow_PSD_seg = umlow_PSD_list\n",
    "    vmlow_f = vmlow_f_list[0]\n",
    "    vmlow_PSD_seg = vmlow_PSD_list\n",
    "    umup_f = umup_f_list[0]\n",
    "    umup_PSD_seg = umup_PSD_list\n",
    "    vmup_f = vmup_f_list[0]\n",
    "    vmup_PSD_seg = vmup_PSD_list\n",
    "\n",
    "elif n_seg_PSD == 1:\n",
    "    # lower depth\n",
    "    umlow_f_temp,umlow_PSD_temp=sig.welch(umlow,fs=fs,window=win,nperseg=nps,noverlap=overlap,return_onesided=True)\n",
    "    vmlow_f_temp,vmlow_PSD_temp=sig.welch(vmlow,fs=fs,window=win,nperseg=nps,noverlap=overlap,return_onesided=True)\n",
    "\n",
    "    # upper depth\n",
    "    umup_f_temp,umup_PSD_temp=sig.welch(umup,fs=fs,window=win,nperseg=nps,noverlap=overlap,return_onesided=True)\n",
    "    vmup_f_temp,vmup_PSD_temp=sig.welch(vmup,fs=fs,window=win,nperseg=nps,noverlap=overlap,return_onesided=True)\n",
    "\n",
    "    umlow_f_list.append(umlow_f_temp)\n",
    "    umlow_PSD_list.append(umlow_PSD_temp)\n",
    "    vmlow_f_list.append(vmlow_f_temp)\n",
    "    vmlow_PSD_list.append(vmlow_PSD_temp)\n",
    "    umup_f_list.append(umup_f_temp)\n",
    "    umup_PSD_list.append(umup_PSD_temp)\n",
    "    vmup_f_list.append(vmup_f_temp)\n",
    "    vmup_PSD_list.append(vmup_PSD_temp)\n",
    "    \n",
    "    umlow_f = umlow_f_list[0]\n",
    "    umlow_PSD_seg = umlow_PSD_list[0]\n",
    "    vmlow_f = vmlow_f_list[0]\n",
    "    vmlow_PSD_seg = vmlow_PSD_list[0]\n",
    "    umup_f = umup_f_list[0]\n",
    "    umup_PSD_seg = umup_PSD_list[0]\n",
    "    vmup_f = vmup_f_list[0]\n",
    "    vmup_PSD_seg = vmup_PSD_list[0]"
   ]
  },
  {
   "cell_type": "code",
   "execution_count": null,
   "metadata": {
    "ExecuteTime": {
     "end_time": "2021-02-23T02:37:17.256270Z",
     "start_time": "2021-02-23T02:37:17.246654Z"
    },
    "code_folding": [
     0
    ]
   },
   "outputs": [],
   "source": [
    "# combine Welch segments, average with weighting\n",
    "\n",
    "time_weights = []\n",
    "if n_seg_PSD > 1:\n",
    "    time_total = 0\n",
    "    for i in range(n_seg_PSD):\n",
    "        time_total += len(t_seg_PSD[i])\n",
    "    for i in range(n_seg_PSD):\n",
    "        t_len = len(t_seg_PSD[i])\n",
    "        weight_temp = t_len/time_total\n",
    "        time_weights.append(weight_temp)\n",
    "elif n_seg_PSD == 1:\n",
    "    weight_temp = 1\n",
    "    time_weights = [1]\n",
    "\n",
    "umlow_PSD_avg_list,vmlow_PSD_avg_list,umup_PSD_avg_list,vmup_PSD_avg_list = [],[],[],[]\n",
    "if n_seg_PSD > 1:\n",
    "    for i in range(n_seg_PSD):\n",
    "        if i == 0:\n",
    "            umlow_PSD_avg_list.append(umlow_PSD_seg[i]*time_weights[i])\n",
    "            vmlow_PSD_avg_list.append(vmlow_PSD_seg[i]*time_weights[i])\n",
    "            umup_PSD_avg_list.append(umup_PSD_seg[i]*time_weights[i])\n",
    "            vmup_PSD_avg_list.append(vmup_PSD_seg[i]*time_weights[i])\n",
    "        elif i > 0:\n",
    "            umlow_PSD_avg_list += (umlow_PSD_seg[i]*time_weights[i])\n",
    "            vmlow_PSD_avg_list += (vmlow_PSD_seg[i]*time_weights[i])\n",
    "            umup_PSD_avg_list += (umup_PSD_seg[i]*time_weights[i])\n",
    "            vmup_PSD_avg_list += (vmup_PSD_seg[i]*time_weights[i])\n",
    "    umlow_PSD = umlow_PSD_avg_list[0] \n",
    "    vmlow_PSD = vmlow_PSD_avg_list[0]\n",
    "    umup_PSD = umup_PSD_avg_list[0]\n",
    "    vmup_PSD = vmup_PSD_avg_list[0]\n",
    "elif n_seg_PSD == 1:\n",
    "    umlow_PSD = umlow_PSD_seg \n",
    "    vmlow_PSD = vmlow_PSD_seg\n",
    "    umup_PSD = umup_PSD_seg\n",
    "    vmup_PSD = vmup_PSD_seg"
   ]
  },
  {
   "cell_type": "code",
   "execution_count": null,
   "metadata": {
    "ExecuteTime": {
     "end_time": "2021-02-23T02:37:17.904758Z",
     "start_time": "2021-02-23T02:37:17.898360Z"
    },
    "code_folding": [
     0
    ]
   },
   "outputs": [],
   "source": [
    "# error bars (95% confidence intervals)\n",
    "\n",
    "probability = 0.95                            # calculate confidence intervals\n",
    "alpha = 1 - probability        \n",
    "t_len = time_total                            # length of total interval\n",
    "NS = t_len / (nps / 2)                        # number of estimates, Welch\n",
    "vp = (4/3)*NS                                 # for tapered windows\n",
    "cp = chi2.ppf([1 - alpha / 2, alpha / 2], vp) # chi**2 distribution\n",
    "cint = vp/cp                                  # interval coefficients\n",
    "\n",
    "umlow_lower = umlow_PSD * cint[0]             # define upper and lower confidence values\n",
    "umlow_upper = umlow_PSD * cint[1]\n",
    "vmlow_lower = vmlow_PSD * cint[0]             # define upper and lower confidence values\n",
    "vmlow_upper = vmlow_PSD * cint[1]\n",
    "umup_lower = umup_PSD * cint[0]               # define upper and lower confidence values\n",
    "umup_upper = umup_PSD * cint[1]\n",
    "vmup_lower = vmup_PSD * cint[0]               # define upper and lower confidence values\n",
    "vmup_upper = vmup_PSD * cint[1]"
   ]
  },
  {
   "cell_type": "code",
   "execution_count": null,
   "metadata": {
    "ExecuteTime": {
     "end_time": "2021-02-23T02:37:18.536627Z",
     "start_time": "2021-02-23T02:37:18.529119Z"
    },
    "code_folding": [
     0
    ]
   },
   "outputs": [],
   "source": [
    "# GM spectrum\n",
    "\n",
    "gm = np.loadtxt('../project/archive/GM/gm.dat')   # get GM data from separate code\n",
    "gm_freq = gm[:, 0]\n",
    "gm_psd = gm[:, 1]"
   ]
  },
  {
   "cell_type": "code",
   "execution_count": null,
   "metadata": {
    "ExecuteTime": {
     "end_time": "2021-02-23T02:37:20.361767Z",
     "start_time": "2021-02-23T02:37:19.817475Z"
    },
    "code_folding": [
     0,
     17,
     19
    ],
    "scrolled": false
   },
   "outputs": [],
   "source": [
    "# plot PSD\n",
    "\n",
    "fig, ax = plt.subplots(1,1,figsize=(9.5,6))\n",
    "\n",
    "ax.axvline(1.161e-5, color ='lawngreen',ls='--',lw=0.8,label = \"$K_1$\") # constituents\n",
    "ax.axvline(1.732e-5, color ='cyan',ls='--', lw=0.8,label = \"$f$\")    \n",
    "ax.axvline(2.236e-5, color ='orange',ls='--',lw=0.8,label = \"$M_2$\")\n",
    "ax.axvline(3.968e-5, color ='gold',ls='--',lw=0.8,label = \"$fM_2$\")\n",
    "ax.axvline(4.472e-5, color ='pink',ls='--',lw=0.8,label = \"$M_4$\")\n",
    "ax.set_ylim(1e-2,5e3)          # set y limits for comparing PSD\n",
    "ax.set_xlim(1.27e-6, 5.55e-4)  # first non-zero freq bin to the Nyquist freq \n",
    "\n",
    "ax.tick_params(axis='both', direction='in', which='both')\n",
    "ax.set_title(f'PSD - {name} - {t_stamp}')\n",
    "ax.set_ylabel('Power spectral density [$(m/s)^2/Hz$]')\n",
    "ax.set_xlabel('Frequency [Hz]')\n",
    "\n",
    "if adcp == 'Axis75' or adcp == 'Slope':\n",
    "    ax.axhline(2.3e-2,color='gray',ls=':',lw=0.8,label='Noise floor')\n",
    "elif adcp == 'Axis55':\n",
    "    ax.axhline(0.53,color='gray',ls=':',lw=0.8,label='Noise floor')\n",
    "    \n",
    "ax.loglog(gm_freq/(2*np.pi),gm_psd*(np.pi),color='gray',lw=0.8,ls='--', label='GM79 - 1/2 amp.') # 1/2 GM for components\n",
    "ax.loglog(umup_f, umup_PSD, label=f'{dup_stamp} m - Cross-slope',color='blue',lw=1)\n",
    "ax.loglog(vmup_f, vmup_PSD, label=f'{dup_stamp} m - Along-slope',color='blue',ls='--',lw=1)\n",
    "ax.loglog(umlow_f, umlow_PSD, label=f'{dlow_stamp} m - Cross-slope',color='red',lw=1)\n",
    "ax.loglog(vmlow_f, vmlow_PSD, label=f'{dlow_stamp} m - Along-slope',color='red',ls='--',lw=1)\n",
    "\n",
    "ax.fill_between(umup_f, umup_lower, umup_upper, facecolor='blue', alpha=0.1)\n",
    "ax.fill_between(vmup_f, vmup_lower, vmup_upper, facecolor='blue', alpha=0.1)\n",
    "ax.fill_between(umlow_f, umlow_lower, umlow_upper, facecolor='red', alpha=0.1)\n",
    "ax.fill_between(vmlow_f, vmlow_lower, vmlow_upper, facecolor='red', alpha=0.1, label='95% conf. int.')\n",
    "\n",
    "fig.tight_layout()\n",
    "plt.legend(loc='upper right',frameon=False,fontsize=9)\n",
    "plt.show()\n",
    "\n",
    "plt.savefig(fname='./plots/psd_plots/psd_'+adcp+'_'+t_stamp+'.pdf',format='pdf')"
   ]
  },
  {
   "cell_type": "markdown",
   "metadata": {},
   "source": [
    "## Rotary\n",
    "\n",
    "Creates rotary spectra for the mean-removed and cleaned velocity data, and specific depths. Defines a function to return the CW, CCW, cross, and quadrature spectra for any u and v velocity vectors.\n",
    "\n",
    "Based on Thomson, R. (1997). Data Analysis Methods in Physical Oceanography. pp.427-432,494-500; Gonella, J. (1972) Deep Sea Res. 833-846, and https://pyoceans.github.io/python-oceans/ocfis.html, and further adapted for averaging (Welch) PSD and CSD processes."
   ]
  },
  {
   "cell_type": "code",
   "execution_count": null,
   "metadata": {
    "ExecuteTime": {
     "end_time": "2021-02-23T02:37:39.098286Z",
     "start_time": "2021-02-23T02:37:39.088627Z"
    },
    "code_folding": [
     0
    ]
   },
   "outputs": [],
   "source": [
    "# rotary spectra function\n",
    "\n",
    "time_total = 0\n",
    "if n_seg > 1:\n",
    "    for i in range(n_seg):\n",
    "        time_total += len(t_seg[i])\n",
    "elif n_seg == 1:\n",
    "    time_total = len(t_seg[0])\n",
    "\n",
    "fs = 1.11e-3                  # 4 samples per HOUR, 1.11e-3 per SECOND\n",
    "win = 'hann'                  # optimal window for averaging\n",
    "if time_total >= 20000:\n",
    "    nps = 1024                # find optimal average for nperseg, use //40 for annual, //20 for seasonal\n",
    "elif time_total < 20000:\n",
    "    nps = 512\n",
    "overlap = nps // 2            # 50% overlap, default     \n",
    "\n",
    "if adcp == 'Axis55' and t_stamp == '2018':\n",
    "    if time_total >= 20000:\n",
    "        nps = 700             # find optimal average for nperseg, use //40 for annual, //20 for seasonal\n",
    "    elif time_total < 20000:\n",
    "        nps = 256\n",
    "    overlap = nps // 2        # 50% overlap, default  \n",
    "    \n",
    "def spec_rot(u, v):\n",
    "    puf, pu = sig.welch(u,fs=fs,window=win,nperseg=nps,noverlap=overlap,return_onesided=False)  # auto-spectrum for u\n",
    "    pvf, pv = sig.welch(v,fs=fs,window=win,nperseg=nps,noverlap=overlap,return_onesided=False)  # auto-spectrum for v\n",
    "    cuvf, cuv = sig.csd(v,u,fs=fs,window=win,nperseg=nps,noverlap=overlap,return_onesided=False)# cross spectra (u,v --> v,u)\n",
    "    quv = cuv.imag                                      # quadrature spectrum, imaginary part of cross spectra\n",
    "    cw = ((pu + pv) - (2*quv)) / 2                      # rotatory components\n",
    "    ccw = ((pu + pv) + (2*quv)) / 2\n",
    "    F = puf                                             # frequency range (two-sided)\n",
    "    \n",
    "    return cuv, quv, cw, ccw, F"
   ]
  },
  {
   "cell_type": "code",
   "execution_count": null,
   "metadata": {
    "ExecuteTime": {
     "end_time": "2021-02-23T02:37:39.765708Z",
     "start_time": "2021-02-23T02:37:39.737394Z"
    },
    "code_folding": [
     0
    ]
   },
   "outputs": [],
   "source": [
    "# get lower rotary spectra\n",
    "d_idx_low = -1                                             # depth index, use -1 for lower, 0 for upper\n",
    "d_stamp_low = str(int(depth[d_idx_low]))                   # depth stamp for figures\n",
    "\n",
    "rot_um_low_list,rot_vm_low_list = [],[]\n",
    "\n",
    "if n_seg > 1:\n",
    "    for i in range(n_seg):\n",
    "        rot_u_low = np.copy(uorig[i][:,d_idx_low])                 \n",
    "        rot_um_low = rot_u_low - np.nanmean(rot_u_low)             # remove mean for rotary spectra\n",
    "        rot_v_low = np.copy(vorig[i][:,d_idx_low])                 \n",
    "        rot_vm_low = rot_v_low - np.nanmean(rot_v_low)  \n",
    "        rot_um_low_list.append(rot_um_low)\n",
    "        rot_vm_low_list.append(rot_vm_low)\n",
    "    rot_um_low = rot_um_low_list\n",
    "    rot_vm_low = rot_vm_low_list\n",
    "if n_seg == 1:\n",
    "    rot_u_low = np.copy(uorig[:,d_idx_low])\n",
    "    rot_um_low = rot_u_low - np.nanmean(rot_u_low)             # remove mean for rotary spectra\n",
    "    rot_v_low = np.copy(vorig[:,d_idx_low])                 \n",
    "    rot_vm_low = rot_v_low - np.nanmean(rot_v_low)\n",
    "\n",
    "if n_seg > 1:\n",
    "    time_total = 0\n",
    "    for i in range(n_seg):\n",
    "        time_total += len(t_seg[i])\n",
    "    t_seg_PSD = np.copy(t_seg)\n",
    "    t_short = []\n",
    "    for i in range(n_seg):\n",
    "        if len(t_seg_PSD[i]) < nps:\n",
    "            t_short.append(i)\n",
    "    if adcp == 'Axis55' and t_stamp == '2018':\n",
    "        t_short.append(3)\n",
    "    t_seg_PSD = np.delete(t_seg_PSD,t_short)\n",
    "    rot_um_low = np.delete(rot_um_low,t_short)\n",
    "    rot_vm_low = np.delete(rot_vm_low,t_short)\n",
    "    n_seg_PSD = n_seg - len(t_short)\n",
    "elif n_seg == 1:\n",
    "    t_seg_PSD = t_seg\n",
    "    n_seg_PSD = n_seg\n",
    "\n",
    "if n_seg_PSD > 1:\n",
    "    time_total = 0\n",
    "    for i in range(n_seg_PSD):\n",
    "        time_total += len(t_seg_PSD[i])\n",
    "    print(len(t_short),'segments too short, new total time length:',time_total)    \n",
    "\n",
    "    cw_real_low_list,ccw_real_low_list,f_rot_low_list = [],[],[]\n",
    "    for i in range(n_seg_PSD):\n",
    "        cuv_low, quv_low, cw_low, ccw_low, f_rot = spec_rot(rot_um_low[i],rot_vm_low[i]) # get rotary components (cw and ccw) and frequency range (f)\n",
    "        half_idx = int((len(cw_low)/2))                            # discard half spectrum for real data \n",
    "        cw_real_low = cw_low[0:half_idx]*2                         # mult. amplitude by 2 to account for discarded data\n",
    "        ccw_real_low = ccw_low[0:half_idx]*2     \n",
    "        f_rot_low = f_rot[0:half_idx]                              # real frequency range (up to Nyquist)\n",
    "        cw_real_low_list.append(cw_real_low)\n",
    "        ccw_real_low_list.append(ccw_real_low)\n",
    "        f_rot_low_list.append(f_rot_low)    \n",
    "    f_rot_low = f_rot_low_list[0]\n",
    "elif n_seg_PSD == 1:   \n",
    "    cw_real_low_list,ccw_real_low_list,f_rot_low_list = [],[],[]\n",
    "    cuv_low, quv_low, cw_low, ccw_low, f_rot = spec_rot(rot_um_low,rot_vm_low) # get rotary components (cw and ccw) and frequency range (f)\n",
    "    half_idx = int((len(cw_low)/2))                            # discard half spectrum for real data \n",
    "    cw_real_low = cw_low[0:half_idx]*2                         # mult. amplitude by 2 to account for discarded data\n",
    "    ccw_real_low = ccw_low[0:half_idx]*2     \n",
    "    f_rot_low = f_rot[0:half_idx]                              # real frequency range (up to Nyquist)\n",
    "    cw_real_low_list.append(cw_real_low)\n",
    "    ccw_real_low_list.append(ccw_real_low)"
   ]
  },
  {
   "cell_type": "code",
   "execution_count": null,
   "metadata": {
    "ExecuteTime": {
     "end_time": "2021-02-23T02:37:40.440623Z",
     "start_time": "2021-02-23T02:37:40.413430Z"
    },
    "code_folding": [
     0
    ]
   },
   "outputs": [],
   "source": [
    "# get upper rotary spectra\n",
    "d_idx_up = 0                                             # depth index, use -1 for lower, 0 for upper\n",
    "d_stamp_up = str(int(depth[d_idx_up]))                   # depth stamp for figures\n",
    "\n",
    "rot_um_up_list,rot_vm_up_list = [],[]\n",
    "\n",
    "if n_seg > 1:\n",
    "    for i in range(n_seg):\n",
    "        rot_u_up = np.copy(uorig[i][:,d_idx_up])                 \n",
    "        rot_um_up = rot_u_up - np.nanmean(rot_u_up)             # remove mean for rotary spectra\n",
    "        rot_v_up = np.copy(vorig[i][:,d_idx_up])                 \n",
    "        rot_vm_up = rot_v_up - np.nanmean(rot_v_up)  \n",
    "        rot_um_up_list.append(rot_um_up)\n",
    "        rot_vm_up_list.append(rot_vm_up)\n",
    "    rot_um_up = rot_um_up_list\n",
    "    rot_vm_up = rot_vm_up_list\n",
    "if n_seg == 1:\n",
    "    rot_u_up = np.copy(uorig[:,d_idx_up])\n",
    "    rot_um_up = rot_u_up - np.nanmean(rot_u_up)             # remove mean for rotary spectra\n",
    "    rot_v_up = np.copy(vorig[:,d_idx_up])                 \n",
    "    rot_vm_up = rot_v_up - np.nanmean(rot_v_up)\n",
    "\n",
    "if n_seg > 1:\n",
    "    time_total = 0\n",
    "    for i in range(n_seg):\n",
    "        time_total += len(t_seg[i])\n",
    "    t_seg_PSD = np.copy(t_seg)\n",
    "    t_short = []\n",
    "    for i in range(n_seg):\n",
    "        if len(t_seg_PSD[i]) < nps:\n",
    "            t_short.append(i)\n",
    "    if adcp == 'Axis55' and t_stamp == '2018':\n",
    "        t_short.append(3)\n",
    "    t_seg_PSD = np.delete(t_seg_PSD,t_short)\n",
    "    rot_um_up = np.delete(rot_um_up,t_short)\n",
    "    rot_vm_up = np.delete(rot_vm_up,t_short)\n",
    "    n_seg_PSD = n_seg - len(t_short)\n",
    "elif n_seg == 1:\n",
    "    t_seg_PSD = t_seg\n",
    "    n_seg_PSD = n_seg\n",
    "\n",
    "if n_seg_PSD > 1:\n",
    "    time_total = 0\n",
    "    for i in range(n_seg_PSD):\n",
    "        time_total += len(t_seg_PSD[i])\n",
    "    print(len(t_short),'segments too short, new total time length:',time_total)    \n",
    "\n",
    "    cw_real_up_list,ccw_real_up_list,f_rot_up_list = [],[],[]\n",
    "    for i in range(n_seg_PSD):\n",
    "        cuv_up, quv_up, cw_up, ccw_up, f_rot = spec_rot(rot_um_up[i],rot_vm_up[i]) # get rotary components (cw and ccw) and frequency range (f)\n",
    "        half_idx = int((len(cw_up)/2))                            # discard half spectrum for real data \n",
    "        cw_real_up = cw_up[0:half_idx]*2                         # mult. amplitude by 2 to account for discarded data\n",
    "        ccw_real_up = ccw_up[0:half_idx]*2     \n",
    "        f_rot_up = f_rot[0:half_idx]                              # real frequency range (up to Nyquist)\n",
    "        cw_real_up_list.append(cw_real_up)\n",
    "        ccw_real_up_list.append(ccw_real_up)\n",
    "        f_rot_up_list.append(f_rot_up)    \n",
    "    f_rot_up = f_rot_up_list[0]\n",
    "elif n_seg_PSD == 1:   \n",
    "    cw_real_up_list,ccw_real_up_list,f_rot_up_list = [],[],[]\n",
    "    cuv_up, quv_up, cw_up, ccw_up, f_rot = spec_rot(rot_um_up,rot_vm_up) # get rotary components (cw and ccw) and frequency range (f)\n",
    "    half_idx = int((len(cw_up)/2))                            # discard half spectrum for real data \n",
    "    cw_real_up = cw_up[0:half_idx]*2                         # mult. amplitude by 2 to account for discarded data\n",
    "    ccw_real_up = ccw_up[0:half_idx]*2     \n",
    "    f_rot_up = f_rot[0:half_idx]                              # real frequency range (up to Nyquist)\n",
    "    cw_real_up_list.append(cw_real_up)\n",
    "    ccw_real_up_list.append(ccw_real_up)"
   ]
  },
  {
   "cell_type": "code",
   "execution_count": null,
   "metadata": {
    "ExecuteTime": {
     "end_time": "2021-02-23T02:37:41.181996Z",
     "start_time": "2021-02-23T02:37:41.172523Z"
    },
    "code_folding": [
     0
    ]
   },
   "outputs": [],
   "source": [
    "# combine Welch segments, average with weighting\n",
    "\n",
    "time_weights = []\n",
    "if n_seg_PSD > 1:\n",
    "    time_total = 0\n",
    "    for i in range(n_seg_PSD):\n",
    "        time_total += len(t_seg[i])\n",
    "    for i in range(n_seg_PSD):\n",
    "        t_len = len(t_seg_PSD[i])\n",
    "        weight_temp = t_len/time_total\n",
    "        time_weights.append(weight_temp)\n",
    "elif n_seg_PSD == 1:\n",
    "    weight_temp = 1\n",
    "    time_weights = [1]\n",
    "\n",
    "cw_real_low_avg_list,ccw_real_low_avg_list,cw_real_up_avg_list,ccw_real_up_avg_list = [],[],[],[]\n",
    "\n",
    "if n_seg_PSD > 1:\n",
    "    for i in range(n_seg_PSD):\n",
    "        if i == 0:\n",
    "            cw_real_low_avg_list.append(cw_real_low_list[i]*time_weights[i])\n",
    "            ccw_real_low_avg_list.append(ccw_real_low_list[i]*time_weights[i])\n",
    "            cw_real_up_avg_list.append(cw_real_up_list[i]*time_weights[i])\n",
    "            ccw_real_up_avg_list.append(ccw_real_up_list[i]*time_weights[i])\n",
    "        elif i > 0:\n",
    "            cw_real_low_avg_list += (cw_real_low_list[i]*time_weights[i])\n",
    "            ccw_real_low_avg_list += (ccw_real_low_list[i]*time_weights[i])\n",
    "            cw_real_up_avg_list += (cw_real_up_list[i]*time_weights[i])\n",
    "            ccw_real_up_avg_list += (ccw_real_up_list[i]*time_weights[i])\n",
    "elif n_seg_PSD == 1:\n",
    "    cw_real_low_avg_list = cw_real_low_list\n",
    "    ccw_real_low_avg_list = ccw_real_low_list\n",
    "    cw_real_up_avg_list = cw_real_up_list\n",
    "    ccw_real_up_avg_list = ccw_real_up_list\n",
    "            \n",
    "    cw_real_low = cw_real_low_avg_list[0]\n",
    "    ccw_real_low = ccw_real_low_avg_list[0]\n",
    "    cw_real_up = cw_real_up_avg_list[0]\n",
    "    ccw_real_up = ccw_real_up_avg_list[0]"
   ]
  },
  {
   "cell_type": "code",
   "execution_count": null,
   "metadata": {
    "ExecuteTime": {
     "end_time": "2021-02-23T02:37:41.864041Z",
     "start_time": "2021-02-23T02:37:41.856678Z"
    },
    "code_folding": [
     0
    ]
   },
   "outputs": [],
   "source": [
    "# error bars (95% confidence intervals)\n",
    "\n",
    "probability = 0.95                                    # calculate confidence intervals\n",
    "alpha = 1 - probability    \n",
    "if n_seg_PSD > 1:\n",
    "    time_total = 0\n",
    "    for i in range(n_seg_PSD):\n",
    "        time_total += len(t_seg_PSD[i])\n",
    "elif n_seg_PSD == 1:\n",
    "    time_total = len(t_seg[0])\n",
    "t_len = time_total\n",
    "NS = t_len / (nps / 2)                                # number of estimates, Welch\n",
    "vp = (4/3)*NS                                         # for tapered windows\n",
    "cp = chi2.ppf([1 - alpha / 2, alpha / 2], vp)         # chi**2 distribution\n",
    "cint = vp/cp                                          # interval coefficients\n",
    "\n",
    "cw_real_low_lower = cw_real_low * cint[0]             # define upper and lower confidence values\n",
    "cw_real_low_upper = cw_real_low * cint[1]\n",
    "ccw_real_low_lower = ccw_real_low * cint[0]           # define upper and lower confidence values\n",
    "ccw_real_low_upper = ccw_real_low * cint[1]\n",
    "cw_real_up_lower = cw_real_up * cint[0]               # define upper and lower confidence values\n",
    "cw_real_up_upper = cw_real_up * cint[1]\n",
    "ccw_real_up_lower = ccw_real_up * cint[0]             # define upper and lower confidence values\n",
    "ccw_real_up_upper = ccw_real_up * cint[1]"
   ]
  },
  {
   "cell_type": "code",
   "execution_count": null,
   "metadata": {
    "ExecuteTime": {
     "end_time": "2021-02-23T02:37:42.551628Z",
     "start_time": "2021-02-23T02:37:42.537392Z"
    },
    "code_folding": [
     0
    ]
   },
   "outputs": [],
   "source": [
    "# GM rotary spectra\n",
    "gm = np.loadtxt('../project/archive/GM/gm.dat')        # get GM data from separate code\n",
    "gm_freq = gm[:, 0]\n",
    "gm_cw = gm[:, 2]\n",
    "gm_ccw = gm[:, 3]"
   ]
  },
  {
   "cell_type": "code",
   "execution_count": null,
   "metadata": {
    "ExecuteTime": {
     "end_time": "2021-02-23T02:37:43.766498Z",
     "start_time": "2021-02-23T02:37:43.223944Z"
    },
    "code_folding": [
     0,
     15
    ],
    "scrolled": false
   },
   "outputs": [],
   "source": [
    "# plot rotary spectra\n",
    "\n",
    "fig,ax = plt.subplots(1,1,figsize=(9.5,6))               # plot CCW and CW components\n",
    "ax.set_title(f'Rotary spectra - {name} - {t_stamp}')\n",
    "ax.set_xlabel('Frequency [Hz]')\n",
    "ax.set_ylabel(f'Energy density [$(m/s)^2/Hz$]')\n",
    "ax.set_ylim(1e-2,5e3)          # set y limits for comparing PSD\n",
    "ax.set_xlim(1.27e-6, 5.55e-4)  # first non-zero freq bin to the Nyquist freq \n",
    "ax.tick_params(axis='both', direction='in', which='both')\n",
    "\n",
    "ax.axvline(1.161e-5, color ='lawngreen',ls='--',lw=0.8,label = \"$K_1$\") \n",
    "ax.axvline(1.732e-5, color ='cyan',ls='--', lw=0.8,label = \"$f$\")    \n",
    "ax.axvline(2.236e-5, color ='orange',ls='--',lw=0.8,label = \"$M_2$\")\n",
    "ax.axvline(3.968e-5, color ='gold',ls='--',lw=0.8,label = \"$fM_2$\")\n",
    "ax.axvline(4.472e-5, color ='pink',ls='--',lw=0.8,label = \"$M_4$\")\n",
    "if adcp == 'Axis75' or adcp == 'Slope':\n",
    "    ax.axhline(2.3e-2,color='gray',ls=':',lw=0.8,label='Noise floor')\n",
    "elif adcp == 'Axis55':\n",
    "    ax.axhline(0.53,color='gray',ls=':',lw=0.8,label='Noise floor')\n",
    "ax.loglog(gm_freq/(2*np.pi),gm_cw*(2*np.pi),color='gray',lw=0.8, label = 'GM79 - cw') \n",
    "ax.loglog(gm_freq/(2*np.pi),gm_ccw*(2*np.pi),color='gray',lw=0.8,ls='--', label = 'GM79 - ccw') \n",
    "\n",
    "ax.loglog(f_rot_up, cw_real_up, label=f'-{d_stamp_up} m - cw',color='blue',lw=1)\n",
    "ax.loglog(f_rot_up, ccw_real_up, label=f'-{d_stamp_up} m - ccw',color='blue',ls='--',lw=1)\n",
    "ax.loglog(f_rot_low, cw_real_low, label=f'-{d_stamp_low} m - cw',color='red',lw=1)\n",
    "ax.loglog(f_rot_low, ccw_real_low, label=f'-{d_stamp_low} m - ccw',color='red',ls='--',lw=1)\n",
    "\n",
    "ax.fill_between(f_rot_up, cw_real_up_lower, cw_real_up_upper, facecolor='blue', alpha=0.1)\n",
    "ax.fill_between(f_rot_up, ccw_real_up_lower, ccw_real_up_upper, facecolor='blue', alpha=0.1)\n",
    "ax.fill_between(f_rot_low, cw_real_low_lower, cw_real_low_upper, facecolor='red', alpha=0.1)\n",
    "ax.fill_between(f_rot_low, ccw_real_low_lower, ccw_real_low_upper, facecolor='red', alpha=0.1, label='95% conf. int.')\n",
    "\n",
    "fig.tight_layout()\n",
    "plt.legend(loc='upper right',frameon=False,fontsize=9)\n",
    "plt.show()\n",
    "\n",
    "plt.savefig(fname='./plots/rot_plots/rot_'+adcp+'_'+t_stamp+'.pdf',format='pdf')"
   ]
  },
  {
   "cell_type": "markdown",
   "metadata": {},
   "source": [
    "## Spectrograms\n",
    "\n",
    "Creates a spectrogram for the rotated, cleaned, and mean-removed velocity data. Spectrograms have been 'whitened', and parameters adjusted (as in PSD) for optimal visual clarity."
   ]
  },
  {
   "cell_type": "code",
   "execution_count": null,
   "metadata": {
    "ExecuteTime": {
     "end_time": "2021-02-18T19:32:42.357891Z",
     "start_time": "2021-02-18T19:32:42.353543Z"
    },
    "code_folding": [
     0
    ]
   },
   "outputs": [],
   "source": [
    "# set spectrogram Welch averaging\n",
    "time_total = 0\n",
    "if n_seg > 1:\n",
    "    for i in range(n_seg):\n",
    "        time_total += len(t_seg[i])\n",
    "elif n_seg == 1:\n",
    "    time_total = len(t_seg)\n",
    "\n",
    "fs = 1.11e-3                 # 4 samples per HOUR, 1.11e-3 per SECOND\n",
    "win = 'hann'                 # optimal window for averaging\n",
    "if time_total >= 20000:\n",
    "    nps = 1024               # find optimal average for nperseg, use //40 for annual, //20 for seasonal\n",
    "elif time_total < 20000:\n",
    "    nps = 512\n",
    "overlap = nps//2                  # 1/2 overlap by default"
   ]
  },
  {
   "cell_type": "code",
   "execution_count": null,
   "metadata": {
    "ExecuteTime": {
     "end_time": "2021-02-18T19:32:42.946832Z",
     "start_time": "2021-02-18T19:32:42.915513Z"
    },
    "code_folding": [
     0
    ]
   },
   "outputs": [],
   "source": [
    "# upper depth spectrogram process\n",
    "\n",
    "spect_up,specfu_up,specfv_up,Sxxu_up,Sxxv_up = [],[],[],[],[]  # empty lists for segs\n",
    "d_idx_up = 0                                            # depth index, use -1 for lower, 0 for upper\n",
    "d_stamp_up = str(int(depth[d_idx_up]))                  # depth stamp for figures\n",
    "\n",
    "spectro_um_up_list, spectro_vm_up_list = [],[]\n",
    "if n_seg > 1:\n",
    "    for i in range(n_seg):      \n",
    "        spectro_u_up = np.copy(uorig[i][:,d_idx_up])                 \n",
    "        spectro_um_up = spectro_u_up - np.nanmean(spectro_u_up) # remove mean for spectrogram\n",
    "        spectro_v_up = np.copy(vorig[i][:,d_idx_up])                 \n",
    "        spectro_vm_up = spectro_v_up - np.nanmean(spectro_v_up) \n",
    "        spectro_um_up_list.append(spectro_um_up)\n",
    "        spectro_vm_up_list.append(spectro_vm_up)\n",
    "    spectro_um_up = spectro_um_up_list\n",
    "    spectro_vm_up = spectro_vm_up_list\n",
    "\n",
    "    t_seg_PSD = t_seg\n",
    "    t_short = []\n",
    "    for i in range(n_seg):\n",
    "        if len(t_seg_PSD[i]) < nps:\n",
    "            t_short.append(i)\n",
    "    t_seg_PSD = np.delete(t_seg_PSD,t_short)\n",
    "    spectro_um_up = np.delete(spectro_um_up,t_short)\n",
    "    spectro_vm_up = np.delete(spectro_vm_up,t_short)\n",
    "    n_seg_PSD = n_seg - len(t_short)\n",
    "    time_total = 0\n",
    "    for i in range(n_seg_PSD):\n",
    "        time_total += len(t_seg_PSD[i])\n",
    "    print(len(t_short),'segments too short, new total time length:',time_total)\n",
    "elif n_seg == 1:\n",
    "    t_seg_PSD = t_seg\n",
    "    n_seg_PSD = n_seg\n",
    "    spectro_u_up = np.copy(uorig[:,d_idx_up])                 \n",
    "    spectro_um_up = spectro_u_up - np.nanmean(spectro_u_up) # remove mean for spectrogram\n",
    "    spectro_v_up = np.copy(vorig[:,d_idx_up])                 \n",
    "    spectro_vm_up = spectro_v_up - np.nanmean(spectro_v_up)\n",
    "\n",
    "if n_seg_PSD > 1:\n",
    "    for i in range(n_seg_PSD): \n",
    "        # get spectrogram    \n",
    "        spectro_u_up_f, spectro_u_up_t, spectro_u_up_Sxx = sig.spectrogram(spectro_um_up[i], fs=fs, window=win, \\\n",
    "                                                            nperseg = nps, noverlap = overlap, return_onesided=True)\n",
    "        spectro_v_up_f, spectro_v_up_t, spectro_v_up_Sxx = sig.spectrogram(spectro_vm_up[i], fs=fs, window=win, \\\n",
    "                                                            nperseg = nps, noverlap = overlap, return_onesided=True)\n",
    "    \n",
    "        # 'whiten' spectrogram (flatten it) by multiplying Sxx by frequency**2\n",
    "        Sxx_u_up_white = np.copy(spectro_u_up_Sxx)\n",
    "        for j in range(len(spectro_u_up_t)):\n",
    "            Sxx_u_up_white[:,j] = Sxx_u_up_white[:,j]*(spectro_u_up_f**2)\n",
    "        Sxx_v_up_white = np.copy(spectro_v_up_Sxx)\n",
    "        for j in range(len(spectro_v_up_t)):\n",
    "            Sxx_v_up_white[:,j] = Sxx_v_up_white[:,j]*(spectro_v_up_f**2)\n",
    "        \n",
    "        # convert spectro_t to datetime for x-axis on plots\n",
    "        spectro_t4_up = spectro_u_up_t*fs\n",
    "        spectro_time_len_up = len(spectro_t4_up)\n",
    "        spectro_time_axis_up = np.zeros([spectro_time_len_up],dtype='datetime64[s]')\n",
    "        for k in range(spectro_time_len_up):\n",
    "            j = np.int(spectro_t4_up[k])\n",
    "            spectro_time_axis_up[k] = t_seg_PSD[i][j]\n",
    "    \n",
    "        spect_up.append(spectro_time_axis_up)   # append arrays to lists\n",
    "        specfu_up.append(spectro_u_up_f)\n",
    "        specfv_up.append(spectro_v_up_f)\n",
    "        Sxxu_up.append(Sxx_u_up_white)\n",
    "        Sxxv_up.append(Sxx_v_up_white)\n",
    "elif n_seg_PSD == 1:\n",
    "    # get spectrogram    \n",
    "    spectro_u_up_f, spectro_u_up_t, spectro_u_up_Sxx = sig.spectrogram(spectro_um_up, fs=fs, window=win, \\\n",
    "                                                        nperseg = nps, noverlap = overlap, return_onesided=True)\n",
    "    spectro_v_up_f, spectro_v_up_t, spectro_v_up_Sxx = sig.spectrogram(spectro_vm_up, fs=fs, window=win, \\\n",
    "                                                        nperseg = nps, noverlap = overlap, return_onesided=True)\n",
    "\n",
    "    # 'whiten' spectrogram (flatten it) by multiplying Sxx by frequency**2\n",
    "    Sxx_u_up_white = np.copy(spectro_u_up_Sxx)\n",
    "    for j in range(len(spectro_u_up_t)):\n",
    "        Sxx_u_up_white[:,j] = Sxx_u_up_white[:,j]*(spectro_u_up_f**2)\n",
    "    Sxx_v_up_white = np.copy(spectro_v_up_Sxx)\n",
    "    for j in range(len(spectro_v_up_t)):\n",
    "        Sxx_v_up_white[:,j] = Sxx_v_up_white[:,j]*(spectro_v_up_f**2)\n",
    "\n",
    "    # convert spectro_t to datetime for x-axis on plots\n",
    "    spectro_t4_up = spectro_u_up_t*fs\n",
    "    spectro_time_len_up = len(spectro_t4_up)\n",
    "    spectro_time_axis_up = np.zeros([spectro_time_len_up],dtype='datetime64[s]')\n",
    "    for k in range(spectro_time_len_up):\n",
    "        j = np.int(spectro_t4_up[k])\n",
    "        spectro_time_axis_up[k] = t_seg_PSD[0][j]\n",
    "    \n",
    "    spect_up.append(spectro_time_axis_up)   # append arrays to lists\n",
    "    specfu_up.append(spectro_u_up_f)\n",
    "    specfv_up.append(spectro_v_up_f)\n",
    "    Sxxu_up.append(Sxx_u_up_white)\n",
    "    Sxxv_up.append(Sxx_v_up_white)"
   ]
  },
  {
   "cell_type": "code",
   "execution_count": null,
   "metadata": {
    "ExecuteTime": {
     "end_time": "2021-02-18T19:32:43.666320Z",
     "start_time": "2021-02-18T19:32:43.635805Z"
    },
    "code_folding": [
     0
    ]
   },
   "outputs": [],
   "source": [
    "# lower depth spectrogram process\n",
    "\n",
    "spect_low,specfu_low,specfv_low,Sxxu_low,Sxxv_low = [],[],[],[],[]  # empty lists for segs\n",
    "d_idx_low = -1                                            # depth index, use -1 for lower, 0 for upper\n",
    "d_stamp_low = str(int(depth[d_idx_low]))                  # depth stamp for figures\n",
    "\n",
    "spectro_um_low_list, spectro_vm_low_list = [],[]\n",
    "if n_seg > 1:\n",
    "    for i in range(n_seg):      \n",
    "        spectro_u_low = np.copy(uorig[i][:,d_idx_low])                 \n",
    "        spectro_um_low = spectro_u_low - np.nanmean(spectro_u_low) # remove mean for spectrogram\n",
    "        spectro_v_low = np.copy(vorig[i][:,d_idx_low])                 \n",
    "        spectro_vm_low = spectro_v_low - np.nanmean(spectro_v_low) \n",
    "        spectro_um_low_list.append(spectro_um_low)\n",
    "        spectro_vm_low_list.append(spectro_vm_low)\n",
    "    spectro_um_low = spectro_um_low_list\n",
    "    spectro_vm_low = spectro_vm_low_list\n",
    "\n",
    "    t_seg_PSD = t_seg\n",
    "    t_short = []\n",
    "    for i in range(n_seg):\n",
    "        if len(t_seg_PSD[i]) < nps:\n",
    "            t_short.append(i)\n",
    "    t_seg_PSD = np.delete(t_seg_PSD,t_short)\n",
    "    spectro_um_low = np.delete(spectro_um_low,t_short)\n",
    "    spectro_vm_low = np.delete(spectro_vm_low,t_short)\n",
    "    n_seg_PSD = n_seg - len(t_short)\n",
    "    time_total = 0\n",
    "    for i in range(n_seg_PSD):\n",
    "        time_total += len(t_seg_PSD[i])\n",
    "    print(len(t_short),'segments too short, new total time length:',time_total)\n",
    "elif n_seg == 1:\n",
    "    t_seg_PSD = t_seg\n",
    "    n_seg_PSD = n_seg\n",
    "    spectro_u_low = np.copy(uorig[:,d_idx_low])                 \n",
    "    spectro_um_low = spectro_u_low - np.nanmean(spectro_u_low) # remove mean for spectrogram\n",
    "    spectro_v_low = np.copy(vorig[:,d_idx_low])                 \n",
    "    spectro_vm_low = spectro_v_low - np.nanmean(spectro_v_low)\n",
    "\n",
    "if n_seg_PSD > 1:\n",
    "    for i in range(n_seg_PSD): \n",
    "        # get spectrogram    \n",
    "        spectro_u_low_f, spectro_u_low_t, spectro_u_low_Sxx = sig.spectrogram(spectro_um_low[i], fs=fs, window=win, \\\n",
    "                                                            nperseg = nps, noverlap = overlap, return_onesided=True)\n",
    "        spectro_v_low_f, spectro_v_low_t, spectro_v_low_Sxx = sig.spectrogram(spectro_vm_low[i], fs=fs, window=win, \\\n",
    "                                                            nperseg = nps, noverlap = overlap, return_onesided=True)\n",
    "    \n",
    "        # 'whiten' spectrogram (flatten it) by multiplying Sxx by frequency**2\n",
    "        Sxx_u_low_white = np.copy(spectro_u_low_Sxx)\n",
    "        for j in range(len(spectro_u_low_t)):\n",
    "            Sxx_u_low_white[:,j] = Sxx_u_low_white[:,j]*(spectro_u_low_f**2)\n",
    "        Sxx_v_low_white = np.copy(spectro_v_low_Sxx)\n",
    "        for j in range(len(spectro_v_low_t)):\n",
    "            Sxx_v_low_white[:,j] = Sxx_v_low_white[:,j]*(spectro_v_low_f**2)\n",
    "        \n",
    "        # convert spectro_t to datetime for x-axis on plots\n",
    "        spectro_t4_low = spectro_u_low_t*fs\n",
    "        spectro_time_len_low = len(spectro_t4_low)\n",
    "        spectro_time_axis_low = np.zeros([spectro_time_len_low],dtype='datetime64[s]')\n",
    "        for k in range(spectro_time_len_low):\n",
    "            j = np.int(spectro_t4_low[k])\n",
    "            spectro_time_axis_low[k] = t_seg_PSD[i][j]\n",
    "    \n",
    "        spect_low.append(spectro_time_axis_low)   # append arrays to lists\n",
    "        specfu_low.append(spectro_u_low_f)\n",
    "        specfv_low.append(spectro_v_low_f)\n",
    "        Sxxu_low.append(Sxx_u_low_white)\n",
    "        Sxxv_low.append(Sxx_v_low_white)\n",
    "elif n_seg_PSD == 1:\n",
    "    # get spectrogram    \n",
    "    spectro_u_low_f, spectro_u_low_t, spectro_u_low_Sxx = sig.spectrogram(spectro_um_low, fs=fs, window=win, \\\n",
    "                                                        nperseg = nps, noverlap = overlap, return_onesided=True)\n",
    "    spectro_v_low_f, spectro_v_low_t, spectro_v_low_Sxx = sig.spectrogram(spectro_vm_low, fs=fs, window=win, \\\n",
    "                                                        nperseg = nps, noverlap = overlap, return_onesided=True)\n",
    "\n",
    "    # 'whiten' spectrogram (flatten it) by multiplying Sxx by frequency**2\n",
    "    Sxx_u_low_white = np.copy(spectro_u_low_Sxx)\n",
    "    for j in range(len(spectro_u_low_t)):\n",
    "        Sxx_u_low_white[:,j] = Sxx_u_low_white[:,j]*(spectro_u_low_f**2)\n",
    "    Sxx_v_low_white = np.copy(spectro_v_low_Sxx)\n",
    "    for j in range(len(spectro_v_low_t)):\n",
    "        Sxx_v_low_white[:,j] = Sxx_v_low_white[:,j]*(spectro_v_low_f**2)\n",
    "\n",
    "    # convert spectro_t to datetime for x-axis on plots\n",
    "    spectro_t4_low = spectro_u_low_t*fs\n",
    "    spectro_time_len_low = len(spectro_t4_low)\n",
    "    spectro_time_axis_low = np.zeros([spectro_time_len_low],dtype='datetime64[s]')\n",
    "    for k in range(spectro_time_len_low):\n",
    "        j = np.int(spectro_t4_low[k])\n",
    "        spectro_time_axis_low[k] = t_seg_PSD[0][j]\n",
    "    \n",
    "    spect_low.append(spectro_time_axis_low)   # append arrays to lists\n",
    "    specfu_low.append(spectro_u_low_f)\n",
    "    specfv_low.append(spectro_v_low_f)\n",
    "    Sxxu_low.append(Sxx_u_low_white)\n",
    "    Sxxv_low.append(Sxx_v_low_white)"
   ]
  },
  {
   "cell_type": "code",
   "execution_count": null,
   "metadata": {
    "ExecuteTime": {
     "end_time": "2021-02-18T19:32:44.681340Z",
     "start_time": "2021-02-18T19:32:44.404814Z"
    },
    "code_folding": [
     0
    ],
    "scrolled": false
   },
   "outputs": [],
   "source": [
    "# plot spectrogram\n",
    "\n",
    "fig, axs = plt.subplots(2, 2, figsize=(10,8), sharex=True, sharey=True)\n",
    "(ax0,ax1),(ax2,ax3) = axs\n",
    "fig.subplots_adjust(hspace=0.07, wspace=0.02)\n",
    "fig.text(0.5, 0.92, f'Spectrograms - {name} - {t_stamp}', ha='center', fontsize=12)\n",
    "fig.text(0.06, 0.5, 'Frequency [Hz]', va='center', rotation='vertical')\n",
    "fig.text(0.92, 0.5, '$S_{xx}$ [$(m/s)^2*Hz$]', va='center', rotation='vertical')\n",
    "fig.text(0.5, 0.06, f'Months in {t_stamp} [mm]', ha='center')\n",
    "fig.text(0.125,0.882,f'-{d_stamp_up} m')\n",
    "fig.text(0.125,0.483,f'-{d_stamp_low} m')\n",
    "ax0.set_title('Cross-slope')\n",
    "ax1.set_title('Along-slope')\n",
    "\n",
    "vmin = 3e-8\n",
    "vmax = 1e-6\n",
    "\n",
    "if n_seg_PSD > 1:\n",
    "    for i in range(n_seg_PSD):\n",
    "        im0 = ax0.pcolormesh(spect_up[i], specfu_up[i], Sxxu_up[i], rasterized=True, \\\n",
    "                            norm=colors.LogNorm(vmin=vmin, vmax=vmax), cmap='hot')  \n",
    "        im1 = ax1.pcolormesh(spect_up[i], specfv_up[i], Sxxv_up[i], rasterized=True, \\\n",
    "                            norm=colors.LogNorm(vmin=vmin, vmax=vmax), cmap='hot')  \n",
    "        im2 = ax2.pcolormesh(spect_low[i], specfu_low[i], Sxxu_low[i], rasterized=True, \\\n",
    "                            norm=colors.LogNorm(vmin=vmin, vmax=vmax), cmap='hot')\n",
    "        im3 = ax3.pcolormesh(spect_low[i], specfv_low[i], Sxxv_low[i], rasterized=True, \\\n",
    "                            norm=colors.LogNorm(vmin=vmin, vmax=vmax), cmap='hot')  \n",
    "elif n_seg_PSD == 1:\n",
    "    im0 = ax0.pcolormesh(spect_up[0], specfu_up[0], Sxxu_up[0], rasterized=True, \\\n",
    "                        norm=colors.LogNorm(vmin=vmin, vmax=vmax), cmap='hot')  \n",
    "    im1 = ax1.pcolormesh(spect_up[0], specfv_up[0], Sxxv_up[0], rasterized=True, \\\n",
    "                        norm=colors.LogNorm(vmin=vmin, vmax=vmax), cmap='hot')  \n",
    "    im2 = ax2.pcolormesh(spect_low[0], specfu_low[0], Sxxu_low[0], rasterized=True, \\\n",
    "                        norm=colors.LogNorm(vmin=vmin, vmax=vmax), cmap='hot')\n",
    "    im3 = ax3.pcolormesh(spect_low[0], specfv_low[0], Sxxv_low[0], rasterized=True, \\\n",
    "                        norm=colors.LogNorm(vmin=vmin, vmax=vmax), cmap='hot') \n",
    "\n",
    "cbar1 = fig.colorbar(im1, ax=ax1, fraction=0.05, pad=0.01, aspect=40, extend='both')\n",
    "cbar3 = fig.colorbar(im3, ax=ax3, fraction=0.05, pad=0.01, aspect=40, extend='both')    \n",
    "\n",
    "ax0.set_yscale('log')\n",
    "ax0.set_ylim(1e-5,5.55e-4)\n",
    "date_form = pldates.DateFormatter(\"%m\")\n",
    "ax0.xaxis.set_major_formatter(date_form)\n",
    "ax0.set_xlim(start_date,end_date)\n",
    "ax0.xaxis.set_major_locator(plt.MaxNLocator(6))\n",
    "\n",
    "ax0.axhline(4.472e-5, color ='pink',ls='--',lw=0.8,label = \"$M_4$\")\n",
    "ax0.axhline(3.968e-5, color ='gold',ls='--',lw=0.8,label = \"$fM_2$\")\n",
    "ax0.axhline(2.236e-5, color ='orange',ls='--',lw=0.8,label = \"$M_2$\")\n",
    "ax0.axhline(1.732e-5, color ='cyan',ls='--', lw=0.8,label = \"$f$\") \n",
    "ax0.axhline(1.161e-5, color ='lawngreen',ls='--',lw=0.8,label = \"$K_1$\") \n",
    "ax1.axhline(4.472e-5, color ='pink',ls='--',lw=0.8)\n",
    "ax1.axhline(3.968e-5, color ='gold',ls='--',lw=0.8)\n",
    "ax1.axhline(2.236e-5, color ='orange',ls='--',lw=0.8)\n",
    "ax1.axhline(1.732e-5, color ='cyan',ls='--', lw=0.8) \n",
    "ax1.axhline(1.161e-5, color ='lawngreen',ls='--',lw=0.8) \n",
    "ax2.axhline(4.472e-5, color ='pink',ls='--',lw=0.8)\n",
    "ax2.axhline(3.968e-5, color ='gold',ls='--',lw=0.8)\n",
    "ax2.axhline(2.236e-5, color ='orange',ls='--',lw=0.8)\n",
    "ax2.axhline(1.732e-5, color ='cyan',ls='--', lw=0.8) \n",
    "ax2.axhline(1.161e-5, color ='lawngreen',ls='--',lw=0.8) \n",
    "ax3.axhline(4.472e-5, color ='pink',ls='--',lw=0.8)\n",
    "ax3.axhline(3.968e-5, color ='gold',ls='--',lw=0.8)\n",
    "ax3.axhline(2.236e-5, color ='orange',ls='--',lw=0.8)\n",
    "ax3.axhline(1.732e-5, color ='cyan',ls='--', lw=0.8) \n",
    "ax3.axhline(1.161e-5, color ='lawngreen',ls='--',lw=0.8) \n",
    "\n",
    "plt.subplots_adjust(right=0.88)\n",
    "fig.legend(loc=(0.92,0.756), framealpha=0.6, facecolor='whitesmoke', fontsize=9, frameon=True)\n",
    "plt.show()\n",
    "\n",
    "plt.savefig(fname='./plots/spectro_plots/spectro_'+adcp+'_'+t_stamp+'.pdf',format='pdf')"
   ]
  },
  {
   "cell_type": "markdown",
   "metadata": {},
   "source": [
    "# Velocities\n",
    "\n",
    "Creates time and depth velocity plots from rotated and cleaned data."
   ]
  },
  {
   "cell_type": "code",
   "execution_count": null,
   "metadata": {
    "ExecuteTime": {
     "end_time": "2021-02-19T00:07:38.668763Z",
     "start_time": "2021-02-19T00:07:34.954408Z"
    },
    "code_folding": [
     0
    ]
   },
   "outputs": [],
   "source": [
    "# plot velocity data\n",
    "\n",
    "fig, axs = plt.subplots(3,2, figsize=(10,8), sharex = True, sharey = True)\n",
    "(ax1,ax4),(ax2,ax5),(ax3,ax6) = axs\n",
    "fig.subplots_adjust(hspace = 0.09,wspace = 0.03)\n",
    "fig.text(0.5, 0.92, f'Velocities - {name} - {t_stamp}', ha='center', fontsize=12)\n",
    "fig.text(0.06, 0.5, 'Depth [m]', va='center', rotation='vertical')\n",
    "fig.text(0.123, 0.887, 'original (cleaned)', va='center')\n",
    "fig.text(0.123, 0.623, 'low-pass', va='center')\n",
    "fig.text(0.123, 0.359, 'residual', va='center')\n",
    "fig.text(0.94, 0.5, 'Velocity [m/s]', va='center', rotation='vertical')\n",
    "fig.text(0.5, 0.06, f'Months in {t_stamp} [mm]', ha='center')\n",
    "ax1.set_title('Cross-slope')\n",
    "ax4.set_title('Along-slope')\n",
    "\n",
    "vmin = -0.20\n",
    "vmax = 0.20\n",
    "\n",
    "if n_seg > 1:\n",
    "    for i in range(n_seg):\n",
    "        im1 = ax1.pcolormesh(t_seg[i], -depth, uorig[i].T, rasterized=True, cmap='RdBu_r', vmin=vmin, vmax=vmax)\n",
    "        im2 = ax2.pcolormesh(t_seg[i], -depth, ulp[i].T, rasterized=True, cmap='RdBu_r', vmin=vmin, vmax=vmax)\n",
    "        im3 = ax3.pcolormesh(t_seg[i], -depth, uhp[i].T, rasterized=True, cmap='RdBu_r', vmin=vmin, vmax=vmax)\n",
    "        im4 = ax4.pcolormesh(t_seg[i], -depth, vorig[i].T, rasterized=True, cmap='RdBu_r', vmin=vmin, vmax=vmax)\n",
    "        im5 = ax5.pcolormesh(t_seg[i], -depth, vlp[i].T, rasterized=True, cmap='RdBu_r', vmin=vmin, vmax=vmax)\n",
    "        im6 = ax6.pcolormesh(t_seg[i], -depth, vhp[i].T, rasterized=True, cmap='RdBu_r', vmin=vmin, vmax=vmax)\n",
    "elif n_seg == 1:\n",
    "    im1 = ax1.pcolormesh(t_seg, -depth, uorig.T, rasterized=True, cmap='RdBu_r', vmin=vmin, vmax=vmax)\n",
    "    im2 = ax2.pcolormesh(t_seg, -depth, ulp.T, rasterized=True, cmap='RdBu_r', vmin=vmin, vmax=vmax)\n",
    "    im3 = ax3.pcolormesh(t_seg, -depth, uhp.T, rasterized=True, cmap='RdBu_r', vmin=vmin, vmax=vmax)\n",
    "    im4 = ax4.pcolormesh(t_seg, -depth, vorig.T, rasterized=True, cmap='RdBu_r', vmin=vmin, vmax=vmax)\n",
    "    im5 = ax5.pcolormesh(t_seg, -depth, vlp.T, rasterized=True, cmap='RdBu_r', vmin=vmin, vmax=vmax)\n",
    "    im6 = ax6.pcolormesh(t_seg, -depth, vhp.T, rasterized=True, cmap='RdBu_r', vmin=vmin, vmax=vmax)\n",
    "\n",
    "cbar4 = fig.colorbar(im4, ax=ax4, fraction=0.05, pad=0.01, aspect=40, extend='both')\n",
    "cbar5 = fig.colorbar(im5, ax=ax5, fraction=0.05, pad=0.01, aspect=40, extend='both')\n",
    "cbar6 = fig.colorbar(im6, ax=ax6, fraction=0.05, pad=0.01, aspect=40, extend='both')\n",
    "    \n",
    "date_form = pldates.DateFormatter(\"%m\")\n",
    "ax6.xaxis.set_major_formatter(date_form)\n",
    "ax6.set_xlim(start_date,end_date)\n",
    "ax6.xaxis.set_major_locator(plt.MaxNLocator(6))\n",
    "\n",
    "plt.show()\n",
    "\n",
    "plt.savefig(fname='./plots/vel_plots/vel_'+adcp+'_'+t_stamp+'.pdf',format='pdf')"
   ]
  },
  {
   "cell_type": "markdown",
   "metadata": {
    "deletable": false,
    "editable": false,
    "hide_input": true,
    "run_control": {
     "frozen": true
    }
   },
   "source": [
    "# Vertical data\n",
    "\n",
    "For processing velocity data on the vertical axis, $w$. Needs to be updated before use."
   ]
  },
  {
   "cell_type": "code",
   "execution_count": null,
   "metadata": {
    "ExecuteTime": {
     "end_time": "2021-02-11T00:30:53.792729Z",
     "start_time": "2021-02-11T00:30:53.369Z"
    },
    "code_folding": [
     0
    ],
    "deletable": false,
    "editable": false,
    "hide_input": false,
    "run_control": {
     "frozen": true
    }
   },
   "outputs": [],
   "source": [
    "# clean data, process for w (run horizontal, first)\n",
    "\n",
    "# w_new = ds.w[start:end,upidx:lowidx+1]   # w based on time and depth filters\n",
    "# worig = np.empty([t,d])                  # empty array for rotated w data\n",
    "# wlp = np.empty([t,d])                    # empty array for low-pass filtered w values\n",
    "# whp = np.empty([t,d])                    # empty array for residual w values\n",
    "\n",
    "# for j in range(d):                       # loop to filter NaN instances from velocities at each depth\n",
    "#     wtemp = pd.Series(w_new[:,j])\n",
    "#     wint = wtemp.interpolate(method=\"linear\", limit_direction='both',limit=96)\n",
    "#     worig[:,j] = wint                    # set interpolated data to original array\n",
    "    \n",
    "# for j in range(d):                       # loop for filtered and residual velocities\n",
    "#     wint = worig[:,j]\n",
    "#     wlp[:,j] = sig.filtfilt(b, a, wint)\n",
    "#     whp[:,j] = wint - wlp[:,j]"
   ]
  },
  {
   "cell_type": "code",
   "execution_count": null,
   "metadata": {
    "ExecuteTime": {
     "end_time": "2021-02-11T00:30:53.793876Z",
     "start_time": "2021-02-11T00:30:53.370Z"
    },
    "code_folding": [
     0
    ],
    "deletable": false,
    "editable": false,
    "run_control": {
     "frozen": true
    }
   },
   "outputs": [],
   "source": [
    "# PSD for w (run horizontal, first)\n",
    "\n",
    "# fig, axs = plt.subplots(2,1,figsize=(10,8), sharex=True, sharey=True)\n",
    "# (ax1,ax2) = axs\n",
    "# fig.subplots_adjust(hspace=0.03, wspace=0)\n",
    "\n",
    "# ax1.axvline(1.161e-5, color ='lawngreen',ls='--',lw=0.8,label = \"$K_1$ = 1.16e-5 Hz\") \n",
    "# ax1.axvline(1.732e-5, color ='cyan',ls='--', lw=0.8,label = \"$f$ = 1.73e-5 Hz\")    \n",
    "# ax1.axvline(2.236e-5, color ='orange',ls='--',lw=0.8,label = \"$M_2$ = 2.24e-5 Hz\")\n",
    "# ax1.axvline(3.968e-5, color ='gold',ls='--',lw=0.8,label = \"$fM_2$ = 3.97e-5 Hz\")\n",
    "# ax1.axvline(4.472e-5, color ='pink',ls='--',lw=0.8,label = \"$M_4$ = 4.47e-5 Hz\")\n",
    "# ax1.tick_params(axis='both', direction='in', which='both')\n",
    "# ax1.loglog(wmup_f/3600, wmup_PSD*3600)\n",
    "# #ax1.set_ylim(1e-3,5e2)\n",
    "# #ax1.set_ylim(1e-2,1e1)\n",
    "# #ax1.set_xlim(np.min(wmup_f/3600),np.max(wmup_f/3600))\n",
    "\n",
    "# ax2.axvline(1.161e-5, color ='lawngreen',ls='--',lw=0.8)\n",
    "# ax2.axvline(1.732e-5, color ='cyan',ls='--', lw=0.8)\n",
    "# ax2.axvline(2.236e-5, color ='orange',ls='--',lw=0.8)\n",
    "# ax2.axvline(3.968e-5, color ='gold',ls='--',lw=0.8)\n",
    "# ax2.axvline(4.472e-5, color ='pink',ls='--',lw=0.8)\n",
    "# ax2.tick_params(axis='both', direction='in', which='both')\n",
    "# ax2.loglog(wmlow_f/3600, wmlow_PSD*3600)\n",
    "\n",
    "# fig.text(0.805, 0.7, f'Depth {dup_stamp} m', va='center',rotation='270')\n",
    "# fig.text(0.805, 0.3, f'Depth {dlow_stamp} m', va='center',rotation='270')\n",
    "# fig.text(0.5,0.90,f'$w$ PSD - {name} - Annual {t_stamp}', ha='center', fontsize=12)\n",
    "# fig.text(0.04, 0.5, 'Power spectral density [$(m/s)^2/Hz$]', va='center', rotation='vertical')\n",
    "# fig.text(0.5,0.06,'Frequency [Hz]',ha='center')\n",
    "\n",
    "# ax1.fill_between(wmup_f/3600, wmup_lower*3600, wmup_upper*3600, facecolor='green', alpha=0.1)\n",
    "# ax2.fill_between(wmlow_f/3600, wmlow_lower*3600, wmlow_upper*3600, facecolor='green', alpha=0.1, label='95% conf. int.')\n",
    "\n",
    "# plt.subplots_adjust(right=0.8)\n",
    "# fig.legend(loc=(0.83,0.695), fontsize=9, frameon=False)\n",
    "# plt.show()\n",
    "\n",
    "# #plt.savefig(fname='./plots/psd_plots/psd_'+adcp+'_w_'+t_stamp+'.pdf',format='pdf')"
   ]
  },
  {
   "cell_type": "code",
   "execution_count": null,
   "metadata": {
    "ExecuteTime": {
     "end_time": "2021-02-11T00:30:53.795252Z",
     "start_time": "2021-02-11T00:30:53.372Z"
    },
    "code_folding": [
     0
    ],
    "deletable": false,
    "editable": false,
    "run_control": {
     "frozen": true
    }
   },
   "outputs": [],
   "source": [
    "# spectrograms for w (run horizontal, first)\n",
    "\n",
    "# spectro_w = worig[:,d_idx]                 \n",
    "# spectro_w -= np.nanmean(worig[:,d_idx])       # remove mean for spectrogram\n",
    "\n",
    "# # get spectrogram\n",
    "# spectro_w_f, spectro_w_t, spectro_w_Sxx = sig.spectrogram(spectro_w, fs_x, window=window_x, \\\n",
    "#                                                     nperseg = 256, noverlap = 128, return_onesided=True)\n",
    "# # 'whiten' spectrogram (flatten it) by multiplying Sxx by frequency**2\n",
    "# Sxx_w_white = np.copy(spectro_w_Sxx)\n",
    "# for i in range(len(spectro_w_t)):\n",
    "#     Sxx_w_white[:,i] = Sxx_w_white[:,i]*(spectro_w_f**2)"
   ]
  },
  {
   "cell_type": "code",
   "execution_count": null,
   "metadata": {
    "ExecuteTime": {
     "end_time": "2021-02-11T00:30:53.797004Z",
     "start_time": "2021-02-11T00:30:53.373Z"
    },
    "code_folding": [
     0
    ],
    "deletable": false,
    "editable": false,
    "run_control": {
     "frozen": true
    }
   },
   "outputs": [],
   "source": [
    "# plot w spectrograms\n",
    "\n",
    "# fig, ax = plt.subplots(1, 1, figsize=(10,5), sharex=True, sharey=True)\n",
    "# fig.text(0.5, 0.915, f'$w$ Spectrogram - {name} (-{d_stamp} m) - {t_stamp}', ha='center', fontsize=12)\n",
    "# fig.text(0.06, 0.5, 'Frequency [Hz]', va='center', rotation='vertical')\n",
    "# fig.text(0.86, 0.5, '$S_{xx}$ [$(m/s)^2*Hz$]', va='center', rotation='vertical')\n",
    "# fig.text(0.5, 0.04, f'Months in {t_stamp} [mm]', ha='center')\n",
    "\n",
    "# im = ax.pcolormesh(spectro_time_axis, spectro_w_f/3600, Sxx_w_white, rasterized=True, \\\n",
    "#                     norm=colors.LogNorm(vmin=1e-6, vmax=5e-3), cmap='hot')  \n",
    "# cbar = fig.colorbar(im, ax=ax, fraction=0.05, pad=0.01, aspect=40, extend='both')\n",
    "\n",
    "# ax.set_yscale('log')\n",
    "# date_form = pldates.DateFormatter(\"%m\")\n",
    "# ax.xaxis.set_major_formatter(date_form)\n",
    "# ax.set_xlim(start_date,end_date)\n",
    "# #ax.set_xlim(pd.datetime(2018,1,1),pd.datetime(2019,1,1))\n",
    "\n",
    "# ax.axhline(4.472e-5, color ='lime',ls='--',lw=0.8,label = \"$M_4$ = 4.47e-5 Hz\")\n",
    "# ax.axhline(3.968e-5, color ='orange',ls='--',lw=0.8,label = \"$fM_2$ = 3.97e-5 Hz\")\n",
    "# ax.axhline(2.236e-5, color ='gold',ls='--',lw=0.8,label = \"$M_2$ = 2.24e-5 Hz\")\n",
    "# ax.axhline(1.732e-5, color ='cyan',ls='--', lw=0.8,label = \"$f$ = 1.73e-5 Hz\") \n",
    "# ax.axhline(1.161e-5, color ='lawngreen',ls='--',lw=0.8,label = \"$K_1$ = 1.16e-5 Hz\") \n",
    "\n",
    "# plt.subplots_adjust(right=0.84)\n",
    "# fig.legend(loc=(0.82,0.75), framealpha=0.8, facecolor='whitesmoke', fontsize=9, frameon=False)\n",
    "# plt.show()\n",
    "\n",
    "# plt.savefig(fname='./plots/spectro_plots/spectro_'+adcp+'_w_'+d_stamp+'_'+t_stamp+'.pdf',format='pdf')"
   ]
  },
  {
   "cell_type": "code",
   "execution_count": null,
   "metadata": {
    "ExecuteTime": {
     "end_time": "2021-02-11T00:30:53.798564Z",
     "start_time": "2021-02-11T00:30:53.375Z"
    },
    "code_folding": [
     0
    ],
    "deletable": false,
    "editable": false,
    "run_control": {
     "frozen": true
    }
   },
   "outputs": [],
   "source": [
    "# plot w velocities\n",
    "\n",
    "# fig, (ax1,ax2,ax3) = plt.subplots(3,1,figsize=(10,8),sharex=True,sharey=True)\n",
    "# fig.subplots_adjust(hspace = 0.08,wspace = 0.05)\n",
    "# fig.text(0.5, 0.92, f'$w$ velocity profile - {name} - {t_stamp}', ha='center', fontsize=12)\n",
    "# fig.text(0.06, 0.5, 'Depth [m]', va='center', rotation='vertical')\n",
    "# fig.text(0.123, 0.887, 'original (cleaned)', va='center')\n",
    "# fig.text(0.123, 0.623, 'low-pass (mean currents)', va='center')\n",
    "# fig.text(0.123, 0.360, 'residual', va='center')\n",
    "# fig.text(0.94, 0.5, 'Velocity [m/s]', va='center', rotation='vertical')\n",
    "# fig.text(0.5, 0.06, f'Months in {t_stamp} [mm]', ha='center')\n",
    "\n",
    "# im1 = ax1.pcolormesh(time, -depth, worig.T, rasterized=True, cmap='RdBu_r', vmin=-0.02, vmax=0.02)\n",
    "# im2 = ax2.pcolormesh(time, -depth, wlp.T, rasterized=True, cmap='RdBu_r', vmin=-0.02, vmax=0.02)\n",
    "# im3 = ax3.pcolormesh(time, -depth, whp.T, rasterized=True, cmap='RdBu_r', vmin=-0.02, vmax=0.02)\n",
    "# cbar1 = fig.colorbar(im1, ax=ax1, fraction=0.05, pad=0.01, aspect=40, extend='both')\n",
    "# cbar2 = fig.colorbar(im2, ax=ax2, fraction=0.05, pad=0.01, aspect=40, extend='both')\n",
    "# cbar3 = fig.colorbar(im3, ax=ax3, fraction=0.05, pad=0.01, aspect=40, extend='both')\n",
    "\n",
    "# if adcp == 'Slope':\n",
    "#     ax1.set_ylim(-380,-13)\n",
    "# elif adcp == 'Axis':\n",
    "#     ax1.set_ylim(-970,-336)\n",
    "# elif adcp == 'Axis55':\n",
    "#     ax1.set_ylim(-970,-336)\n",
    "\n",
    "# date_form = pldates.DateFormatter(\"%m\")\n",
    "# ax3.xaxis.set_major_formatter(date_form)\n",
    "# ax3.set_xlim(start_date,end_date)\n",
    "# #ax3.set_xlim(pd.datetime(2018,1,1),pd.datetime(2019,1,1))\n",
    "# ax3.xaxis.set_major_locator(plt.MaxNLocator(6))\n",
    "\n",
    "# plt.show()\n",
    "\n",
    "# plt.savefig(fname='./plots/vel_plots/vel_w_'+adcp+'_'+t_stamp+'.pdf',format='pdf')"
   ]
  }
 ],
 "metadata": {
  "kernelspec": {
   "display_name": "Python 3",
   "language": "python",
   "name": "python3"
  },
  "language_info": {
   "codemirror_mode": {
    "name": "ipython",
    "version": 3
   },
   "file_extension": ".py",
   "mimetype": "text/x-python",
   "name": "python",
   "nbconvert_exporter": "python",
   "pygments_lexer": "ipython3",
   "version": "3.7.7"
  },
  "toc": {
   "base_numbering": 1,
   "nav_menu": {},
   "number_sections": true,
   "sideBar": true,
   "skip_h1_title": false,
   "title_cell": "Table of Contents",
   "title_sidebar": "Contents",
   "toc_cell": false,
   "toc_position": {
    "height": "calc(100% - 180px)",
    "left": "10px",
    "top": "150px",
    "width": "165px"
   },
   "toc_section_display": true,
   "toc_window_display": true
  },
  "varInspector": {
   "cols": {
    "lenName": 16,
    "lenType": 16,
    "lenVar": 40
   },
   "kernels_config": {
    "python": {
     "delete_cmd_postfix": "",
     "delete_cmd_prefix": "del ",
     "library": "var_list.py",
     "varRefreshCmd": "print(var_dic_list())"
    },
    "r": {
     "delete_cmd_postfix": ") ",
     "delete_cmd_prefix": "rm(",
     "library": "var_list.r",
     "varRefreshCmd": "cat(var_dic_list()) "
    }
   },
   "oldHeight": 365,
   "position": {
    "height": "387px",
    "left": "1140px",
    "right": "20px",
    "top": "69px",
    "width": "300px"
   },
   "types_to_exclude": [
    "module",
    "function",
    "builtin_function_or_method",
    "instance",
    "_Feature"
   ],
   "varInspector_section_display": "block",
   "window_display": false
  }
 },
 "nbformat": 4,
 "nbformat_minor": 2
}
